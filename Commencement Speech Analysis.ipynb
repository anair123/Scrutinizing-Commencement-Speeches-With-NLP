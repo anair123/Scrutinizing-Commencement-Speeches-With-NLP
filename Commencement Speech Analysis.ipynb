{
 "cells": [
  {
   "cell_type": "code",
   "execution_count": 1,
   "metadata": {},
   "outputs": [],
   "source": [
    "import pandas as pd\n",
    "import numpy as np\n",
    "import requests\n",
    "from bs4 import BeautifulSoup"
   ]
  },
  {
   "cell_type": "markdown",
   "metadata": {},
   "source": [
    "# Introduction"
   ]
  },
  {
   "cell_type": "markdown",
   "metadata": {},
   "source": [
    "What goes behind a commencement speech given to a graduating class? Can we classify the speeches by the common takeaway messages given to the audience by the speakers? Do orators opt for a positive delivery or chose to deliver their speeches in a more solemn and serious tone? In this project, we unearth the nature of commencement speeches with NLP techniques."
   ]
  },
  {
   "cell_type": "markdown",
   "metadata": {},
   "source": [
    "### Data Scraping"
   ]
  },
  {
   "cell_type": "markdown",
   "metadata": {},
   "source": [
    "For this study, the transcripts of commencement speeches are collected with the BeautifulSoup library. To be thorough, speeches will be collected from people of all walks of life. These people in theory will give their speeches with different deliveries and use of language. They will also relay their own unique message. This project examines speeches delivered by politicians, actors, athletes, authors, and other famous personalities. "
   ]
  },
  {
   "cell_type": "code",
   "execution_count": 2,
   "metadata": {},
   "outputs": [],
   "source": [
    "df = pd.DataFrame(columns = ['Year', 'Name', 'Speech'])"
   ]
  },
  {
   "cell_type": "code",
   "execution_count": 3,
   "metadata": {},
   "outputs": [],
   "source": [
    "name = []\n",
    "speech = []"
   ]
  },
  {
   "cell_type": "markdown",
   "metadata": {},
   "source": [
    "### Donald Trump"
   ]
  },
  {
   "cell_type": "code",
   "execution_count": 4,
   "metadata": {},
   "outputs": [],
   "source": [
    "year1 = 2018\n",
    "name1 = 'Donald Trump'\n",
    "url1 = 'https://time.com/4778240/donald-trump-liberty-university-speech-transcript/'\n",
    "name.append(name1)"
   ]
  },
  {
   "cell_type": "code",
   "execution_count": 5,
   "metadata": {},
   "outputs": [],
   "source": [
    "page1 = requests.get(url1).text\n",
    "soup1 = BeautifulSoup(page1, 'html.parser')\n",
    "body1= soup1.find_all('p')[1:-1]\n"
   ]
  },
  {
   "cell_type": "code",
   "execution_count": 6,
   "metadata": {},
   "outputs": [
    {
     "data": {
      "text/plain": [
       "'Thank you very much, everybody. And congratulations to the class of 2017. That’s some achievement. This is your day and you’ve earned every minute of it. And I’m thrilled to be back at Liberty University. I’ve been here, this is now my third time. And we love setting records, right? We always set records. We have to set records, we have no choice. It’s been a little over a year since I’ve spoken on your beautiful campus and so much has changed. Right here, the class of 2017, dressed in cap and gown, graduating to a totally brilliant future. And here I am standing before you as president of the United States. So I’m guessing there are some people here today who thought that either one of those things, either one, would really require major help from God. Do we agree? And we got it. (APPLAUSE) But here we are celebrating together on this very joyous occasion. And there is no place in the world I’d rather be to give my first commencement address as president than here with my wonderful friends at Liberty University. (APPLAUSE) And I accepted this invitation a long time ago. I said to Jerry that I’d be there, and when I say something I mean it. (APPLAUSE) I want to thank President Jerry Falwell and his incredible wife, Becky — stand up, Becky — for their kind words, their steadfast support, and their really wonderful friendship. (APPLAUSE) Let me also extend our appreciation to the entire Falwell family, Trey, Sarah, Wesley, Laura and Caroline. Thank you for everything you do to make this university so exceptional, one of the truly great, great schools. Most importantly to our new graduates, each of you should take immense pride in what you have achieved. There’s another group of amazing people we want to celebrate today and they are the ones who have made this journey possible for you. And you know who that is? Nobody, you forgot already. You’re going to go out, you’re going to do whatever you’re going to do, some are going to make a lot of money, some are going to be even happier doing other things. They’re your parents and your grandparents, don’t forget them. (APPLAUSE) You haven’t forgotten yet, have you? Never, ever forget them, they’re great. And especially this weekend, let’s make sure we give a really extra special thanks to the moms. (APPLAUSE) Don’t forget our moms, because graduates, today is your day. Today is your day. But in all of this excitement don’t forget that tomorrow is Mother’s Day, right? I had a great mother, she’s looking down now, but I had a great mother. I always loved Mother’s Day. We’re also deeply honored to be joined by some of the nearly 6,000 service members, military veterans and military spouses who are receiving their diplomas today. Will you please stand? Please stand. (APPLAUSE) Wow, that’s great. Thank you very much, great job. We’re profoundly grateful to every single one of you who sacrifice to keep us safe and protect God’s precious gift of freedom. It is truly a testament to this university and to the values that you embrace that your graduating class includes so many patriots who have served our country in uniform. Thank you very much. To the class of 2017, today you end one chapter, but you are about to begin the greatest adventure of your life. Just think for a moment of how blessed you are to be here today at this great, great university, living in this amazing country, surrounded by people who you love and care about so much. Then ask yourself, with all of those blessings and all of the blessings that you’ve been given, what will you give back to this country and indeed to the world? What imprint will you leave in the sands of history? What will future Americans say we did in our brief time right here on earth? Did we take risks? Did we dare to defy expectations? Did we challenge accepted wisdom and take on established systems? I think I did, but we all did and we’re all doing it. Or did we just go along with convention, swim downstream so easily with the current and just give in because it was the easy way, it was the traditional way or it was the accepted way? Remember this, nothing worth doing ever, ever, ever came easy. Following your convictions means you must be willing to face criticism from those who lack the same courage to do what is right. And they know what is right, but they don’t have the courage or the guts or the stamina to take it and to do it. It’s called the road less traveled. I know that each of you will be a warrior for the truth, will be a warrior for our country and for your family. I know that each of you will do what is right, not what is the easy way, and that you will be true to yourself and your country and your beliefs. In my short time in Washington I’ve seen firsthand how the system is broken. A small group of failed voices who think they know everything and understand everyone want to tell everybody else how to live and what to do and how to think. But you aren’t going to let other people tell you what you believe, especially when you know that you’re right. (APPLAUSE) And those of you graduating here today, who have given half-a- million hours of charity last year alone, unbelievable amount of work and charity, and few universities or colleges can claim anything even close, we don’t need a lecture from Washington on how to lead our lives. I’m standing here looking at the next generation of American leaders. There may very well be a president or two in our midst. Anybody think they’re going to be president? Raise your hand. (APPLAUSE) In your hearts are inscribed the values of service, sacrifice and devotion. Now you must go forth into the world and turn your hopes and dreams into action. America has always been the land of dreams because America is a nation of true believers. When the pilgrims landed at Plymouth they prayed. When the Founders wrote the Declaration of Independence, they invoked our creator four times, because in America we don’t worship government, we worship God. (APPLAUSE) That is why our elected officials put their hands on the Bible and say, “so help me God” as they take the oath of office. It is why our currency proudly declares, “in God we trust.” And it’s why we proudly proclaim that we are one nation under God, every time we say the Pledge of Allegiance. (APPLAUSE) The story of America is the story of an adventure that began with deep faith, big dreams and humble beginnings. That is also the story of Liberty University. When I think about the visionary founder of this great institution, Reverend Jerry Falwell Senior, I can only imagine how excited he would be if he could see all of this and all of you today, and how proud he would be of his son and of his family. In just two days we will mark the 10th anniversary of Reverend Falwell’s passing. And I used to love watching him on television, hearing him preach. He was a very special man. He would be so proud, not just at what you’ve achieved, but of the young men and women of character that you’ve all become. And, Jerry, I know your dad is looking down on you right now and he is proud, he is very proud. So congratulations on a great job, Jerry. (APPLAUSE) Reverend Falwell’s life is a testament to the power of faith to change the world. The inspiring legacy that we see all around us in this great stadium — this is a beautiful stadium and it is packed. I’m so happy about that. I said, how are you going to fill up a place like that? It is packed, Jerry. In this beautiful campus and in your smiling faces, but it all began with a vision. That vision was of a world-class university for evangelical Christians. And I want to thank you because, boy, did you come out and vote, those of you that are old enough, in other words your parents. Boy, oh, boy, you voted, you voted. (APPLAUSE) No doubt many people told him his vision wasn’t possible, and I am sure they continued to say that so long after he started, at the beginning with just 154 students. But the fact is, no one has ever achieved anything significant without a chorus of critics standing on the sidelines explaining why it can’t be done. Nothing is easier or more pathetic than being a critic, because they’re people that can’t get the job done. But the future belongs to the dreamers, not to the critics. The future belongs to the people who follow their heart no matter what the critics say, because they truly believe in their vision. At Liberty, your leaders knew from the very beginning that a strong athletic program would help this campus grow so that this school might transform more lives. That is why a crucial part of Reverend Falwell’s vision for making Liberty a world-class institution was having a world-class football team, much like the great teams of Notre Dame, great school, great place. In fact, Vice President Mike Pence is there today doing a fabulous job, as he always does. (APPLAUSE) A few years ago, The New York Times even wrote a story on the great ambitions of the Liberty Flames. That story prompted a longtime president of another school to write a letter to Jerry. It’s a letter that Reverend Falwell would have been very, very pleased to read. Jerry tells me that letter now hangs in the wall in the boardroom of your great university. It came from the late Father Theodore Hesper, who was the beloved president of the University of Notre Dame 35 years ago. Like this school’s founder, he was a truly kindhearted man of very, very deep faith. In the letter, Father Hesper recalled that Notre Dame’s own meteoric rise from a small Midwestern school to a national football powerhouse. And then he wrote something so amazing and generous. He wrote, “I think you are on that same trajectory now and I want to wish you all the best and encourage you from the starting and from being able to start very small and arriving in the big time.” Thanks to hard work, great faith and incredible devotion those dreams have come true. As of February of this year, the Liberty Flames are playing in the FBS, the highest level of competition in NCAA football. (APPLAUSE) Don’t clap, that could be tough. Don’t clap. That could be tough. I’m a little worried. I don’t want to look at some of those scores here. Jerry, you sure you know what you’re doing here? (LAUGHTER) Those other players are big and fast and strong but I have a feeling you’re going to do very well, right? From the most humble roots, you’ve become a powerhouse in both education and sports. And just wait until the world hears the football teams you’ll be playing on your schedule starting next season. President Falwell gave me a list of some of those schools, the ones you’re going to be playing 2018. Would you like me to read the names? Just came out, would you like to hear them? I’m a little bit concerned. UMass, Virginia, Auburn… Jerry, are you sure you know what you’re doing? Jerry, Auburn? (LAUGHTER) I don’t know about that, James. This could be trouble, Jerry. Rutgers, Old Dominion, Brigham Young, Army. I might be at that game, who am I supposed to root for? Tell me. I don’t know. That’s a tough one, Jerry. I don’t know, Jerry, I’m going to have to think about that one, Jerry. Buffalo, Troy, Virginia Tech. Oh no, Jerry, Ole Miss and Wake Forest, those are really top schools. Maybe in four or five years I’ll come to a game, right? You’ll build it up. (LAUGHTER) Well, good luck. The success of your athletic program arriving on the big stage should be a reminder to every new graduate of just what you can achieve when you start small, pursue a big vision and never, ever quit. You never quit. If I give you one message to hold in your hearts today, it’s this: Never, ever give up. There will be times in your life you’ll want to quit, you’ll want to go home, you’ll want to go home perhaps to that wonderful mother that’s sitting back there watching you and say, “Mom, I can’t do it. I can’t do it.” Just never quit. Go back home and tell mom, dad, I can do it, I can do it. I will do it. You’re going to be successful. (APPLAUSE) I’ve seen so many brilliant people, they gave up in life. They were totally brilliant, they were top of their class, they were the best students, they were the best of everything. They gave up. I’ve seen others who really didn’t have that talent or that ability and they’re among the most successful people today in the world because they never quit and they never gave up. So just remember that, never stop fighting for what you believe in and for the people who care about you. Carry yourself with dignity and pride. Demand the best from yourself and be totally unafraid to challenge entrenched interests and failed power structures. Does that sound familiar, by the way? The more people tell you it’s not possible, that it can’t be done, the more you should be absolutely determined to prove them wrong. Treat the word “impossible” as nothing more than motivation. Relish the opportunity to be an outsider. Embrace that label. Being an outsider is fine, embrace the label, because it’s the outsiders who change the world and who make a real and lasting difference. The more that a broken system tells you that you’re wrong, the more certain you should be that you must keep pushing ahead, you must keep pushing forward. And always have the courage to be yourself. Most importantly, you have to do what you love. You have to do what you love. I’ve seen so many people, they’re forced through lots of reasons, sometimes including family, to go down a path that they don’t want to go down, to go down a path that leads them to something that they don’t love, that they don’t enjoy. You have to do what you love or you most likely won’t be very successful at it. So do what you love. I want to recognize a friend who is here with us today, who can serve as an inspiration to us all, someone who doesn’t know the meaning of the word “quit.” Real champion, a true, true champion, both on the field, off the field. He’s a Hall of Fame quarterback for the Buffalo Bills, really a good friend of mine, an amazing guy, Jim Kelly. Where is Jim? He’s here some place. Where is Jim? Stand up, Jim. (APPLAUSE) What a great man. Jim Kelly, he was tough. Jim, do you have any idea how much money you’d be making today? They’d hit Jim, it was like tackling a linebacker. They’d hit Jim, four guys, five guys that weighed 320, and he’d just keep going down the field. He was much more than a quarterback. He had tremendous heart and he knew how to win. Jim is tough, and his toughest fight of all was that he beat cancer, not once, but twice. (APPLAUSE) And I saw him and his incredible wife as they were in a very low moment, Jill, very, very low moment. And it was amazing the way they fought. It didn’t look good. I would have said maybe, maybe it’s not going to happen. But there was always that hope because of Jim and Jim’s heart. But I want to just say it’s great to have you here today, Jim, and these people are big, big fans. (APPLAUSE) And if you can get a young version of Jim Kelly, you’ll be beating a lot of teams, Jerry. So interestingly, though, I said I wonder what Jim’s doing here? His daughter, Erin, crosses the goal line to you and today with you. So, Erin, stand up. Where are you, Erin? Where is Erin? Congratulations, Erin. Congratulations. Graduating from Liberty. Great choice, thank you. (APPLAUSE) Liberty University is a place where they really have true champions and you have a simple creed that you live by, to be, really, champions for Christ. Whether you’re called to be a missionary overseas, to shepherd a church or to be a leader in your community, you are a living witness of the gospel message, of faith, hope and love. And I must tell you, I am so proud as your president to have helped you along over the past short period of time. I said I was going to do it, and Jerry, I did it. And a lot of people are very happy with what’s taken place, especially last week. We did some very important signings, right James? Very important signings. (APPLAUSE) America is better when people put their faith into action. As long as I am your president, no one is ever going to stop you from practicing your faith or from preaching what’s in your heart. (APPLAUSE) We will always stand up for the right of all Americans to pray to God and to follow his teachings. America is beginning a new chapter. Today, each of you begins a new chapter as well. When your story goes from here, it will be defined by your vision, your perseverance and your grit. That’s a word Jim Kelly knows very well, your grit. In this, I’m reminded of another man you know very well and who has joined us here today. His name is George Rogers, Liberty University CFO and vice president for a quarter of a century. During World War II, George spent three-and-a-half years as a prisoner of war. He saw many of his fellow soldiers die during the Bataan death march. He was the victim of starvation and torture as a prisoner of war. When he was finally set free he weighed just 85 pounds and was told he would not live past the age of 40. Today, George is 98 years old. (APPLAUSE) Great. That’s so great, George. If anyone ever had reason to quit, to give in to the bitterness and anger that we all face at some point, to lose hope in God’s vision for his life, it was indeed George Rogers. But that’s not what he did. He stood up for his country, he stood up for his community. He stood up for his family and he defended civilization against a tide of barbarity, the kind of barbarity we’re seeing today and we’ve been witnessing over the last number of years. And I just want to tell you, as your president, we are doing very, very well in countering it, so you just hang in there. Things are going along very, very well. You’ll be hearing a lot about it next week from our generals. Things are going along very, very well. (APPLAUSE) Through it all, he kept his faith in God, even in the darkest depths of despair. Like so many others of his generation, George came home to a nation full of optimism and pride and began to live out the American dream. He started a family, he discovered God’s plan for him and pursued that vision with all his might, pouring his passion into a tiny college in a place called Lynchburg, Virginia. Did you ever hear of that? Lynchburg? We love it. Do you like it? We like it, right? I flew over it a little while ago. It’s amazing, actually. What started as a dream with a few good friends he helped shepherd into the largest Christian university in the world. Just look at this amazing, soaring, growing campus. And I’ve been watching it grow because I’ve been a friend of Liberty for a long time, now, Jerry. It’s been a long time. Thanks in great part George’s financial stewardship, hundreds of thousands of young hearts and souls have been enriched at Liberty and inspired by the spirit of God. George, we thank you and we salute you. And you just stay healthy for a long time, George, thank you. (APPLAUSE) Now it falls on the shoulders of each of you here today to protect the freedom that patriots like George earned with their incredible sacrifice. Fortunately, you have been equipped with the tools from your time right here on this campus to make the right decisions and to serve God, family and country. As you build good lives, you will also be rebuilding our nation. You’ll be leaders in your communities, stewards of great institutions and defenders of liberty. And you will be great mothers and fathers and grandmothers and grandfathers, loving friends and loving family members. You will build a future where we have the courage to chase our dreams no matter what the cynics and the doubters have to say. You will have the confidence to speak the hopes in your hearts and to express the love that stirs your souls. And you will have the faith to replace a broken establishment with a government that serves and protects the people. (APPLAUSE) We must always remember that we share one home and one glorious destiny, whether we are brown, black or white. We all bleed the same red blood of patriots. We all salute the same great American flag. And we are all made by the same almighty God. (APPLAUSE) As long as you remember what you have learned here at Liberty, as long as you have pride in your beliefs, courage in your convictions and faith in your God, then you will not fail. (APPLAUSE) And as long as America remains true to its values, loyal to its citizens and devoted to its creator, then our best days are yet to come. I can promise you that. (APPLAUSE) This has been an exceptional morning. It’s been a great honor for me and I want to thank you, the students. I also want to thank you, the family, for getting them there. And I want to thank and congratulate Liberty. May God bless the class of 2017. May god bless the United States of America. May God bless all of you here today. Thank you very much, thank you. Thank you. Thanks. (APPLAUSE)'"
      ]
     },
     "execution_count": 6,
     "metadata": {},
     "output_type": "execute_result"
    }
   ],
   "source": [
    "speech1 = []\n",
    "for p in body1:\n",
    "    speech1.append(p.text)\n",
    "speech1 = \" \".join(speech1)\n",
    "speech1\n",
    "speech.append(speech1)\n"
   ]
  },
  {
   "cell_type": "markdown",
   "metadata": {},
   "source": [
    "#### Mumia Abu-Jamal's Goddard"
   ]
  },
  {
   "cell_type": "code",
   "execution_count": 7,
   "metadata": {},
   "outputs": [],
   "source": [
    "year2 = 2018\n",
    "name2 = 'Mumia Abu-Jamal'\n",
    "url2 = 'https://www.prisonradio.org/media/audio/mumia/transcript-mumia-abu-jamals-goddard-college-commencement-speech'\n",
    "name.append(name2)"
   ]
  },
  {
   "cell_type": "code",
   "execution_count": 8,
   "metadata": {
    "scrolled": false
   },
   "outputs": [],
   "source": [
    "page2 = requests.get(url2).text\n",
    "soup2 = BeautifulSoup(page2, 'html.parser')\n"
   ]
  },
  {
   "cell_type": "code",
   "execution_count": 9,
   "metadata": {},
   "outputs": [],
   "source": [
    "body2 = soup2.find_all('p')[3:-3]"
   ]
  },
  {
   "cell_type": "code",
   "execution_count": 10,
   "metadata": {},
   "outputs": [
    {
     "data": {
      "text/plain": [
       "'  Dear Fellow Goddard-ites, Students, Graduates, Parents, Professors:     I thank you for your kind invitation to join you in voice today.  I’ve been away from Goddard College perhaps longer than most of you have been alive.      I last walked on campus during the late 70’s.  But although it was undoubtedly quite a long time ago, it still sits in memory, and sometimes even visits in dreams of the funky atmosphere that suffused the campus like a cloud of exhaled marijuana smoke.  What really moved me however, was the green life, the abundance of grass, trees standing like ancient sentinels.  The majestic mountains of Vermont which possessed a beauty that was, to a guy from the city, simply breathtaking.  I remember with crystal clarity walking through woods back to our dorms, Third World Studies, and feeling pure rapture in the presence of those trees.  How many centuries had those trees stood on this earth? My mind looked back to Indians who must’ve trod through these very same woods; my steps touching the ground that once crunched under their moccasined feet.  Not only have these surviving remnants of their once great numbers been vanished from the land of their fathers, but the reverence with which they held these lands, their collective embrace of Mother Earth, has been vanished as well.        That living immensity, more sacred than anything built by man, has never left me and rises up like a phoenix whenever I think of the campus.  But of course what really matters here is not my experience, but yours.  This is your commencement and as such, I will dwell on the world that you are about to enter into – in habit, and true to Goddard’s founding ideals, hopefully transform.     As we all know Goddard is rightfully famous for its non-traditional teaching methods focus.  Here students stand at the center of the educational endeavor and they are urged and expected to follow that vibe in their hearts.  That which gives them passion to determine not just what they will study, but how those studies can have impact and meaning in the larger society - Y’know, this aint a cookie cutter school.  Goddard, deeply influenced by the ideas of John Dewey (1859- 1952), strives to reach that happy and singular medium between the teacher and the taught.  With one exploring with the other how best to achieve a meaningful resolution to questions that arise in the life of the mind.  Quoting Dewey: “Education is not preparation for Life.  It is Life itself.”     Dear graduates, never have words such as these been truer to the hour that is upon us.  For the nation is in deep trouble - largely because old thinking both domestically, and globally, has led us into the morass that the nation now faces.  Which may be encapsulated by references to place names that ring in our minds:  Gaza, Ferguson, and Iraq – again!  These are some of the challenges that abide in the world, which it will be your destiny to try to analyze and resolve.  As students of Goddard you know that these challenges are not easy, but they must be faced and addressed.     The Brazilian scholar Paulo Freire, and his groundbreaking Pedagogy of the Oppressed posits the power of literacy to transform psychology, to deepen and broaden ones place in the world.  Moreover, when one seeks to interrogate ones radical beliefs, it draws one deeper into contact with the meaning of social change and social transformation.  One is changed; the prerequisite to social change.   Goddard, because of its size and orientation, has given students the time and attention to find the focus to answer questions that few other places have even dared to entertain.  In many ways it is issues such as these that make Goddard, Goddard.  Questions of power, of politics, of race, of gender, of place.  Questions about where one stands in the world, and how to move, act, interact in a world awash in complexity.  Essentially how does a young person, or for that matter even an older one, looking at the vast wide world with a quiet sense of terror have a voice amidst that monstrous din?  How does she find that voice that can create space to think? To be? To grow?     We know that it must come from the place within – that which moves you, that which stirs you.  That which is your truest, deepest self.  Goddard, unlike most such institutions of higher learning, quietly asks that you listen to and interrogate that voice, and when appropriate, amplify it. For who knows?  Within that deepest you may dwell the very voice that is resonating within the nation if not the very world itself.  Here social change and social transformation forms the raison d’etre of Goddard.     We need new questions for the world of the 21st century.  But more importantly we need new answers.  We live in a world where massive wars can be launched by rumors and innuendo.  Where the material interests of corporations are superior to the interests of working people, and remember – corporations are people - so sayeth the Supreme Court.  Where the ecological threats to fresh water supplies, clean air, and the environment in American cities, pulls challenges that seem beyond arcane.     Did I not say that we need new thinking?  The present social, political, ecological and global course is, to say the least, unsustainable.  Perhaps some of you, new graduates of Goddard, will think up ways to forestall some of the challenges facing the living and generations unborn.     I noted earlier my reverie in the woods of Goddard that exquisite freshness and the wintery air, the nighttime respiration of hundreds of magnificent evergreen trees has refreshed my mind even when miles and decades away from Goddard’s sweet cool earth. Our cities, built during the heights of the industrial age and now engulfed in post-industrial ennui badly need a greening.  Areas should be set aside where children and mothers can breathe and remember air loaded with freshness delivered by green life, not air conditioned.  Think of the myriad of problems that beset this land and strive to make it better.  That’s Dewey’s vision, and Goddard’s.     Let me say something that I’ve never said before.  When I came to Goddard, I was intimidated.  Although teachers and adults told me that I could do the work, I rarely believed them.  I felt woefully unprepared.  But guess what?  Goddard gave me confidence and I never lost that feeling.  When I returned to Goddard many years later, I was a man on Death Row, with a date to die.  I was able to transfer credits from Continuing Education and my final paper utilized the writings of Franz Fanon and Ignacio Martín Barό, to examine the concepts of both in liberation psychology and liberation theology.  Only at Goddard.  Only at Goddard!     Goddard reawakened in me my love of learning.  In my mind I left Death Row to travel to France, where Fanon studied psychiatry.  And on to Blida hospital, north of Algiers, where he practiced and later joined the Algerian revolution.  By studying Martín Barό, I traveled to El Salvador, where he worked as a priest and psychologist, teaching literacy to peasants when the nation groaned under military terror, supported by El Norte, the U.S. Empire.  Who were these figures? Well, Fanon was born in the Caribbean Island Martinique, then a colony of France.  When he witnessed the oppression of the Arabs in Algeria he felt compelled to join the revolution on the side of what he called ‘the wretched of the earth.’  Ignacio Martín Barό was among six Jesuit priests, a housekeeper and her daughter slain by the U.S. trained Atlacatl Battalion, a notorious Salvadoran death squad.     Goddard supported those “trips abroad,” if only in the mind, and I thank the school and many of my friends and alums there immensely for opening a door closed for decades.  Goddard allowed me to really study what interested and moved me – revolutionary movements, and through that doorway - history, psychology, politics, and of course economics.  In one of the most repressive environments on earth, Death Row, Goddard allowed me to study and research human liberation and anti-colonial struggles on two continents: Africa and Latin Central America.  I thank you for that grand opportunity.     For you graduates, your studies - visits to lands beyond your own - were done to give you both insights and confidence to work in the world, to try to create social change.  Your job isn’t how to get a job.  It’s to make a difference.  I thank my friends at Goddard for inviting me back.     If it’s done for you half of what it’s done for me, I assure you, you will have been well served.  Now take what you know and apply it in the real world.  Help be the change you’re seeking to make.     I thank you all.      For the class of 1996, Goddard, this is Mumia Abu-Jamal.    '"
      ]
     },
     "execution_count": 10,
     "metadata": {},
     "output_type": "execute_result"
    }
   ],
   "source": [
    "speech2 = []\n",
    "for p in body2:\n",
    "    speech2.append(p.text)\n",
    "speech2 = ' '.join(speech2)\n",
    "speech2 = speech2.replace('\\n', ' ')\n",
    "speech2 = speech2.replace('\\xa0',' ')\n",
    "speech.append(speech2)     "
   ]
  },
  {
   "cell_type": "markdown",
   "metadata": {},
   "source": [
    "#### Mike Pence"
   ]
  },
  {
   "cell_type": "code",
   "execution_count": 11,
   "metadata": {},
   "outputs": [],
   "source": [
    "year3 = 2018\n",
    "name3 = 'Mike Pence'\n",
    "url3 = 'https://www.whitehouse.gov/briefings-statements/remarks-vice-president-pence-liberty-universitys-commencement/'\n",
    "name.append(name3)"
   ]
  },
  {
   "cell_type": "code",
   "execution_count": 12,
   "metadata": {},
   "outputs": [],
   "source": [
    "page3 = requests.get(url3).text\n",
    "soup3 = BeautifulSoup(page3, 'html.parser')\n",
    "\n"
   ]
  },
  {
   "cell_type": "code",
   "execution_count": 13,
   "metadata": {},
   "outputs": [],
   "source": [
    "body3 = soup3.find_all('p')[5:-1]\n"
   ]
  },
  {
   "cell_type": "code",
   "execution_count": 14,
   "metadata": {},
   "outputs": [],
   "source": [
    "speech3 = []\n",
    "for p in body3:\n",
    "    speech3.append(p.text)\n",
    "speech3 = ''.join(speech3)\n",
    "speech3 = speech3.replace('\\n',' ')\n",
    "speech3 = speech3.replace('\\xa0',' ')\n",
    "speech.append(speech3)\n"
   ]
  },
  {
   "cell_type": "markdown",
   "metadata": {},
   "source": [
    "#### Robert F Smith"
   ]
  },
  {
   "cell_type": "code",
   "execution_count": 15,
   "metadata": {},
   "outputs": [],
   "source": [
    "year4 = 2018\n",
    "name4 = 'Robert F Smith'\n",
    "url4 = 'https://robertfsmith.org/post/118630304016/transcript-of-robert-f-smith-commencement-address'\n",
    "name.append(name4)"
   ]
  },
  {
   "cell_type": "code",
   "execution_count": 17,
   "metadata": {},
   "outputs": [],
   "source": [
    "page4 = requests.get(url4).text\n",
    "soup4 = BeautifulSoup(page4, 'html.parser')"
   ]
  },
  {
   "cell_type": "code",
   "execution_count": 18,
   "metadata": {},
   "outputs": [
    {
     "data": {
      "text/plain": [
       "'President Kerwin, Provost Bass, Dean Goldgeier, members of the faculty, distinguished guests, parents, families, friends.And the Chair of the SIS Dean’s Council, my good friend Alan Fleischmann.Please join me in congratulating the American University School of International Service class of 2015!Today, we also celebrate the women in our lives that nurtured us, challenged us to do more and be better, and taught us to do the right thing. These women are our mothers, grandmothers, aunts, friends, co-workers and mentors. These are the women that make a difference in our lives every day with big and small gestures and through the best and worst of times. Class of 2015 let’s stand and celebrate the mothers on our planet!!! [Pause]It’s magical to be here with each of you today – on this stage, in this auditorium. It was here, a little over seven years ago, that the late great Senator Ted Kennedy and his niece, now Ambassador Caroline Kennedy, endorsed a young Senator from Illinois for the presidency, providing crucial support at a critical moment in the campaign. That moment spurred the momentum that carried Barack Obama to the White House. President Obama’s victory was particularly meaningful to me. I grew up in Denver, the second son of two parents with PhD’s in what had just become a newly desegregated America. As a child, I would come to Washington, DC, to visit my grandparents in the summers.  My grandfather made a career in the US Postal Service but when he was in his late teens, he had once worked in the United States Congress in the Senate Lounge, where he checked hats and coats and poured coffee and tea for Senators and other dignitaries. Many years later, my grandfather and I decided to attend President Obama’s first inauguration ceremony.  At age 93 he walked over 4 hours that day, to and from the ceremony with a great smile and without complaint.  As we sat there on that frigid January morning, as guests of Senator Ted Kennedy, our breath smoking in the chilly winter’s cold, my granddad told me the story of another inauguration he’d witnessed, decades before – that of Franklin Delano Roosevelt. He pointed up to a window, with a small American flag draped just below it, and from our angle it was just above where President-Elect Obama would stand to take his oath … my grandfather recalled looking out the very window from a perch in the Capitol Dome, his gaze spilling onto the huddled masses who’d come to view history. ## As he did, a fact dawned on my grandfather, the same lamentable fact that would have dawned on millions of other Americans at the time struggling for their right to be full citizens in this country: Aside from his own, there was not a single black face in sight. My grandfather’s words poured over me – poured over us – as we sat there shivering, about to watch the first African American president take the oath of office. What struck me that morning was not how much the world had changed since FDR’s inauguration, or the accelerating pace of change. [Look….having spent my career at the intersection of finance and technology, I’d become accustomed to warp speed transformations and mind-blowing change.] What I marveled at that day in Washington was how Barack Obama had the courage to, in the timeless words of another Kennedy, the late Senator and Attorney General Robert F. Kennedy, “imagine things that never were, and ask, ‘Why not?’” What IS true is that we are only bound by the limits of our own conviction. We can transcend the script of a pre-defined story, and pave the way for the future that we design. We just need tap that power, that conviction, that determination within us. As I look out upon you, the class of 2015, I see before me SIS’ tradition of diversity on stunning display. I see graduates from more than a hundred different countries, and every continent. I see different religions, different academic interests, and different plans for the future.But the thing that unites you all, the common glue in this stunning sea of diversity, is your instinct to serve, your shared understanding that you have a unique role to play in the world. To effect change and live the ethic of service that is built into this school’s DNA, you must bridge who you are with who you can be by running your own race. Let me tell you what I mean, as I share the story of a famous racehorse: Secretariat. 42 years ago next month, Secretariat galloped to victory at the Belmont Stakes, capturing the final leg of the Triple Crown and becoming the first horse in 25 years to achieve one of sport’s most difficult feats. Secretariat, a 3-year-old thoroughbred, captured the hearts and minds of a nation…even as 10-year-old boy growing up in Colorado, I was captivated by this horse’s story.Having won the Kentucky Derby and the Preakness, Secretariat was favored to win the Belmont stakes…even though it is the longest of the races, and many felt he was just a sprinter….not built for longer distances. Secretariat opened the race by exploding out of the gate and began driving himself forward to command an enormous lead on the field that kept growing with every stride. He was not looking to the right or to the left at his challengers…. Instead, that great thoroughbred was looking straight ahead.  Even when he was 28 lengths ahead he kept surging forward….. Racing against himself. Running his own race.By the time Secretariat crossed the finish line, he was a full 31 lengths in front of the second-place finisher. There’s a lesson in that story. And to me, the lesson is this: There is no greater test of ourselves, and no greater reward, than competing with our own potential. It is incumbent upon all of you - Class of 2015 – to run your own race:When I talk about running your own race, what do I mean? Well, everyone’s formula is going to be different. The best way I can explain it to you is by drawing on my own experience, and illustrating the ways in which I’ve tried to run my own race at different points in my life and career.Dreaming BigSo, to me, first and foremost, running your own race means dreaming big. And here, I’m called back to my childhood, when I was just starting school.The Supreme Court had just ruled that public school districts could pursue desegregation by using forced busing to achieve racial balance in their schools. In fact, I started my education as a first grader being bussed to a school across town. Although I was a live subject in one of the nation’s most controversial legal debates, I frankly didn’t really know what the big deal was about – the kids who didn’t look like me sure acted like me.But desegregation sure was a big deal to my parents. Leaders of their generation knew change was the right thing to do, even though they often met with resistance, sometimes violent resistance.Because of their struggle, their sacrifice for education, I had received the gift to dream big. I knew my history. I remembered the pride of my mother telling me how she had brought my brother and me back to Washington, DC, and held us close, me at  nine-month-old during the March on Washington while Dr. Martin Luther King, Jr., laid out his dream for an equal, harmonious, and meritocratic America. Dreaming big to me meant knowing my history, but not being bound by it. It meant harnessing the past to drive me into the future. It meant grounding myself in who I was and where I came from so I could soar into who I wanted to become.Challenging Yourself and the Virtue of PersistenceSo, to me, the first part of running your own race is dreaming big. The second part is about challenging yourself and being persistent.As a junior at Denver East High School, I remember taking a computer science course and becoming transfixed when our teacher told us about transistors, which are the building blocks of computers.Transistors were invented at Bell Labs, which had a facility about 20 miles from our home. After that lesson, which was in January, I dug up the phone number for Bell Labs to ask about summer internships. They said I could apply if I were a junior or senior in college. I said that was fantastic, because, while I was only a junior in high school, I was getting A’s in computer science and my advanced math courses, so it was like I was in college. Much to my dismay, they disagreed. I called back every day for two weeks straight.  The HR director stopped taking the calls after the second day but….I left a message with my phone number.  Then I called every Monday for about 5 months, and every Monday the receptionist chuckled and took a message. I kept at it. To my great surprise, Bell Labs HR Director finally called me back - in June. An intern from MIT hadn’t shown up, and they needed someone fast. While I know I was the most highly qualified candidate they would ever fine, the truth is that the reason I probably got the job is because they didn’t have a valid phone number for anyone else: All the college applicants had already gone home for the summer – which meant Bell Labs had no way to contact them in the age before cellphones and answering machines!!! The reason Bell Labs even thought to call me was because I called every day telling them why they should hire me, even though they said they couldn’t. I ran my own race. I knew what I wanted, and my persistence paid off and I came in and interviewed. They liked me, and I got the internship. In fact I worked there for the next four years during summer and winter breaks and as a co-op student before I graduated with an Engineering degree from Cornell.Discovering the Joy of Figuring Things OutThat’s where the third part of running your own race comes into play – about discovering the joy of figuring things out.When I got to Bell Labs, I officed with  a PhD in chemical engineering, one of the Distinguished Members of the Technical Staff, a man who had many patents to his name and who would become one of my first mentors.On my first day at work, once settled into his office as his office mate…..this great man turned to me and posed a challenge. He held up a semiconductor chip and said, “This is an operational amplifier that seems to be failing in the field in our Merlin system. You need to figure out why it is failing so we can determine how to fix it. Let me know if you have any questions.” Then he went back to work. You see, unlike today’s technically sophisticated High School students, I had never heard of an operational amplifier before in my life. I had no idea what they are supposed to do, how they do it, why this one wasn’t doing it let alone how you fix it. So what did I do? Well, in a time before Google and Wikipedia I went to the library, I asked questions of everyone who would stop and talk to me, and I learned everything I possibly could about operational amplifiers.  By the end of the summer, not only did I have an idea about why it wasn’t working, I had built a system to simulate the conditions in the field that caused them to fail….and then, with my mentor’s help, we figured out how to fix them.  My guess is, even today I still may have more knowledge about the inner workings of operational amplifiers than any intern in Bell Labs history. The challenge from my mentor did more than teach me something about an obscure integrated computer circuit. It provided a lesson that I have valued ever since, a gift from which I continue to reap rich dividends. Through his challenge, I learned not to fear complex problems, but to embrace them; to not fret about what you don’t know, but to go learn more. That lesson, that joy of discovery, is a message I want to impart on you today. As you finish your studies and move out into the world: Discover the joy of figuring things out. Listening to Your Own VoiceAnd as you take on new challenges, listen to your own voice. Running your own race demands trusting yourself even when others don’t. Because guess what, lots of people – good people, people you trust and love, and who love you, mentors, your family, those who want the best for you and want to protect you – many of these people will think some of the things you want to do….are crazy.When I left my steady engineering job at Kraft to go to business school, my parents and my grandfather thought I was crazy.When I finished business school and decided to join the tumultuous world of investment banking, my family and friends spoke up with concerns about my sanity.. When I left my post at Goldman Sachs just after we had gone public to set up Private Equity Firm called Vista Equity Partners…my mentors and colleagues  at Goldman thought I had lost it!!!Well, when they further found out that Vista would invest exclusively in enterprise software, which was counter to every other firm’s strategy of spreading risk across sectors  and I would hire a team of smart, hungry young people with no real experience in private equity themselves - every one I knew I was certifiable!!!! And I did this….in the spring of 2000.Well….. I was never mad at those folks, in fact I’m grateful for their advice and concern. In their caution, I found my courage. In their doubts, I found my resolve. In their warnings, I found my voice and chartered my own journey.  I’m proud of the Vista story. We take risks. We do things differently. We listen to our own voice.And it has worked. We are now considered to be the #1 private equity firm on the globe and have been so for the last decade. This might seem like a charming story, a one in a million play that somehow turned out right. But I’m convinced that Vista’s approach is quickly shifting from exception to rule, from option to necessity as the world races ahead.Racing and Embracing ChangeThat changing world has important implications for you. To distinguish yourself today, you have to run toward change, not away from it. You have to embrace change, not shirk from it. Running your own race means embracing the rapid change that characterizes our modern world. The world we inhabit today is fundamentally different from the one we lived in when I was your age. Consider an example. When I was in college, the new big thing on campus was ATM machines. Think about it…your parents could deposit money in your account at home and you could take it out without even having to call them with a story of how you NEEDED the money!!!  Well, how could we trust these new machines….so…I kept all my receipts because I was worried the bank would lose a dollar or two in every transaction. Now, you deposit and transfer money by tapping a button on your smart phone. End of story. No worries.But that’s a small example. Think about it: The world is changing so rapidly that the dynamic of change itself has changed. Words, thoughts, and ideas now move at the speed of light to everyone on the planet. The dynamic of human intention can impact millions in seconds… and billions in minutes.So, what does this mean for you? It means that the purity of your intention, the integrity of your purpose, has the utmost importance not only for you, but for everyone around you, including billions of people you’ve never met. Your every action and intention reverberates across the world, joining with other reverberations to form a seismic wave of impact. Your intentions have to be thought through, because their implications ricochet around our world at the speed of light.This has profound significance for what you will need to succeed. The pace of change in the world today demands originality. It demands that you run your own race. That you look ahead, not behind. Convention won’t cut it anymore. To succeed, you need to step up and be original, to overcome fear and not escape it.And as leaders, you’ll need a system of support to gather and analyze information, and help you make difficult decisions. You have to prepare yourself and your colleagues for the new normal of accelerated change, to anticipate shifts before they occur, to lead our world as it rapidly evolves.Recognizing You Are EnoughBut the single most important part of succeeding today – the single most important part of running and winning your own race –is recognizing that you are enough and that you are an original. “You are enough” does not mean that you should not have humility - what it means is that you have a destiny.I’m here to tell you that, by virtue of your being here today, by virtue of walking across that stage – you are enough.Because of your time and the foundation you have received at SIS, you are enough to lead in a new way, to design elegant solutions to the world’s biggest, most complex challenges. You have the instinct to serve, and the skills to succeed. In fact, you have skills across a number of areas. Don’t separate these skills; integrate them. The future will be written by those who integrate their whole being. That’s a big part of your challenge as you leave here today.Call To Action: Being The Ripple Of HopeI’ve taken you through what I have found to be the most important parts of running your own race:  Dreaming big; Now that you’ve got the recipe, here’s my call to action. Use your skills, your knowledge, your instincts to serve - to go change the world in the way that only you can. Grab hold of your noble intentions and let them expand into the universe of action. A life contained is no life at all….You are enough to create ripples of change that bend the arc of humanity closer to justice. With the events that unfolded in Baltimore two weeks ago – just 38 miles away – it is clear that now more than ever, reaching your potential…no matter who you are and where you come from…matters not only to you, but to all of us. In 1966, Senator Robert F. Kennedy visited South Africa and made a powerful speech about the injustice of apartheid. Rather than deliver a discourse of despair, Senator Kennedy used his words to invoke the power embedded in every human spirit… the power we all have within us to shape our world for the better. As he put it:  Senator Kennedy’s words echo across the ages and ring as true today as they did in 1966. With the transmission of technology, and the rapidity of change, your ripple moves far more quickly in today’s world than it did back then. Every intention, every action, every word counts. Your journey matters.At the reception at the School of International Service following today’s ceremony, each of you will receive a copy of Bobby Kennedy’s Ripple of Hope speech as a gift from me. I want you to frame it. Learn it. Live it. Remember, you are enough. In fact, you are everything. We need you, we are counting on you, as each of you is one of a kind. And let the race you run become a ripple of hope that cascades out into humanity, a symbol of hope and strength for the world.Thank you very much for having me today. Please join me in congratulating the class of 2015!'"
      ]
     },
     "execution_count": 18,
     "metadata": {},
     "output_type": "execute_result"
    }
   ],
   "source": [
    "body4 = soup4.find_all('p')[1:-9]\n",
    "speech4 = []\n",
    "for p in body4:\n",
    "    speech4.append(p.text)\n",
    "speech4 = ''.join(speech4)\n",
    "speech4 = speech4.replace('\\n',' ')\n",
    "speech4 = speech4.replace('\\xa0',' ')\n",
    "\n",
    "speech.append(speech4)\n"
   ]
  },
  {
   "cell_type": "markdown",
   "metadata": {},
   "source": [
    "#### Conan O Brien"
   ]
  },
  {
   "cell_type": "code",
   "execution_count": 19,
   "metadata": {},
   "outputs": [],
   "source": [
    "year5 = 2018\n",
    "name5 = 'Conan O Brien'\n",
    "url5 = 'https://teamcoco.com/content/watch-conan-give-dartmouth-college-commencement-address'\n",
    "name.append(name5)"
   ]
  },
  {
   "cell_type": "code",
   "execution_count": 20,
   "metadata": {},
   "outputs": [],
   "source": [
    "page5 = requests.get(url5).text\n",
    "soup5 = BeautifulSoup(page5, 'html.parser')\n"
   ]
  },
  {
   "cell_type": "code",
   "execution_count": 21,
   "metadata": {},
   "outputs": [
    {
     "data": {
      "text/plain": [
       "'Before I begin, I must point out that behind me sits a highly admired President of the United States and decorated war hero while I, a cable television talk show host, has been chosen to stand here and impart wisdom.  I pray I never witness a more damning example of what is wrong with America today.Graduates, faculty, parents, relatives, undergraduates, and old people that just come to these things ----Good morning and congratulations to the Dartmouth Class of 2011.  Today, you have achieved something special ----- something only 92 percent of Americans your age will ever know:  a college diploma.   That’s right, with your college diploma you now have a crushing advantage over 8 percent of the workforce.  I’m talking about dropout losers like Bill Gates, Steve Jobs, and Mark Zuckerberg.   Incidentally, speaking of Mr. Zuckerberg, only at Harvard would somebody have to invent a massive social network just to talk with someone in the next room.My first job as your commencement speaker is to illustrate that life is not fair.  For example, you have worked tirelessly for four years to earn the diploma you’ll be receiving this weekend, and Dartmouth is giving me the same degree for interviewing the fourth lead in Twilight.  Deal with it.  Another example that life is not fair: if it does rain, the powerful rich people on stage get the tent. Deal with it.I would like to thank President Kim for inviting me here today.  After my phone call with President Kim, I decided to find out a little bit about the man.  He goes by President Kim and Dr. Kim.  To his friends, he’s Jim Kim, J to the K, Special K, JK Rowling, the Just Kidding Kimster, and most puzzling, “Stinky Pete.”  He served as the chair of the Department of Global Health and Social Medicine at Harvard Medical School, spearheaded a task force for the World Health Organization on Global Health Initiatives, won a MacArthur Genius Grant and was one of Time Magazine’s 100 Most Influential People in 2006.  Good God, man, what the hell are you compensating for?  Seriously.  We get it; you’re smart.  By the way Dr. Kim, you were brought to Dartmouth to lead, and as a world-class anthropologist, you were also hired to figure out why each of these graduating students ran around a bonfire 111 times.  But I thank you for inviting me, Stinky Pete, and it is an honor to be here.   Though some of you may see me as a celebrity, you should know that I once sat where you sit.  Literally.  Late last night I snuck out here and sat in every seat.  I did it to prove a point ---- I am not bright and I have a lot of free time.But this is a wonderful occasion and it is great to be here in New Hampshire, where I am getting an honorary degree and all the legal fireworks I can fit in the trunk of my car. New Hampshire is such a special place.   When I arrived I took a deep breath of this crisp New England air and thought, “Wow, I’m in the state that’s next to the state where Ben and Jerry’s ice cream is made.”  But don’t get me wrong, I take my task today very seriously.  When I got the call 2 months ago to be your speaker, I decided to prepare with the same intensity many of you have devoted to an important term paper.  So late last night, I began.  I drank two cans of Red Bull, snorted some Adderall, played a few hours of Call of Duty, and then opened my browser.  I think Wikipedia put it best when they said “Dartmouth college is a private Ivy League University in Hanover, New Hampshire, United States.”  Thank you and good luck.   To communicate with you students today, I have gone to great lengths to become well-versed in your unique linquistic patterns.  In fact, just this morning I left Baker Berry with my tripee Barry to eat a Billy Bob at the Bema when my flitz to Francesca was Blitz jacked by some d-bag on his FSP.    Yes, I’ve done my research.  This college was named after the Second Earl of Dartmouth, a good friend of the Third Earl of UC Santa Cruz and the Duke of the Barbazon School of Beauty.  Your school motto is “Vox Clamantis in Deserto,” which means “Voice Crying Out in the Wilderness.”  This is easily the most pathetic school motto I have ever heard.  Apparently, it narrowly beat out “Silently Weeping in Thick Shrub” and “Wimpering in Moist Leaves without Pants.”   Your school color is green, and this color was chosen by Frederick Mather in 1867 because, and this is true, “it was the only color that had not been taken already.” I cannot remember hearing anything so sad.  Dartmouth, you have an inferiority complex, and you should not. You have graduated more great fictitious Americans than any other college.  Meredith Grey of Grey’s Anatomy.  Pete Campbell from Mad Men.  Michael Corleone from The Godfather.  In fact, I look forward to next years’ Valedictory Address by your esteemed classmate, Count Chocula.  Of course, your greatest fictitious graduate is Treasury Secretary Timothy Geitner.  Man, imagine if a real Treasury Secretary made those kinds of decisions.   Oh, I know.  You’re going to say “We’ve got Dr. Seuss.” Well guess what, we’re all tired of hearing about Dr. Seuss.   Face it: The man rhymed fafloozle with saznoozle.  In the literary community, that’s called cheating.  Your insecurity is so great, Dartmouth, that you don’t even think you deserve a real podium.  What the hell is this thing?  It looks like you stole it from the set of Survivor: Nova Scotia.  Seriously, it looks like something a bear would use at an AA meeting.   No, Dartmouth, you must stand tall.  Raise your heads high and feel proud.  Because if Harvard, Yale, and Princeton are your self-involved, vain, name-dropping older brothers, you are the cool, sexually confident, Lacrosse playing younger sibling who knows how to throw a party and looks good in a down vest.  Brown, of course, is your lesbian sister who never leaves her room.  And Penn, Columbia, and Cornell …..well, frankly, who gives a shit.Yes, I’ve always had a special bond with this school.  In fact, this is my second time coming here.   When I was 17 years old and touring colleges, way back in the fall of 1980, I came to Dartmouth.  Dartmouth was a very different place back then.  I made the trip up from Boston on a mule and, after asking the blacksmith in West Leb for directions, I came to this beautiful campus.  No dormitories had been built yet, so I stayed with a family of fur traders in White River junction.  It snowed heavily during my visit and I was trapped here for four months.  I was forced to eat the mule, who a week earlier had been forced to eat the fur traders.  Still, I loved Dartmouth and I vowed to return.But fate dealt a heavy blow.   With no money, I was forced to enroll in a small, local commuter school, a pulsating sore on a muddy elbow of the Charles River.  I was a miserable wretch, and to this day I cannot help but wonder:  What if I had gone to Dartmouth?If I had gone to Dartmouth, I might have spent at least some of my college years outside and today I might not be allergic to all plant life, as well as most types of rock.If I had gone to Dartmouth, right now I’d be wearing a fleece thong instead of a lace thong.If I had gone to Dartmouth, I still wouldn’t know the second verse to “Dear Old Dartmouth.”  Face it, none of you do; you all mumble that part.If I had gone to Dartmouth, I’d have a liver the size and consistency of a bean bag chair. Finally, if I had gone to Dartmouth, today I’d be getting an honorary degree at Harvard.  Imagine how awesome that would be.You are a great school, and you deserve a historic commencement address.   That’s right, I want my message today to be forever remembered because it changed the world.   To do this, I must suggest groundbreaking policy. Winston Churchill gave his famous “Iron Curtain” speech at Westminster College in 1946.  JFK outlined his nuclear disarmament policy at American University in 1963.  And today, I would like to set forth my own policy here at Dartmouth: I call it The Conan Doctrine.  Under The Conan Doctrine:And finally, under the Conan doctrine, all commencement speakers who shamelessly pander with cheap, inside references designed to get childish applause, will be forced to apologize…..TO THE GREATEST GRADUATING CLASS IN THE HISTORY OF THE WORLD.   DARTMOUTH CLASS OF 2011 RULES!!!Besides policy, another hallmark of great commencement speeches is deep, profound advice like “reach for the stars.”  Well today, I am not going to waste your time with empty clichés.  Instead, I am going to give you real, practical advice that you will need to know if you are going to survive the next few years.   Of course there are many parents here and I have real advice for them as well.  Parents, write this down:Yes, you parents must be patient because it is indeed a grim job market out there.  And one of the reasons that it’s so tough finding work is that aging baby boomers refuse to leave their jobs..  Trust me on this.  Even when they promise you for five years that they are going to leave….and say it on television --- I mean you can go on YouTube right now and watch the guy do it…there is no guarantee they won’t come back.   Of course I’m speaking generally.But enough.  This is not a time for grim prognostications or negativity.  No, I came here today because, believe it or not, I actually do have something real to tell you.Eleven years ago I gave an address to a graduating class at Harvard.  I have not spoken at a graduation since because I thought I had nothing left to say.  But then 2010 came.   And now I’m here, three thousand miles from my home, because I learned a hard but profound lesson last year and I’d like to share it with you.   In 2000, I told graduates “Don’t be afraid to fail.”  Well now I’m here to tell you that, though you should not fear failure, you should do your very best to avoid it.   Nietzsche famously said “Whatever doesn’t kill you makes you stronger.”  But what he failed to stress is that IT ALMOST KILLS YOU.  Disappointment stings and, for driven, successful people like yourselves it is disorienting.  What Nietzsche should have said is  “Whatever doesn’t kill you, makes you watch a lot of Cartoon Network and drink mid-price Chardonnay at 11 in the morning. “ By definition, Commencement speakers at an Ivy League college are considered successful.  But a little over a year ago, I experienced a profound and very public disappointment.  I did not get what I wanted, and I left a system that had nurtured and help define me for the better part of seventeen years.  I went from being in the center of the grid to not only off the grid, but underneath the coffee table that the grid sits on, lost in the shag carpeting that is underneath the coffee table supporting the grid.  It was the making of a career disaster, and a terrible analogy.But then something spectacular happened.  Fogbound, with no compass, and adrift, I started trying things.  I grew a strange, cinnamon beard.  I dove into the world of social media and started tweeting my comedy.  I threw together a national tour.  I played the guitar, did stand-up, wore a skin-tight blue leather suit, recorded an album, made a documentary, and frightened my friends and family.   Ultimately, I abandoned all preconceived perceptions of my career path and stature and took a job on basic cable with a network most famous for showing re-runs, along with sitcoms created by a tall, black man who dresses like an old, black woman.  I did a lot of silly, unconventional, spontaneous and seemingly irrational things and guess what ---- with the exception of the blue leather suit, it was the most satisfying and fascinating year of my professional life.  To this day I still don’t understand exactly what happened, but I have never had more fun, been more challenged, and this is important ---- had more conviction about what I was doing.How could this be true?  It’s simple: there are few things more liberating in this life than having your worst fear realized.  I went to college with many people who prided themselves on knowing exactly who they were and exactly where they were going.  At Harvard, five different guys told me that they would one day be President of the Unites States.  Four of them were later killed in motel shoot-outs.   The other one briefly hosted “Blues Clues,” before dying senselessly in yet another motel shoot-out.   Your path at 22 will not necessarily be your path at 32 or 42.  One’s dream is constantly evolving, rising and falling, changing course.  This happens in every job, but because I have worked in comedy for twenty five years, I can speak best about my own profession.Way back in the 1940’s there was a very funny man named Jack Benny.  He was a giant star and easily one of the greatest comedians of his generation.  And a much younger man named Johnny Carson wanted very much to be Jack Benny.  In some ways he was, but in many ways he wasn’t.  He emulated Jack Benny, but his own quirks and mannerisms, along with a changing medium, pulled him in a different direction.  And yet his failure to completely become his hero made him the funniest person of his generation.  David Letterman wanted to be Johnny Carson, and was not, and as a result my generation of comedians wanted to be David Letterman.   And none of us are --- my peers and I have all missed that mark in a thousand different ways.  But the point is this: It is our failure to become our perceived ideal that ultimately defines us and makes us unique.  It’s not easy, but if you accept your misfortune and handle it right, your perceived failure can be a catalyst for profound re-invention.So, at the age of 47, after 25 years of obsessively pursuing my dream, that dream changed.  For decades, in show business, the ultimate goal of every comedian was to host The Tonight Show.  It was the Holy Grail, and like many people I thought that achieving that goal would define me as successful.   But that is not true.  No specific job or career goal defines me and it should not define you.  In 2000, I told graduates to not be afraid to fail, and I still believe that.  But today I tell you that whether you fear it or not, disappointment will come.  The beauty is that through disappointment you can gain clarity, and with clarity comes conviction and true originality.Many of you here today are getting your diploma at this Ivy League school because you have committed yourself to a dream and worked hard to achieve it.  And there is no greater cliché in a commencement address than “follow your dream.”  Well I am here to tell you that whatever you think your dream is now, it will probably change.  And that’s okay.  Four years ago, many of you had a specific vision of what your college experience was going to be and who you were going to become.  And I bet, today, most of you would admit that your time here was very different from what you imagined.  Your roommates changed, your major changed, for some of you your sexual orientation changed.   I bet some of you have changed your sexual orientation since I began this speech.  I know I have.  But through the good and especially the bad, the person you are now is someone you could never have conjured in the fall of 2007.I have told you many things today, most of it foolish but some of it true.  I’d like to end my address by breaking a taboo and quoting myself from 17 months ago.  At the end of my final program with NBC, just before signing off, I said “Work hard, be kind, and amazing things will happen. “ Today, receiving this honor and speaking to the Dartmouth Class of 2011 from behind a tree-trunk, I have never believed that more.Thank you very much, and congratulations.'"
      ]
     },
     "execution_count": 21,
     "metadata": {},
     "output_type": "execute_result"
    }
   ],
   "source": [
    "body5 = soup5.find_all('p')[3:]\n",
    "\n",
    "speech5 = []\n",
    "for p in body5:\n",
    "    speech5.append(p.text)\n",
    "speech5 = ''.join(speech5)\n",
    "speech5 = speech5.replace('\\n',' ')\n",
    "speech5 = speech5.replace('\\xa0',' ')\n",
    "speech.append(speech5)\n"
   ]
  },
  {
   "cell_type": "markdown",
   "metadata": {},
   "source": [
    "####  Kumail Nanjiani"
   ]
  },
  {
   "cell_type": "code",
   "execution_count": 22,
   "metadata": {},
   "outputs": [],
   "source": [
    "year6 = 2018\n",
    "name6 = ' Kumail Nanjiani'\n",
    "url6 = 'https://www.grinnell.edu/news/transcript-kumail-nanjianis-commencement-address-grinnell-college'\n",
    "name.append(name6)\n",
    "page6 = requests.get(url6).text\n",
    "soup6 = BeautifulSoup(page6, 'html.parser')\n"
   ]
  },
  {
   "cell_type": "code",
   "execution_count": 23,
   "metadata": {},
   "outputs": [
    {
     "data": {
      "text/plain": [
       "'President Kington, Board of Trustees, faculty, parents, siblings, uncles, aunts, cousins, that one random guy from town that always shows up for these things... Thank you for having me.Sixteen years ago, almost to the day, I sat where you are sitting today, desperately trying to stay awake while a very smart man said some very smart things. I think. I cannot be sure they were smart, because I couldn’t focus on anything but the gaping maw of uncertainty facing me in that moment. The same gaping maw of uncertainty that is facing you in this moment. What do you do in the face of this gaping maw of uncertainty? I have no idea. Good luck.I’m joking. I don’t know what to do, but I’m not done talking yet.Sixteen years ago, the man who stood here was Robert Harris Moses, an American educator and civil rights activist known for his work as a leader of the Student Nonviolent Coordinating Committee on voter education and registration in Mississippi during the Civil Rights movement. Today, you have me. A man who pretends to do stuff on TV that he was supposed to have learned how to do in real life, at this very institution. Today, you join an illustrious group of alums including Robert Noyce, the cofounder of Intel and co-inventor of the integrated circuit, and John Garang, who literally created a country. No pressure. And I haven’t named the two most famous Grinnell alumni in the entertainment industry, Herbie Hancock and Gary Cooper, who both dropped out. Perhaps that was the mistake I made. I graduated. I should have dropped out. It’s the same mistake that you all are making right now. History is full of stories of extremely successful individuals who dropped out of college. You and I will never be among them. Because today, today you graduate from Grinnell.By the way, you will be shocked at how many people know Grinnell. For a tiny liberal arts school in a tiny town in the middle of Iowa, many, many people know it. You’ll say, “I went to Grinnell,” and they will be impressed. And then they’ll say, “Wow, you went to Cornell!”And then, you will have a decision to make. Your first important post-college decision. And you will make it over and over many, many times. Many of my friends think I’m in Ithaca, New York right now, giving the commencement to Cornell graduates. But some will hear you properly, and they actually will be impressed. “Oh yeah, my cousin’s ex-fiancée went there!” It’s always your friend’s cousin’s ex-fiancée.But hey, but I’m getting a degree today too! One that I’ll use just as much as I used the last one. I am getting an honorary Ph.D.! I am now Dr. Kumail Nanjiani. So hold on one second, I have to text my parents. Mom, Dad, you finally have a doctor for a son. I intend to use it. I can’t wait to stand up when someone is like, “Is there a doctor on the plane?” And you go “Guilty! Right here. Honorary Ph.D. from giving the commencement address at Grinnell. No, not Cornell, Grinnell. I’ll sit back down.”Twenty years ago, I got on a plane in Pakistan, got off a plane in Des Moines, and was driven into Grinnell by a nice elderly gentleman in a college van. I was totally unprepared for my life at Grinnell. I didn’t even know what hacky-sack was. At the time, I only knew America from TV shows and movies, where they generally only show New York and Los Angeles. I landed in Des Moines and thought, this is less cosmopolitan than I was led to believe America would be. That’s okay. They have some buildings. Then I got to Grinnell. And you definitely do not see places like this in the movies.By the way, there is one exception. There’s a movie called Field of Dreams. You may not know this movie. I’ll tell you what it is. Field of Dreams is a movie from 1989 starring Kevin Costner and a bunch of ghost baseball players. That’s how you know Hollywood doesn’t think Iowa is the most exciting. They’re like, making a movie in Iowa? Well, we’ve got to add ghost baseball players or something. But during this movie, there’s an exchange that happens that was frequently quoted when I was at Grinnell. The exchange occurs between Kevin Costner and a ghost baseball player. The ghost baseball player asks him, “Is this heaven?” Kevin Costner responds, “No, it’s Iowa.” Man, we love this quote. That exact quote was written on the cover of my orientation packet: “Is this heaven?’ No, it’s Iowa.’” What they don’t mention is the rest of the conversation, which goes, “Is this heaven?’ ‘No, it’s Iowa.’ ‘Damnit, I must have made a wrong turn in Wisconsin.’”The first couple weeks for me here were pretty tough. I was a very shy kid, I missed home, and I felt like I didn’t fit in. Back then, nobody had cell phones, so I spent hours in the phone room on my floor. They used to have phone rooms here. A phone room is a room with a landline. A landline is like a cell phone without apps. I would sit in this phone room and have conversations with my parents for hours. A conversation is like a text message with your mouth. You know what, I can’t keep doing this. Just Google the ‘90s, and then we’ll get back into this.But I’d get into bed—and I had the bottom bunk, and I saw the metal bars on the bed on top of me—and they looked like prison bars, and that’s how I felt. Like I was trapped. Those bars would be the first thing I would see every morning, and the last thing I would see every night. And then, things started changing. I met people from all over the world. I met people who were white, black, queer, gender-fluid, every religion, no religion. And that was exciting. Pakistan ultimately is not that diverse. And I was meeting so many different kinds of people. And people were curious about me! What is Pakistan like? What do you guys eat? Do you guys have breakfast there? They weren’t all great questions. I started experiencing things I hadn’t experienced before. I shook hands with a girl for the first time at a party at the Harris Center. [Cheering.] Yeah. I remember saying out loud to myself, “This is a great country.”And each time I would go to bed at night, those bars looked less like jail bars. And this little liberal arts college in the middle of Iowa changed the way I saw the entire world. Before America was my home, Iowa was my home. And before Iowa was my home, Grinnell was my home. When I came to Grinnell, I was a devout Muslim who had never romantically touched a girl, and I was going to get a degree that guaranteed me a job. By the time I graduated, I was basically a Rastafarian with a white American girlfriend and a philosophy degree. College changes you, is my point. I did get a computer science degree also, because while I had changed, my parents had not. I got a phenomenal education, I heard new ideas and understood that there are different ways of looking at the world. But it wasn’t all existential stuff like that. It was fun too! It was big cookies, and chicken patty parmesan, and hanging on the loggia, and watching X-Files on the TV in Read Hall lounge. X-Files is an old show about a time when conspiracy theories were shadowy rumors, and not a string of tweets the President just posted.But while I was figuring out who I was, I still didn’t know what I wanted to do with my life. And then my senior year, I performed stand-up comedy for the first time at Bob’s Underground. [Cheering.] Yeah! And it went well! And it was so fun. And it was so exciting. And I was like, I could be good at this! After graduation, I moved to Chicago because I knew a lot of great comedians had moved there. A Grinnell alum helped me get a computer science job. I wasn’t good at it, but I was nice, and they liked having me around. But mostly, it allowed me to do stand-up at night in Chicago. And I did, almost every night. I’d be out late. I’d get up early to go to work. I probably slept about four hours a night for five years straight. And I had the best time of my life. I mean, it wasn’t always easy. I’d get heckled, because back then there weren’t a lot of comedians who looked like me doing standup. “Go back to India!”, they would yell. And I’d say, “I’ve never been to India, you’re just wishing me an awesome vacation right now?” Or, “Go back to Taliban!” I’ve heard that too. And I would say, “You’re right, I am a terrorist. I just do stand-up comedy on the side to keep a low profile.”By the way, I have this fantasy that when someone is racist to me, I want something awful to happen to them, and then I rescue them, just to see the looks on their face. Like, “Go back to India!” “Haha, good one! Oh no, wolves!” And then I fight off the wolves, and they say, “I was racist to you, and you still helped me,” and I say, “Well, that is the way of my people.” That’s how we cure racism.Then, when I started auditioning for TV shows, I had some tough times, some rejections for some interesting reasons. I’ve been told they were going for a more all-American direction, before they hired a white Australian guy. I’ve been told I wasn’t good-looking enough, or that I was too good-looking. That last one’s not true. That never happened. But that’s what they should say every time! The truth is overrated. They should be like, “Sorry, but you’re too good-looking to play a technician in a weapons lab. It would be so distracting.”But even when it wasn’t easy, I loved it. I just loved doing it. And this is the part where I’m supposed to give you advice on what to do with your life, and I truly do not know what to tell you. I can tell you what worked for me. What worked for me was finding something that I liked doing, but more than liked, something that satisfied me. Finding something that satisfied me and doing it. Just doing it that day. I never thought big picture, that would have been overwhelming. So what I’m saying is, you can go slow. There is no rush. Allow your dreams and goals to change, but live an intentional life. Think, am I doing what I want to be doing every day? And, be okay with failing. That’s what I learned getting rejected at all these auditions. Nobody is paying attention to your failure. The world is full of people failing. People are failing all around you. Failure is boring. Your failure will not be so spectacular that people will write articles about your failure. Only you will remember your failure. Unless you’re the person that made the Samsung Galaxy X7. Those are the phones that literally explode. Everyone knows that person’s failure.Nobody knows what they’re doing. Nobody does. Everyone’s winging it out there. Some people are just better at pretending to be confident. Because nobody, nobody’s done. Nobody’s cooked. People are constantly growing and evolving and changing. When I was a kid, I thought of my parents as these superheroes who knew everything, and that they were already the people they would always be. And as a grown-up, I realize they have the same struggles I do, that everybody does. They uprooted their lives and moved to America in their 50s, started over. In the last ten years, I’ve seen them change in ways I never thought possible.I married a woman from North Carolina named Emily. That is not the wife they had pictured for me, and I never thought that they’d get over that. Emily and I got married at City Hall, we just walked in and got married. Then we flew to New Jersey so she could meet them for the first time. The first time my parents met my wife, she was my wife. And you know what they did? They threw a big Pakistani wedding. My grandfather even wrote a poem welcoming her into the family. He did rhyme Emily with family... It’s not our first language. But seeing her white Southern family and my Pakistani family celebrating together, it was so beautiful, I don’t have words. So here’s another concrete piece of advice I can give you: Have sex with an immigrant. We’re going through a tough time right now, and it’s really great for morale. And it’s one way to ensure that you will definitely be on the right side of history. They’re like, maybe this was a mistake...Immigration is a big topic of conversation right now—do we take in refugees or not, these people are so different from us... And I will say this. Refugees are people who risked everything and left their homes in search of better lives for them and their families. What could be more American than that?I want to take a moment to give a special shout-out to all the families of international students. To those of you who were able to be here, as nervous as you were to get through customs and immigration, I hope that you are just as proud to watch your children walk across this stage. And I hope that today, you see the America that we love.There is a member of the House of Representatives from a district not too far from here, and I don’t want to say his name. But he said, “We can’t restore our civilization with somebody else’s babies.” Somebody else’s babies. That is not the Iowa I know. The Iowa I know understands that there is no such thing as somebody else’s babies. How can you look at a baby and say, “That is not one of my own”? I am thankful that that is not the Iowa I know. I came here and I felt out of place, I felt like I didn’t belong, and the community here made sure I didn’t feel like that for long. They welcomed me, they engaged with me, they were curious about where I was from. And this was the second place in my life that felt like home. Different, weird, but not strange.So I’ll say, this is another thing you can do. Populate your life with people different from you. Once you leave school, you get to choose the kinds of people you’re going to be around rather than just being forced to be around them. So I encourage you to seek out people, thoughts, and opinions different from yours. It keeps you empathetic, and it gets you out of your own echo chamber. Don’t disregard opposing viewpoints. Listen to them, absorb them, oppose them if you feel that they are wrong, but allow them to affect you.Understand the pain behind an opinion such as, “Our jobs are being stolen,” and try to empathize with it. Believe me, it is not easy. I wish it was as easy as following a couple of opposing viewpoints on Twitter, and unblocking Uncle Steve from Facebook. But he showed up for your graduation, and he gave you a card with some cash in it, be nice to the guy.It is not that easy. You really have to listen. We cannot expect others to understand our point of view if we don’t understand theirs. And it’s uncomfortable and awkward and infuriating and it hurts your brain, but with that pain can come growth and real change. Being a fish out of water is tough, but that’s how you evolve. I think that’s scientifically accurate. I don’t know. I had a liberal arts education.Ultimately, we are all much more similar than we are different. That is what I learned in the Iowa I loved. Our shared humanity. We’re all just looking for food, and love, and meaning. And we find that meaning with each other, with community. So take the lessons you learned in Iowa, and in Grinnell, and get out there. Engage with people. Challenge their beliefs and challenge your own. Whether it is here on this campus in the middle of cornfields, or in a village in Senegal, or in a marble hallway in D.C. Actually, D.C. would be good. Go to D.C.Engage, care, be passionate. Because each other is all we have. This is all we got, this is all we have. And it may not be heaven, but it can be Iowa. Congratulations class of 2017. Welcome to the real world. We need you out here.'"
      ]
     },
     "execution_count": 23,
     "metadata": {},
     "output_type": "execute_result"
    }
   ],
   "source": [
    "body6 = soup6.find_all('p')[2:-2]\n",
    "\n",
    "\n",
    "speech6 = []\n",
    "for p in body6:\n",
    "    speech6.append(p.text)\n",
    "speech6 = ''.join(speech6)\n",
    "speech6 = speech6.replace('\\n',' ')\n",
    "speech6 = speech6.replace('\\xa0',' ')\n",
    "speech.append(speech6)\n"
   ]
  },
  {
   "cell_type": "markdown",
   "metadata": {},
   "source": [
    "#### Stephen Colbert"
   ]
  },
  {
   "cell_type": "code",
   "execution_count": 24,
   "metadata": {},
   "outputs": [],
   "source": [
    "year7 = 2018\n",
    "name7 = 'Stephen Colbert'\n",
    "url7 = 'https://departments.knox.edu/newsarchive/news_events/2006/x12547.html'\n",
    "\n",
    "page7 = requests.get(url7).text\n",
    "soup7 = BeautifulSoup(page7, 'html.parser')\n",
    "name.append(name7)"
   ]
  },
  {
   "cell_type": "code",
   "execution_count": 25,
   "metadata": {},
   "outputs": [],
   "source": [
    "body7 = soup7.find_all('p')[4:]\n",
    "\n",
    "speech7 = []\n",
    "for p in body7:\n",
    "    speech7.append(p.text)\n",
    "speech7 = ''.join(speech7)\n",
    "speech7 = speech7.replace('\\n',' ')\n",
    "speech7 = speech7.replace('\\xa0',' ')\n",
    "speech.append(speech7)\n",
    "\n"
   ]
  },
  {
   "cell_type": "markdown",
   "metadata": {},
   "source": [
    "#### Tim Cook"
   ]
  },
  {
   "cell_type": "code",
   "execution_count": 28,
   "metadata": {},
   "outputs": [],
   "source": [
    "year8 = 2018\n",
    "name8 = 'Tim Cook'\n",
    "url8 = 'https://news.osu.edu/apple-ceo-tim-cook-delivers-ohio-state-commencement-address//'\n",
    "\n",
    "page8 = requests.get(url8).text\n",
    "soup8 = BeautifulSoup(page8, 'html.parser')\n",
    "name.append(name8)"
   ]
  },
  {
   "cell_type": "code",
   "execution_count": 29,
   "metadata": {},
   "outputs": [
    {
     "data": {
      "text/plain": [
       "'Thanks President Drake. Good afternoon OSU.Before we get to the important work of your future, I want to take a moment to consider our past.As 1918 dawned, a young Assistant Secretary of the Navy, just 36 at the time, was headed overseas, tasked with making sure America’s green and untested troops were ready for action in Europe’s great war.An iconoclastic poet and academic, barely 30, balanced odd jobs as a high school teacher and banker after the outbreak of war had dashed his hopes of defending his dissertation.And a young nurse, only 20, began caring for wounded soldiers at a military hospital in Toronto. She worked ever-longer hours as a strange sickness began to appear beside the wounds of war.By the time the Spanish Flu swept through their countries, their communities and their bodies, these three would be forever changed.Franklin Delano Roosevelt was carried off a military ship on a stretcher. Once he’d recovered back home in New York, he was the nominee for Vice President, beginning a career in national politics that would change the course of history.While lying in his sick bed, T.S. Eliot began writing what would become \"The Waste Land,\" his poetic masterpiece. It begins, “April is the cruelest month” and it began a movement of literary modernism that would win him the Nobel Prize for Literature.And when Amelia Earhart finally caught the flu from one of her patients, her recovery was more complicated and painful than most. To pass the long and boring hours of quarantine and social distance, she would watch the airplanes coming and going, and she started to wonder whether she might like a change of career.Graduates, I am sorry that we’re not celebrating together today. Your class is a special one — marked by history like few others in OSU’s 150 years.And while we aren’t shoulder to shoulder in the Horseshoe, filling it to the rafters, I know your parents, your loved ones, your friends and teachers, are no less overwhelmed with pride in you and in what you have achieved.It can be difficult to see the whole picture when you’re still inside the frame, but I hope you wear these uncommon circumstances as a badge of honor.Those who meet times of historical challenge with their eyes and hearts open — forever restless and forever striving — are also those who leave the greatest impact on the lives of others.In every age, life has a frustrating way of reminding us that we are not the sole authors of our story. We must share credit, whether we’d like to or not, with a difficult and selfish collaborator called our circumstances.And when our glittering plans are scrambled, as they often will be, and our dearest hopes are dashed, as will sometimes happen, we’re left with a choice. We can curse the loss of something that was never going to be…Or we can see reasons to be grateful for the yank on the scruff of the neck, in having our eyes lifted up from the story we were writing for ourselves and turned instead to a remade world.When I joined Apple in 1998, I couldn’t believe my luck. I was going to get to spend the rest of my professional life working for Steve Jobs. But fate comes like a thief in the night. The loneliness I felt when we lost Steve was proof that there is nothing more eternal, or more powerful, than the impact we have on others.Those of us who can look back on this time and remember inconveniences and even boredom can count themselves lucky. Many more will know real hardship and fear. Others still will be cut to the bone.And while we turn to our loved ones and friends for comfort, think hard about those whose impact on your life is more distant, but no less meaningful.Think about an undocumented father, ignored or scorned by his community, who is putting himself at risk in the fields today to feed his family and yours.Think about a single mother, who stocks shelves at night and drives a city bus in the morning, without whom so much would fall apart.Think about the hospital orderly, scrubbing down the ward on hands and knees, whose work today is as solitary and sacred as a high priest purifying a temple.Most of all, think about how you — blessed with a world-class education — might act and work and be differently when all of this is said and done.Memorialize in your heart the way in which these times reveal what really matters: the health and well being of our loved ones, the resilience of our communities, and the sacrifices made by those — from doctors to garbage collectors — who give their whole selves to serving others. Not being able to leave the house leaves you with a lot of odd gaps of time to fill. I’ve been trying to use them to read, and I keep coming back to Abraham Lincoln.I’d recommend it to anyone who wants to put these times into perspective. You’ll be shocked at how clever and funny and alive his thinking still is, how this reserved and humble man managed, in noisy times, to call others to hope.And, as we celebrate OSU’s 150th anniversary, it’s worth remembering that the school wouldn’t exist without the land-grant university system that Lincoln signed into law.It’s also hard to imagine someone more defined by their circumstances. Lincoln found his country on fire and chose to run into the flames. And he gave everything he had to bring his people — chaotic and squabbling, fundamentally flawed yet fundamentally good — along with him.“The dogmas of the quiet past are inadequate to the stormy present,” he said. “The occasion is piled high with difficulty, and we must rise with the occasion. As our case is new, so we must think anew, and act anew. We must disenthrall ourselves, and then we shall save our country.”Graduates, your case is new.For you, the old dogmas have never been an option. You don’t have the luxury of being enthralled.You enter a world of difficulty with open eyes, tasked with writing a story that is not necessarily of your choosing but is still entirely yours.You’re the pride of your parents and grandparents, of aunts, uncles and teachers, of the communities that shaped you in ways seen and unseen.You weren’t promised this day. Many of you had to fight hard to earn it.Now it’s yours.Think anew. Act anew.Build a better future than the one you thought was certain.And, in a fearful time, call us once again to hope.Congratulations to you all. Be great, be well. Thank you very much.'"
      ]
     },
     "execution_count": 29,
     "metadata": {},
     "output_type": "execute_result"
    }
   ],
   "source": [
    "body8 = soup8.find_all('p')[4:-3]\n",
    "\n",
    "speech8 = []\n",
    "for p in body8:\n",
    "    speech8.append(p.text)\n",
    "speech8 = ''.join(speech8)\n",
    "speech8 = speech8.replace('\\n',' ')\n",
    "speech8 = speech8.replace('\\xa0',' ')\n",
    "speech.append(speech8)\n"
   ]
  },
  {
   "cell_type": "markdown",
   "metadata": {},
   "source": [
    "#### Mindy Kaling"
   ]
  },
  {
   "cell_type": "code",
   "execution_count": 30,
   "metadata": {
    "scrolled": false
   },
   "outputs": [],
   "source": [
    "year9 = 2018\n",
    "name9 = 'Mindy Kaling'\n",
    "url9 = 'https://time.com/5308142/mindy-kaling-dartmouth-2018-commencement-speech-transcript/'\n",
    "\n",
    "page9 = requests.get(url9).text\n",
    "soup9 = BeautifulSoup(page9, 'html.parser')\n",
    "name.append(name9)"
   ]
  },
  {
   "cell_type": "code",
   "execution_count": 31,
   "metadata": {},
   "outputs": [
    {
     "data": {
      "text/plain": [
       "'Good morning to the Class of 2018, the faculty, the parents, the grandparents, fellow honorees, and the paid laughers I have scattered throughout the audience.It is an honor to join you this morning for this special occasion.It is also an honor to speak to you today from behind this gigantic tree stump. Like some sort of female Lorax with an advanced degree. That’s right, you guys; I’m hitting Dr. Seuss hard and early in this speech. Because Dartmouth grads have a privilege unique among all the Ivy League: We will be forced to be mini-experts on Dr. Seuss for our entire lives.On my deathbed, I’ll be saying, “Did you know that his real name was Theodor Geisel? Did you know he was the editor of the Dartmouth Jack-O-Lantern?” And yes, while no U.S. Presidents have gone to Dartmouth, we can at least lay claim for the wonderful Dr. Seuss.Another notable alumnus is Salmon P. Chase, the man on the $10,000 bill. A symbolically powerful piece of paper that’s largely useless in the real world. Like a degree in playwriting which I received from this very institution. Thank you for paying for that, Mom and Dad!It’s a thrill to be back here in New Hampshire, the Granite State, known for two things: the place where you can legally not wear your seatbelt, and Adam Sandler’s birthplace.New Hampshire has one of the best mottos of any state: “Live Free or Die.” For outsiders, it sounds like an exciting declaration of freedom; but when you’re here in January, “die” actually sounds like a pretty good option.I remember the days when it was so cold your sneeze would become an ice sculpture before it hit the ground. In Los Angeles, where I live now, if I sneeze, I just call my doctor and have my blood replaced with that of a teenage track star. That’s normal there. I’m mostly track star right now.Before I get any further, I should actually probably clarify who I am for the parents and grandparents in the audience who are thinking to themselves, “Who is this loud Indian woman? Is that the girl from Quantico? She looks so much worse in person.”No, no, I’m not Priyanka Chopra, not even Padma Lakshmi. I’m the other Indian woman we have allowed to be on television, Mindy Kaling. Thank you, thank you.You may remember me from my role on The Office as Kelly Kapoor, who internet commenters said was—quote—“shrill” and—quote—“took up valuable time that could have gone to Steve Carell.”I then created and starred in my own TV show, The Mindy Project. Thank you, thank you very much. It was an uphill battle to get that show on the air, but it was worth it, because it enabled me to become Dartmouth’s most successful female minority show creator who has spoken at commencement!Oh wait, no. Shonda Rhimes went here. Yup, and she’s created like 10 more shows than me, so great. No, cool. Cool, cool, cool, Shonda. Friggin’ role model, good for you.But today is not about famous alumni. No, no. It is about the men and women who have toiled in obscurity for years so that they might better our country. I speak, of course, of the 51% of Dartmouth grads who will go into finance—highest in the Ivy League! Look left. Look right. All three of you will spending at least ten years in a white collar prison.I know that going into the real world sounds scary, but it’s exciting too. Finally, you’ll be in control of your own lives. No longer will there be an irrational Board of Trustees telling you you can’t have hard liquor on campus, for the ridiculous reason that they don’t want you to die. Come tomorrow, no one can stop you from filling your apartment with $4.99 handles of Uncle Satan’s Unfiltered Potato Vodka. Go crazy.It’s a real moment of reflection for me to be standing here speaking to all of you now, because it makes me harken back to my own time at my Dartmouth graduation. Madeleine Albright was my commencement speaker; and while I don’t remember any specific quotes she said, or even a general gist of what she was talking about, I do remember thinking: “I wonder what it will be like to have my own cell phone?”How things have changed. For all I know, at this very moment, most of you are posting this speech on your Instagram stories with a GIF of Winnie the Pooh twerking. If you are, please at least use my official hashtag, #MindyGoesBigGreen2018. Thank you.I bet none of you remember a time before the internet. Hell, you probably don’t even remember a time before the Facebook page, “Dartmouth Memes for Cold AF Teens.” Yeah, yeah. I know about that. Made me feel like a real creep researching it. “Hello, I’m a 38‑year‑old woman who wants to join your teen Facebook group. It’s for research, I swear!”Meanwhile, when I was in college, we didn’t even have Google. If you wanted to find out, say, how tall Ben Affleck was, you were out of luck. You just had to sit there, not knowing, and your entire day would be ruined.Or, say I wanted to meet up with a friend—I couldn’t just text her. I had to walk outside and hope I accidentally bumped into her. Or, I “blitzed” her. Ah, BlitzMail. You know that feeling you have when you tell your friends that you “blitz” and they don’t get it and you roll your eyes all smug like, “Oh, it’s a Dartmouth thing.” That ends today. You try to say “blitz” one hundred yards east of White River Junction and you will get laughed back to your one-room triple in the Choates.Fun fact: In 2001, the year I graduated, a pinkeye epidemic broke out amongst my classmates because we were all using public BlitzMail iMac terminals and not washing our hands. Those are just kind of the sexy stories indicative of my time at Dartmouth.You have so many cool new things here now. Like, look at the new logo, the D-Pine. It’s beautiful. It reminds me of what college-aged Mindy thought a marijuana leaf might look like, but I was too scared to actually find out. And this new House System sounds really cool! It’s so Hogwarts-y. You know, you’re sorted into your little Gryffindors and Ravenclaws, except they’re called … South House. West House. School House.Okay, come on guys. School House? Really? We’re just saying what we see? That’s the laziest name I’ve ever heard in my life, and I’ve spent over a decade working on shows called The Office and The Mindy Project.Still, I remember sitting where you’re sitting. I was so full of questions like, “When is this thing going to end?” and “How many friends can I invite to dinner and still have mom and dad pay?” And, most importantly, “Why didn’t I wear any clothes underneath my gown?”Now we’re reaching the part of the speech where I am supposed to tell you something uplifting, like “follow your dreams.”In general, advice isn’t actually an effective way to change your life. If all it took to make your life great was hearing amazing advice, then everyone who watched TED Talks would be a millionaire.So don’t trust any one story of how to become successful. As Madeline Albright said at my commencement — see, I don’t remember anything. And I did just fine. So here is some practical advice that you may or may not remember at the end of this speech because, hey, that’s the gig:Commencement is a time of transition for parents, too. That empty nest you were enjoying these past four years? Gone as soon as this speech is over. I hope you like full‑time lodgers who don’t pay rent, don’t do laundry, eat all the food in your fridge, and binge Family Guy on your sofa for weeks. That is your life now.Although some of your graduates will be making more money than you—51% to be exact. And to the parents of those investment bankers, consultants, and hedge fund analysts—congratulations. Your kids will be fabulously wealthy but still somehow sharing your cell phone plan because it—quote—“saves everybody money.”Okay, now let’s get real. Let me rip off the Band-Aid for all you, the ’18s. Next year, the next year of your life is going to be bad. You have been in the comfortable fleece-lined womb of mother Dartmouth for four years now, and you’re gonna go out in the cold, hard world.Out there in the real world, there will be a target on your back. People will want to confirm their expectations of Ivy League graduates—that you’re a jerk, that you’re spoiled, that you use the word “summer” as a verb. Those stereotypes exist for a reason. I mean come on, the guy from the $10,000 bill went to this school.You’re graduating into a world where it seems like everything is falling apart. Trust in institutions are at a record low; the truth doesn’t seem to matter anymore; and for all I know, the president just tweeted us into a war with Wakanda, a country that doesn’t exist.So, Class of 2018, you are entering a world that we have toppled—we have toppled—like a Jenga tower, and we are relying on you to rebuild it.But how can you do that with the knowledge that things are so unstable out there? I’ll tell you my secret, the one thing that has kept me going through the years, my superpower: delusion.This is something I may share with our president, a fact that is both horrifying and interesting. Two years in, I think we can pretty safely say that he’s not getting carved onto Mount Rushmore; but damn if that is not a testament to how far you can get by just by believing that you are the smartest, most successful person in the world.My point is: You have to have insane confidence in yourself, even if it’s not real. You need to be your own cheerleader now, because there isn’t a room full of people waiting with pom‑poms to tell you, “You did it! We’ve been waiting all this time for you to succeed!”So I’m giving you permission to root for yourself. And while you’re at it, root for those around you, too. It took me a long time to realize that success isn’t a zero-sum game — which leads me to the next part of my remarks.I thought I might take a second to speak to the ladies in the audience. (Guys, take a break; you don’t have to pay attention during this part. Maybe spend the next 30 seconds thinking about all the extra money you’ll make in your life for doing the same job as a woman. Pretty sweet.)Hey girls, we need to do a better job of supporting each other. I know that I am guilty of it too. We live in a world where it seems like there’s only room for one of us at the table. So when another woman shows up, we think, “Oh my god, she’s going to take the one woman spot! That was supposed to be mine!”But that’s just what certain people want us to do! Wouldn’t it be better if we worked together to dismantle a system that makes us feel like there’s limited room for us? Because when women work together, we can accomplish anything. Even stealing the world’s most expensive diamond necklace from the Met Gala, like in Ocean’s 8, a movie starring me, which opens in theaters June 8th. And to that end, women, don’t be ashamed to toot your own horn like I just did.Okay, guys, you can listen again. You didn’t miss much. Just remember to see Ocean’s 8, now playing in theaters nationwide. Ocean’s 8: Every con has its pros.Now I wanted to share a little bit about me, Mindy Kaling, the Dartmouth student. When I came to Hanover in the fall of 1997, I was, as many of you were: driven, bright, ambitious, and really, really into The Black Eyed Peas.I arrived here as a 17-year-old, took the lay of the land, and immediately began making a checklist of everything I wanted to accomplish. I told myself that by the time I graduated in 2001, I would have checked them all off.And here was my freshman fall checklist: be on Hanover crew, be on Lodge crew, be in an a cappella group, be in an improv troupe, write a play that’s performed at the Bentley, and do a cartoon for the D, and try to be in a cool senior society. And guess what? I completed that checklist. But before you think: “Wait, why is this woman just bragging about her accomplishments from 17 years ago?”— keep listening.Then, I graduated. And I made a new checklist for my twenties: get married by 27, have kids at 30, win an Oscar, be the star of my own TV show, host the MTV Music Awards (this was 2001, guys; it made more sense then), and do it all while being a size 2.Well, spoiler alert: I’ve only done one of those things, and I’m not sure I will ever do the others. And that is a really scary feeling. Knowing how far that I’ve strayed from the person that I was hoping to be when I was 21.I will tell you a personal story. After my daughter was born in December, I remember bringing her home and being in my house with her for the first time and thinking, “Huh. According to movies and TV, this is traditionally the time when my mother and spouse are supposed to be here, sharing this experience with me.” And I looked around, and I had neither. And for a moment, it was kind of scary. Like, “Can I do this by myself?”But then, that feeling went away because the reality is, I’m not doing it by myself. I’m surrounded by family and friends who love and support me. And the joy I feel from being with my daughter Katherine eclipses anything from any crazy checklist.So I just want to tell you guys, don’t be scared if you don’t do things in the right order, or if you don’t do some things at all. I didn’t think I’d have a child before I got married, but hey, it turned out that way, and I wouldn’t change a thing. I didn’t think I’d have dessert before breakfast today, but hey, it turned out that way and I wouldn’t change a thing.So if I could impart any advice, it’s this: If you have a checklist, good for you. Structured ambition can sometimes be motivating. But also, feel free to let it go. Yes, my culminating advice from my speech is a song from the Disney animated movie, Frozen.I’ve covered a lot of ground today, not all of it was serious, but I wanted to leave you with this: I was not someone who should have the life I have now, and yet I do. I was sitting in the chair you are literally sitting in right now and I just whispered, “Why not me?” And I kept whispering it for seventeen years; and here I am, someone that this school deemed worthy enough to speak to you at your commencement.Don’t let anyone tell you that you can’t do something, but especially not yourself. Go conquer the world. Just remember this: Why not you? You made it this far.Thank you very much, and congratulations to the Class of 2018.'"
      ]
     },
     "execution_count": 31,
     "metadata": {},
     "output_type": "execute_result"
    }
   ],
   "source": [
    "body9 = soup9.find_all('p')[6:-1]\n",
    "\n",
    "speech9 = []\n",
    "for p in body9:\n",
    "    speech9.append(p.text)\n",
    "speech9 = ''.join(speech9)\n",
    "speech9 = speech9.replace('\\n',' ')\n",
    "speech9 = speech9.replace('\\xa0',' ')\n",
    "speech.append(speech9)\n",
    "speech9"
   ]
  },
  {
   "cell_type": "markdown",
   "metadata": {},
   "source": [
    "#### ADMIRAL WILLIAM H. MCRAVEN"
   ]
  },
  {
   "cell_type": "code",
   "execution_count": 32,
   "metadata": {},
   "outputs": [],
   "source": [
    "year10 = 2018\n",
    "name10 = 'ADMIRAL WILLIAM H. MCRAVEN'\n",
    "url10 = 'https://jamesclear.com/great-speeches/make-your-bed-by-admiral-william-h-mcraven'\n",
    "\n",
    "page10 = requests.get(url10).text\n",
    "soup10 = BeautifulSoup(page10, 'html.parser')\n",
    "name.append(name10)"
   ]
  },
  {
   "cell_type": "code",
   "execution_count": 33,
   "metadata": {},
   "outputs": [
    {
     "data": {
      "text/plain": [
       "\"President Powers, Provost Fenves, Deans, members of the faculty, family and friends and most importantly, the class of 2014. Congratulations on your achievement.It's been almost 37 years to the day that I graduated from UT. I remember a lot of things about that day. I remember I had throbbing headache from a party the night before. I remember I had a serious girlfriend, whom I later married — that's important to remember by the way — and I remember that I was getting commissioned in the Navy that day.But of all the things I remember, I don't have a clue who the commencement speaker was that evening, and I certainly don't remember anything they said. So, acknowledging that fact, if I can't make this commencement speech memorable, I will at least try to make it short.The University's slogan is, “What starts here changes the world.” I have to admit — I kinda like it. “What starts here changes the world.”Tonight there are almost 8,000 students graduating from UT. That great paragon of analytical rigor, Ask.Com, says that the average American will meet 10,000 people in their lifetime. That's a lot of folks. But, if every one of you changed the lives of just 10 people — and each one of those folks changed the lives of another 10 people — just 10 — then in five generations — 125 years — the class of 2014 will have changed the lives of 800 million people.800 million people — think of it — over twice the population of the United States. Go one more generation and you can change the entire population of the world — eight billion people.If you think it's hard to change the lives of 10 people — change their lives forever — you're wrong. I saw it happen every day in Iraq and Afghanistan: A young Army officer makes a decision to go left instead of right down a road in Baghdad and the 10 soldiers in his squad are saved from close-in ambush. In Kandahar province, Afghanistan, a non-commissioned officer from the Female Engagement Team senses something isn't right and directs the infantry platoon away from a 500-pound IED, saving the lives of a dozen soldiers.But, if you think about it, not only were these soldiers saved by the decisions of one person, but their children yet unborn were also saved. And their children's children were saved. Generations were saved by one decision, by one person.But changing the world can happen anywhere and anyone can do it. So, what starts here can indeed change the world, but the question is — what will the world look like after you change it?Well, I am confident that it will look much, much better. But if you will humor this old sailor for just a moment, I have a few suggestions that may help you on your way to a better a world. And while these lessons were learned during my time in the military, I can assure you that it matters not whether you ever served a day in uniform. It matters not your gender, your ethnic or religious background, your orientation or your social status.Our struggles in this world are similar, and the lessons to overcome those struggles and to move forward — changing ourselves and the world around us — will apply equally to all.I have been a Navy SEAL for 36 years. But it all began when I left UT for Basic SEAL training in Coronado, California. Basic SEAL training is six months of long torturous runs in the soft sand, midnight swims in the cold water off San Diego, obstacles courses, unending calisthenics, days without sleep and always being cold, wet and miserable. It is six months of being constantly harrassed by professionally trained warriors who seek to find the weak of mind and body and eliminate them from ever becoming a Navy SEAL.But, the training also seeks to find those students who can lead in an environment of constant stress, chaos, failure and hardships. To me basic SEAL training was a lifetime of challenges crammed into six months.So, here are the 10 lessons I learned from basic SEAL training that hopefully will be of value to you as you move forward in life.Every morning in basic SEAL training, my instructors, who at the time were all Vietnam veterans, would show up in my barracks room and the first thing they would inspect was your bed. If you did it right, the corners would be square, the covers pulled tight, the pillow centered just under the headboard and the extra blanket folded neatly at the foot of the rack — that's Navy talk for bed.It was a simple task — mundane at best. But every morning we were required to make our bed to perfection. It seemed a little ridiculous at the time, particularly in light of the fact that were aspiring to be real warriors, tough battle-hardened SEALs, but the wisdom of this simple act has been proven to me many times over.If you make your bed every morning you will have accomplished the first task of the day. It will give you a small sense of pride, and it will encourage you to do another task and another and another. By the end of the day, that one task completed will have turned into many tasks completed. Making your bed will also reinforce the fact that little things in life matter. If you can't do the little things right, you will never do the big things right.And, if by chance you have a miserable day, you will come home to a bed that is made — that you made — and a made bed gives you encouragement that tomorrow will be better.If you want to change the world, start off by making your bed.During SEAL training the students are broken down into boat crews. Each crew is seven students — three on each side of a small rubber boat and one coxswain to help guide the dingy. Every day your boat crew forms up on the beach and is instructed to get through the surfzone and paddle several miles down the coast. In the winter, the surf off San Diego can get to be 8 to 10 feet high and it is exceedingly difficult to paddle through the plunging surf unless everyone digs in. Every paddle must be synchronized to the stroke count of the coxswain. Everyone must exert equal effort or the boat will turn against the wave and be unceremoniously tossed back on the beach.For the boat to make it to its destination, everyone must paddle. You can't change the world alone — you will need some help — and to truly get from your starting point to your destination takes friends, colleagues, the good will of strangers and a strong coxswain to guide them.If you want to change the world, find someone to help you paddle.Over a few weeks of difficult training my SEAL class, which started with 150 men, was down to just 35. There were now six boat crews of seven men each. I was in the boat with the tall guys, but the best boat crew we had was made up of the the little guys — the munchkin crew we called them — no one was over about five-foot-five.The munchkin boat crew had one American Indian, one African American, one Polish American, one Greek American, one Italian American, and two tough kids from the midwest. They out-paddled, out-ran and out-swam all the other boat crews. The big men in the other boat crews would always make good-natured fun of the tiny little flippers the munchkins put on their tiny little feet prior to every swim. But somehow these little guys, from every corner of the nation and the world, always had the last laugh — swimming faster than everyone and reaching the shore long before the rest of us.SEAL training was a great equalizer. Nothing mattered but your will to succeed. Not your color, not your ethnic background, not your education and not your social status.If you want to change the world, measure a person by the size of their heart, not the size of their flippers.Several times a week, the instructors would line up the class and do a uniform inspection. It was exceptionally thorough. Your hat had to be perfectly starched, your uniform immaculately pressed and your belt buckle shiny and void of any smudges. But it seemed that no matter how much effort you put into starching your hat, or pressing your uniform or polishing your belt buckle — it just wasn't good enough. The instructors would find “something” wrong.For failing the uniform inspection, the student had to run, fully clothed into the surfzone and then, wet from head to toe, roll around on the beach until every part of your body was covered with sand. The effect was known as a “sugar cookie.” You stayed in that uniform the rest of the day — cold, wet and sandy.There were many a student who just couldn't accept the fact that all their effort was in vain. That no matter how hard they tried to get the uniform right, it was unappreciated. Those students didn't make it through training. Those students didn't understand the purpose of the drill. You were never going to succeed. You were never going to have a perfect uniform.Sometimes no matter how well you prepare or how well you perform you still end up as a sugar cookie. It's just the way life is sometimes.If you want to change the world get over being a sugar cookie and keep moving forward.Every day during training you were challenged with multiple physical events — long runs, long swims, obstacle courses, hours of calisthenics — something designed to test your mettle. Every event had standards — times you had to meet. If you failed to meet those standards your name was posted on a list, and at the end of the day those on the list were invited to a “circus.” A circus was two hours of additional calisthenics designed to wear you down, to break your spirit, to force you to quit.No one wanted a circus.A circus meant that for that day you didn't measure up. A circus meant more fatigue — and more fatigue meant that the following day would be more difficult — and more circuses were likely. But at some time during SEAL training, everyone — everyone — made the circus list.But an interesting thing happened to those who were constantly on the list. Over time those students — who did two hours of extra calisthenics — got stronger and stronger. The pain of the circuses built inner strength, built physical resiliency.Life is filled with circuses. You will fail. You will likely fail often. It will be painful. It will be discouraging. At times it will test you to your very core.But if you want to change the world, don't be afraid of the circuses.At least twice a week, the trainees were required to run the obstacle course. The obstacle course contained 25 obstacles including a 10-foot high wall, a 30-foot cargo net and a barbed wire crawl, to name a few. But the most challenging obstacle was the slide for life. It had a three-level 30-foot tower at one end and a one-level tower at the other. In between was a 200-foot-long rope. You had to climb the three-tiered tower and once at the top, you grabbed the rope, swung underneath the rope and pulled yourself hand over hand until you got to the other end.The record for the obstacle course had stood for years when my class began training in 1977. The record seemed unbeatable, until one day, a student decided to go down the slide for life head first. Instead of swinging his body underneath the rope and inching his way down, he bravely mounted the TOP of the rope and thrust himself forward.It was a dangerous move — seemingly foolish, and fraught with risk. Failure could mean injury and being dropped from the training. Without hesitation the student slid down the rope perilously fast. Instead of several minutes, it only took him half that time and by the end of the course he had broken the record.If you want to change the world sometimes you have to slide down the obstacle head first.During the land warfare phase of training, the students are flown out to San Clemente Island which lies off the coast of San Diego. The waters off San Clemente are a breeding ground for the great white sharks. To pass SEAL training there are a series of long swims that must be completed. One is the night swim.Before the swim the instructors joyfully brief the trainees on all the species of sharks that inhabit the waters off San Clemente. They assure you, however, that no student has ever been eaten by a shark — at least not recently. But, you are also taught that if a shark begins to circle your position — stand your ground. Do not swim away. Do not act afraid. And if the shark, hungry for a midnight snack, darts towards you — then summon up all your strength and punch him in the snout, and he will turn and swim away.There are a lot of sharks in the world. If you hope to complete the swim you will have to deal with them.So, if you want to change the world, don't back down from the sharks.As Navy SEALs one of our jobs is to conduct underwater attacks against enemy shipping. We practiced this technique extensively during basic training. The ship attack mission is where a pair of SEAL divers is dropped off outside an enemy harbor and then swims well over two miles — underwater — using nothing but a depth gauge and a compass to get to their target.During the entire swim, even well below the surface, there is some light that comes through. It is comforting to know that there is open water above you. But as you approach the ship, which is tied to a pier, the light begins to fade. The steel structure of the ship blocks the moonlight, it blocks the surrounding street lamps, it blocks all ambient light.To be successful in your mission, you have to swim under the ship and find the keel — the centerline and the deepest part of the ship. This is your objective. But the keel is also the darkest part of the ship — where you cannot see your hand in front of your face, where the noise from the ship's machinery is deafening and where it is easy to get disoriented and fail.Every SEAL knows that under the keel, at the darkest moment of the mission, is the time when you must be calm, composed — when all your tactical skills, your physical power and all your inner strength must be brought to bear.If you want to change the world, you must be your very best in the darkest moment.The ninth week of training is referred to as “Hell Week.” It is six days of no sleep, constant physical and mental harassment, and one special day at the Mud Flats. The Mud Flats are area between San Diego and Tijuana where the water runs off and creates the Tijuana slues, a swampy patch of terrain where the mud will engulf you.It is on Wednesday of Hell Week that you paddle down to the mud flats and spend the next 15 hours trying to survive the freezing cold mud, the howling wind and the incessant pressure to quit from the instructors. As the sun began to set that Wednesday evening, my training class, having committed some “egregious infraction of the rules” was ordered into the mud.The mud consumed each man till there was nothing visible but our heads. The instructors told us we could leave the mud if only five men would quit — just five men — and we could get out of the oppressive cold. Looking around the mud flat it was apparent that some students were about to give up. It was still over eight hours till the sun came up — eight more hours of bone-chilling cold.The chattering teeth and shivering moans of the trainees were so loud it was hard to hear anything. And then, one voice began to echo through the night, one voice raised in song. The song was terribly out of tune, but sung with great enthusiasm. One voice became two and two became three and before long everyone in the class was singing. We knew that if one man could rise above the misery then others could as well.The instructors threatened us with more time in the mud if we kept up the singingbut the singing persisted. And somehow the mud seemed a little warmer, the wind a little tamer and the dawn not so far away.If I have learned anything in my time traveling the world, it is the power of hope. The power of one person — Washington, Lincoln, King, Mandela and even a young girl from Pakistan, Malala — one person can change the world by giving people hope.So, if you want to change the world, start singing when you're up to your neck in mud.Finally, in SEAL training there is a bell. A brass bell that hangs in the center of the compound for all the students to see. All you have to do to quit is ring the bell.Ring the bell and you no longer have to wake up at 5 o'clock. Ring the bell and you no longer have to do the freezing cold swims. Ring the bell and you no longer have to do the runs, the obstacle course, the PT — and you no longer have to endure the hardships of training. Just ring the bell.If you want to change the world don't ever, ever ring the bell.To the graduating class of 2014, you are moments away from graduating. Moments away from beginning your journey through life. Moments away from starting to change the world — for the better. It will not be easy.But, YOU are the class of 2014, the class that can affect the lives of 800 million people in the next century.Start each day with a task completed. Find someone to help you through life. Respect everyone.Know that life is not fair and that you will fail often. But if take you take some risks, step up when the times are toughest, face down the bullies, lift up the downtrodden and never, ever give up — if you do these things, then the next generation and the generations that follow will live in a world far better than the one we have today.And what started here will indeed have changed the world — for the better.Thank you very much. Hook 'em horns.\""
      ]
     },
     "execution_count": 33,
     "metadata": {},
     "output_type": "execute_result"
    }
   ],
   "source": [
    "body10 = soup10.find_all('p')[1:-4]\n",
    "\n",
    "speech10 = []\n",
    "for p in body10:\n",
    "    speech10.append(p.text)\n",
    "speech10 = ''.join(speech10)\n",
    "speech10 = speech10.replace('\\n',' ')\n",
    "speech10 = speech10.replace('\\xa0',' ')\n",
    "speech.append(speech10)\n"
   ]
  },
  {
   "cell_type": "markdown",
   "metadata": {},
   "source": [
    "#### Barack Obama"
   ]
  },
  {
   "cell_type": "code",
   "execution_count": 34,
   "metadata": {},
   "outputs": [],
   "source": [
    "year11 = 2018\n",
    "name11 = 'Barack Obama'\n",
    "url11 = 'https://www.nytimes.com/2020/05/16/us/obama-hbcu-speech-transcript.html'\n",
    "\n",
    "page11 = requests.get(url11).text\n",
    "soup11 = BeautifulSoup(page11, 'html.parser')\n",
    "name.append(name11)\n"
   ]
  },
  {
   "cell_type": "code",
   "execution_count": 35,
   "metadata": {},
   "outputs": [
    {
     "data": {
      "text/plain": [
       "'Hi, everybody. Congratulations to H.B.C.U. class of 2020. Michelle and I are so proud of you.Graduating from college is a big achievement under any circumstances. And so many of you overcame a lot to get here. You navigated challenging classes, and challenges outside the classroom. Many of you had to stretch to afford tuition. And some of you are the first in your families to reach this milestone.So even if half this semester was spent at Zoom University, you’ve earned this moment. You should be very proud. Everybody who supported you along the way is proud of you — parents, grandparents, professors, mentors, aunties, uncles, brothers, sisters, cousins, second cousins, cousins who you aren’t even sure are cousins. Show them some gratitude today.Now look, I know this isn’t the commencement any of you really imagined. Because while our H.B.C.U.s are mostly known for an education rooted in academic rigor, community, higher purpose — they also know how to turn up. Nobody shines quite like a senior on the yard in springtime. Springfest at schools like Howard and Morehouse, that’s the time when you get to strut your stuff a little bit. And I know that in normal times, rivals like Grambling and Southern, Jackson State and Tennessee State, might raise some eyebrows at sharing a graduation ceremony.But these aren’t normal times. You’re being asked to find your way in a world in the middle of a devastating pandemic and a terrible recession. The timing is not ideal. And let’s be honest — a disease like this just spotlights the underlying inequalities and extra burdens that black communities have historically had to deal with in this country. We see it in the disproportionate impact of Covid-19 on our communities, just as we see it when a black man goes for a jog, and some folks feel like they can stop and question and shoot him if he doesn’t submit to their questioning.Injustice like this isn’t new. What is new is that so much of your generation has woken up to the fact that the status quo needs fixing; that the old ways of doing things don’t work; and that it doesn’t matter how much money you make if everyone around you is hungry and sick; that our society and democracy only works when we think not just about ourselves, but about each other.More than anything, this pandemic has fully, finally torn back the curtain on the idea that so many of the folks in charge know what they’re doing. A lot of them aren’t even pretending to be in charge.If the world’s going to get better, it’s going to be up to you. With everything suddenly feeling like it’s up for grabs, this is your time to seize the initiative. Nobody can tell you anymore that you should be waiting your turn. Nobody can tell you anymore “this is how it’s always been done.” More than ever, this is your moment — your generation’s world to shape.In taking on this responsibility, I hope you are bold. I hope you have a vision that isn’t clouded by cynicism or fear. As young African Americans, you’ve been exposed, earlier than some, to the world as it is. But as young H.B.C.U. grads, your education has also shown you the world as it ought to be.Many of you could have attended any school in this country. But you chose an H.B.CU. — specifically because it would help you sow seeds of change. You chose to follow in the fearless footsteps of people who shook the system to its core — civil rights icons like Thurgood Marshall and Dr. King, storytellers like Toni Morrison and Spike Lee. You chose to study medicine at Meharry, and engineering at NC A&T, because you want to lead and serve.And I’m here to tell you, you made a great choice. Whether you realize it or not, you’ve got more road maps, more role models, more resources than the civil rights generation did. You’ve got more tools, technology, and talents than my generation did. No generation has been better positioned to be warriors for justice and remake the world.Now, I’m not going to tell you what to do with all that power that’s in your hands. Many of you are already using it so well to create change. But let me offer three pieces of advice as you continue on your journey.First, make sure you ground yourself in actual communities with real people — working whenever you can at the grass-roots level. The fight for equality and justice begins with awareness, empathy, passion, even righteous anger. Don’t just activate yourself online. Change requires strategy, action, organizing, marching, and voting in the real world like never before. No one is better positioned than this class of graduates to take that activism to the next level. And from tackling health disparities to fighting for criminal justice and voting rights, so many of you are already doing this. Keep on going.Second, you can’t do it alone. Meaningful change requires allies in common cause. As African Americans, we are particularly attuned to injustice, inequality, and struggle. But that also should make us more alive to the experiences of others who’ve been left out and discriminated against.So rather than say, “What’s in it for me?” or “What’s in it for my community? And to heck with everyone else,” stand up for and join up with everyone who’s struggling — whether immigrants, refugees, the rural poor, the L.G.B.T. community, low-income workers of every background, women who so often are subject to their own discrimination and burdens and not getting equal pay for equal work; look out for folks whether they are white or black or Asian or Latino or Native American. As Fannie Lou Hamer once said, “nobody’s free until everybody’s free.”And on the big unfinished goals in this country, like economic and environmental justice and health care for everybody, broad majorities agree on the ends. That’s why folks with power will keep trying to divide you over the means. That’s how nothing changes. You get a system that looks out for the rich and powerful and nobody else. So expand your moral imaginations, build bridges, and grow your allies in the process of bringing about a better world.And finally, as H.B.C.U. graduates, you have to remember that you are inheritors of one of America’s proudest traditions. Which means you’re all role models now — whether you like it or not. Your participation in this democracy, your courage to stand up for what’s right, your willingness to forge coalitions — these actions will speak volumes. And if you are inactive, that will also speak volumes. Not just to the young folks coming up behind you — but to your parents, your peers, and the rest of the country. They need to see your leadership — you’re the folks we’ve been waiting for to come along.That’s the power you hold. The power to shine brightly for justice, and for equality, and for joy. You’ve earned your degree. And it’s up to you to use it. So many of us believe in you. I’m so proud of you. And as you set out to change the world, we’ll be the wind at your back.Congratulations Class of 2020, and God bless all of you.'"
      ]
     },
     "execution_count": 35,
     "metadata": {},
     "output_type": "execute_result"
    }
   ],
   "source": [
    "body11 = soup11.find_all('p')[8:-1]\n",
    "\n",
    "speech11 = []\n",
    "for p in body11:\n",
    "    speech11.append(p.text)\n",
    "speech11 = ''.join(speech11)\n",
    "\n",
    "speech.append(speech11)\n"
   ]
  },
  {
   "cell_type": "markdown",
   "metadata": {},
   "source": [
    "#### Denzel Washington"
   ]
  },
  {
   "cell_type": "code",
   "execution_count": 36,
   "metadata": {},
   "outputs": [],
   "source": [
    "year12 = 2018\n",
    "name12 = 'Denzen Washington'\n",
    "url12 = 'https://almanac.upenn.edu/archive/volumes/v57/n34/comm-washington.html'\n",
    "\n",
    "page12 = requests.get(url12).text\n",
    "soup12 = BeautifulSoup(page12, 'html.parser')\n",
    "name.append(name12)"
   ]
  },
  {
   "cell_type": "code",
   "execution_count": 37,
   "metadata": {},
   "outputs": [
    {
     "data": {
      "text/plain": [
       "'President Gutmann; Provost Price; Board Chair Cohen; fellow honorees; and today’s graduates: I’m honored and grateful for the invitation today.  It’s always great to be on the Penn campus. I’ve been to a lot of basketball games at the Palestra because my son played on the team. Coach didn’t give him enough playing time, but we’ll talk about that later. No, I’m very pleased with the progress Coach Allen has made and I wish them success in the future.I’d always get a warm welcome here—except on the few occasions when I’d wear my Yankees cap.  It’s like taking your life in your hands. People would say: “We love you Denzel. But you walking around with that hat on…we don’t care who you are.”So you’ll be happy to see that I’m not wearing my Yankees cap today.  But I am wearing my Yankees socks, my Yankees t-shirt, and my Yankees underwear. Still, I’ll be honest with you: I’m a little nervous. Speaking at a graduation of this magnitude is a little overwhelming.  This is out of my comfort zone.Dress me up in army fatigues. Throw me on top of a moving train.  Ask me to play Malcolm X, Rubin Hurricane Carter, Alonzo from Training Day: I can do all that.  But a commencement speech? It’s a very serious affair. Different ballgame. There’s literally thousands and thousands of people here. And for those who say—you’re a movie star, millions of people watch you speak all the time…… Yes, that’s technically true.  But I’m not actually there in the theater—watching them watching me. I’m not there when they cough… or fidget… or pull out their iPhone and text their boyfriend… or scratch their behinds. From up here: I can see every single one of you. And that makes me uncomfortable.  So please, don’t pull out your iPhone and text your boyfriend until after I’m done.   But if you need to scratch your behinds, go right ahead. I’ll understand.Thinking about the speech, I figured the best way to keep your attention would be to talk about some really, juicy Hollywood stuff. I thought I could start with me and Russell Crowe getting into some arguments on the set of American Gangster…… but no. You’re a group of high-minded intellectuals. You’re not interested in that.Or how about that “private” moment I had with Angelina Jolie half naked in her dressing room backstage at the Oscars?… Who wants to hear about that? I don’t think so. This is an Ivy League school. Angelina Jolie in her dressing room…?No, this is Penn. That stuff wouldn’t go over well here. Maybe at Drexel—but not here. I’m in trouble now.I was back to square one—and feeling the pressure.  So now you’re probably thinking—if it was gonna be this difficult, why’d I even accept today’s invitation in the first place?Well, you know my son goes here. That’s a good reason. And I always like to check to see how my money’s being spent.And I’m sure there’s some parents out there who can relate to what I’m talking about!And there were other good reasons for me to show up.Sure, I got an Academy Award… but I never had something called “Magic Meatballs” after waiting in line for half an hour at a food truck.True, I’ve talked face-to-face with President Obama… but I never met a guy named “Kweeder” who sings bad cover songs at Smokes on a Tuesday night.Yes, I’ve played a detective battling demons… but I’ve never been to a school in my life where the squirrel population has gone bananas, breaking into the dorm rooms and taking over campus. I think I’ve even seen some carrying books on the way to class! So I had to be here. I had to come… even though I was afraid I might make a fool of myself.In fact… if you really want to know the truth:  I had to come… exactly because I might make a fool of myself.What am I talking about?Well, here it is:I’ve found that nothing in life is worthwhile unless you take risks.Nothing.Nelson Mandela said:“There is no passion to be found playing small—in settling for a life that’s less than the one you’re capable of living.” I’m sure in your experiences—in school… in applying to college… in picking your major… in deciding what you want to do with life—people have told you to make sure you have something to “fall back on.” But I’ve never understood that concept, having something to fall back on. If I’m going to fall, I don’t want to fall back on anything, except my faith. I want to fall… forward.  At least I figure that way I’ll see what I’m about to hit.Fall forward.Here’s what I mean:  Reggie Jackson struck out twenty-six-hundred times in his career—the most in the history of baseball.  But you don’t hear about the strikeouts. People remember the home runs. Fall forward.Thomas Edison conducted 1,000 failed experiments. Did you know that?  I didn’t either—because #1,001 was the light bulb.Fall forward.Every failed experiment is one step closer to success.  You’ve got to take risks. And I’m sure you’ve probably heard that before.But I want to talk about why it’s so important.I’ve got three reasons—and then you can pick up your iPhones. First… you will fail at some point in your life. Accept it. You will lose.  You will embarrass yourself. You will suck at something. There is no doubt about it.That’s probably not a traditional message for a graduation ceremony.  But, hey, I’m telling you—embrace it. Because it’s inevitable. And I should know: In the acting business, you fail all the time. Early in my career, I auditioned for a part in a Broadway musical. A perfect role for me, I thought—except for the fact that I can’t sing. So I’m in the wings, about to go on stage but the guy in front of me is singing like Pavarotti and I am just shrinking getting smaller and smaller... So I come out with my little sheet music and it was “Just My Imagination” by the Temptations, that’s what I came up with.So I hand it to the accompanist, and she looks at it and looks at me and looks at the director, so I start to sing and they’re not saying anything. I think I must be getting better, so I start getting into it.But after the first verse, the director cuts me off: “Thank you. Thank you very much, you’ll be hearing from me.”The next part of the audition is the acting part. I figure, I can’t sing, but I know I can act.But the guy I was paired with to do the scene couldn’t be more overdramatic and over-the top. Suffice to say, I didn’t get the part. But here’s the thing: I didn’t quit. I didn’t fall back.I walked out of there to prepare for the next audition, and the next audition, and the next one. I prayed and I prayed, but I continued to fail, and I failed, and I failed.But it didn’t matter. Because you know what? You hang around a barbershop long enough—sooner or later you will get a haircut.You will catch a break.Last year I did a play called Fences on Broadway and I won a Tony Award. And I didn’t have to sing for it, by the way.  And here’s the kicker—it was at the Court Theater, the same theater where I failed that first audition 30 years prior. The point is, every graduate here today has the training and the talent to succeed. But do you have guts to fail? Here’s my second point about failure:  If you don’t fail… you’re not even trying.My wife told me this expression: “To get something you never had, you have to do something you never did.”Les Brown, a motivational speaker, made an analogy about this. Imagine you’re on your deathbed—and standing around your bed are the ghosts representing your unfilled potential.The ghosts of the ideas you never acted on. The ghosts of the talents you didn’t use. And they’re standing around your bed. Angry. Disappointed. Upset.  “We came to you because you could have brought us to life,” they say.  “And now we go to the grave together.”So I ask you today: How many ghosts are going to be around your bed when your time comes? You invested a lot in your education. And people invested in you. And let me tell you, the world needs your talents.  Man, does it ever. I just got back from four months of filming in South Africa—beautiful country, but there are places with terrible poverty that need help.                      And Africa is just the tip of the iceberg. The Middle East needs your help. Japan needs your help. Alabama and Tennessee need your help. Louisiana needs your help. Philadelphia needs your help.The world needs a lot—and we need it from you, the young people.  So get out there. Give it everything you’ve got—whether it’s your time, your talent, your prayers, or your treasure.Because remember this: You’ll never see a U-haul behind a hearse.  You can’t take it with you. The Ancient Egyptians tried it—and all they got was robbed!So what are you going to do with what you have? And I’m not talking how much you have.Some of you are business majors. Some of you are theologians, nurses, sociologists. Some of you have money. Some of you have patience. Some have kindness.  Some have love. Some of you have the gift of long-suffering.Whatever it is… what are you going to do with what you have?Now here’s my last point about failure: Sometimes it’s the best way to figure out where you’re going. Your life will never be a straight path.I began at Fordham University as a pre-med student. That lasted until I took a course called “Cardiac Morphogenesis.”  I couldn’t pronounce it… and I couldn’t pass it.Then I decided to go pre-law. Then journalism. With no academic focus, my grades took off in their own direction: down. My GPA was 1.8 one semester, and the university very politely suggested it might be better to take some time off.  I was 20 years old, at my lowest point. And then one day—and I remember the exact day: March 27th, 1975—I was helping out in the beauty shop my mother owned in Mount Vernon.                       An older woman who belonged to my mother’s church, one of the elders of the town, was in there getting her hair done and kept giving me these strange looks.She finally took the drier off her head and said something to me I’ll never forget:“Young boy,” she said. “I have a spiritual prophecy: you are going to travel the world and speak to millions of people.”Like a wise-ass, I’m thinking to myself: “Does she got anything in that crystal ball about me getting back to college in the fall?”But maybe she was on to something. Because later that summer, while working as a counselor at a YMCA camp in Connecticut, we put on a talent show for the campers.  After the show, another counselor came up to me and asked: “Have you ever thought of acting? You should. You’re good at that.”When I got back to Fordham that fall I changed my major once again —for the last time.And in the years that followed—just as that woman getting her hair done predicted—I have traveled the world and I have spoken to millions of people through my movies.  Millions who—up ‘till today—I couldn’t see while I was talking to them.But I do see you today. And I’m encouraged by what I see. I’m strengthened by what I see. I love what I see. Let me conclude with one final point. Many years ago I did this movie called Philadelphia. We actually filmed some scenes right here on campus.Philadelphia came out in 1993, when most of you were probably still crawling around in diapers. Some of the professors, too.But it’s a good movie. Rent it on Netflix. I get 23 cents every time you do. Tell your friends, too!It’s about a man, played by Tom Hanks, who’s fired from his law firm because he has AIDS.  He wants to sue the firm, but no one’s willing to represent him until a homophobic, ambulance-chasing lawyer—played by yours truly—takes on the case. In a way, if you watch the movie, you’ll see everything I’m talking about today.You’ll see what I mean about taking risks or being willing to fail. Because taking a risk is not just about going for a job.  It’s also about knowing what you know and what you don’t know. It’s about being open to people and ideas.Over the course of the film, the character I play begins to take risks. He slowly overcomes his fears, and ultimately his heart becomes flooded with love. And I can’t think of a better message as we send you off today.To not only take risks, but to be open to life.  To accept new views and to be open to new opinions.To be willing to speak at commencement at one of the country’s best universities… even though you’re scared stiff.While it may be frightening, it will also be rewarding.Because the chances you take… the people you meet… the people you love...the faith that you have—that’s what’s going to define your life.So… members of the class of 2011: This is your mission:When you leave the friendly confines of West Philly: Never be discouraged. Never hold back. Give everything you’ve got.And when you fall throughout life—and maybe even tonight after a few too many glasses of champagne—fall forward.  Congratulations, I love you, God bless you, I respect you.  '"
      ]
     },
     "execution_count": 37,
     "metadata": {},
     "output_type": "execute_result"
    }
   ],
   "source": [
    "body12 = soup12.find_all('p')[4:-20]\n",
    "\n",
    "speech12 = []\n",
    "for p in body12:\n",
    "    speech12.append(p.text)\n",
    "speech12 = ''.join(speech12)\n",
    "speech12 = speech12.replace('\\n',' ')\n",
    "speech12 = speech12.replace('\\xa0',' ')\n",
    "speech.append(speech12)\n"
   ]
  },
  {
   "cell_type": "markdown",
   "metadata": {},
   "source": [
    "#### Mark Zuckerburg"
   ]
  },
  {
   "cell_type": "code",
   "execution_count": 38,
   "metadata": {},
   "outputs": [],
   "source": [
    "year13 = 2018\n",
    "name13 = 'Mark Zuckerburg'\n",
    "url13 = 'https://qz.com/992048/mark-zuckerbergs-harvard-speech-a-full-transcript-of-the-facebook-ceos-commencement-address/'\n",
    "\n",
    "page13 = requests.get(url13).text\n",
    "soup13 = BeautifulSoup(page13, 'html.parser')\n",
    "name.append(name13)"
   ]
  },
  {
   "cell_type": "code",
   "execution_count": 39,
   "metadata": {},
   "outputs": [
    {
     "data": {
      "text/plain": [
       "'President Faust, Board of Overseers, faculty, alumni, friends, proud parents, members of the ad board, and graduates of the greatest university in the world. I’m honored to be with you today because, let’s face it, you accomplished something I never could. If I get through this speech, it’ll be the first time I actually finish something at Harvard. Class of 2017, congratulations!I’m an unlikely speaker, not just because I dropped out, but because we’re technically in the same generation. We walked this yard less than a decade apart, studied the same ideas and slept through the same Ec10 lectures. We may have taken different paths to get here, especially if you came all the way from the Quad, but today I want to share what I’ve learned about our generation and the world we’re building together.But first, the last couple of days have brought back a lot of good memories.How many of you remember exactly what you were doing when you got that email telling you that you got into Harvard? I was playing Civilization and I ran downstairs, got my dad, and for some reason, his reaction was to video me opening the email. That could have been a really sad video. I swear getting into Harvard is still the thing my parents are most proud of me for.What about your first lecture at Harvard? Mine was Computer Science 121 with the incredible Harry Lewis. I was late so I threw on a t-shirt and didn’t realize until afterwards it was inside out and backwards with my tag sticking out the front. I couldn’t figure out why no one would talk to me—except one guy, KX Jin, he just went with it. We ended up doing our problem sets together, and now he runs a big part of Facebook. And that, Class of 2017, is why you should be nice to people.But my best memory from Harvard was meeting Priscilla. I had just launched this prank website Facemash, and the ad board wanted to “see me”. Everyone thought I was going to get kicked out. My parents came to help me pack. My friends threw me a going-away party. As luck would have it, Priscilla was at that party with her friend. We met in line for the bathroom in the Pfoho Belltower, and in what must be one of the all-time romantic lines, I said: “I’m going to get kicked out in three days, so we need to go on a date quickly.”Actually, any of you graduating can use that line.I didn’t end up getting kicked out—I did that to myself. Priscilla and I started dating. And, you know, that movie made it seem like Facemash was so important to creating Facebook. It wasn’t. But without Facemash I wouldn’t have met Priscilla, and she’s the most important person in my life, so you could say it was the most important thing I built in my time here.We’ve all started lifelong friendships here, and some of us even families. That’s why I’m so grateful to this place. Thanks, Harvard.Today I want to talk about purpose. But I’m not here to give you the standard commencement about finding your purpose. We’re millennials. We’ll try to do that instinctively. Instead, I’m here to tell you finding your purpose isn’t enough. The challenge for our generation is creating a world where everyone has a sense of purpose.One of my favorite stories is when John F. Kennedy visited the NASA space center, he saw a janitor carrying a broom and he walked over and asked what he was doing. The janitor responded: “Mr. President, I’m helping put a man on the moon.”Purpose is that sense that we are part of something bigger than ourselves, that we are needed, that we have something better ahead to work for. Purpose is what creates true happiness.You’re graduating at a time when this is especially important. When our parents graduated, purpose reliably came from your job, your church, your community. But today, technology and automation are eliminating many jobs. Membership in communities is declining. Many people feel disconnected and depressed, and are trying to fill a void.As I’ve traveled around, I’ve sat with children in juvenile detention and opioid addicts, who told me their lives could have turned out differently if they just had something to do, an after-school program or somewhere to go. I’ve met factory workers who know their old jobs aren’t coming back and are trying to find their place.To keep our society moving forward, we have a generational challenge—to not only create new jobs, but create a renewed sense of purpose.I remember the night I launched Facebook from my little dorm in Kirkland House. I went to Noch’s with my friend KX. I remember telling him I was excited to connect the Harvard community, but one day someone would connect the whole world.The thing is, it never even occurred to me that someone might be us. We were just college kids. We didn’t know anything about that. There were all these big technology companies with resources. I just assumed one of them would do it. But this idea was so clear to us—that all people want to connect. So we just kept moving forward, day by day.I know a lot of you will have your own stories just like this. A change in the world that seems so clear you’re sure someone else will do it. But they won’t. You will.But it’s not enough to have purpose yourself. You have to create a sense of purpose for others. I found that out the hard way. You see, my hope was never to build a company, but to make an impact. And as all these people started joining us, I just assumed that’s what they cared about too, so I never explained what I hoped we’d build.A couple years in, some big companies wanted to buy us. I didn’t want to sell. I wanted to see if we could connect more people. We were building the first News Feed, and I thought if we could just launch this, it could change how we learn about the world.Nearly everyone else wanted to sell. Without a sense of higher purpose, this was the startup dream come true. It tore our company apart. After one tense argument, an advisor told me if I didn’t agree to sell, I would regret the decision for the rest of my life. Relationships were so frayed that within a year or so every single person on the management team was gone.That was my hardest time leading Facebook. I believed in what we were doing, but I felt alone. And worse, it was my fault. I wondered if I was just wrong, an imposter, a 22 year-old kid who had no idea how the world worked.Now, years later, I understand that is how things work with no sense of higher purpose. It’s up to us to create it so we can all keep moving forward together.Today I want to talk about three ways to create a world where everyone has a sense of purpose: by taking on big meaningful projects together, by redefining equality so everyone has the freedom to pursue purpose, and by building community across the world.First, let’s take on big meaningful projects.Our generation will have to deal with tens of millions of jobs replaced by automation like self-driving cars and trucks. But we have the potential to do so much more together.Every generation has its defining works. More than 300,000 people worked to put a man on the moon—including that janitor. Millions of volunteers immunized children around the world against polio. Millions of more people built the Hoover Dam and other great projects.These projects didn’t just provide purpose for the people doing those jobs, they gave our whole country a sense of pride that we could do great things.Now it’s our turn to do great things. I know, you’re probably thinking: I don’t know how to build a dam, or get a million people involved in anything.But let me tell you a secret: No one does when they begin. Ideas don’t come out fully formed. They only become clear as you work on them. You just have to get started.If I had to understand everything about connecting people before I began, I never would have started Facebook.Movies and pop culture get this all wrong. The idea of a single eureka moment is a dangerous lie. It makes us feel inadequate since we haven’t had ours. It prevents people with seeds of good ideas from getting started.Oh, you know what else movies get wrong about innovation? No one writes math formulas on glass. That’s not a thing.It’s good to be idealistic. But be prepared to be misunderstood. Anyone working on a big vision will get called crazy, even if you end up right. Anyone working on a complex problem will get blamed for not fully understanding the challenge, even though it’s impossible to know everything upfront. Anyone taking initiative will get criticized for moving too fast, because there’s always someone who wants to slow you down.In our society, we often don’t do big things because we’re so afraid of making mistakes that we ignore all the things wrong today if we do nothing. The reality is, anything we do will have issues in the future. But that can’t keep us from starting.So what are we waiting for? It’s time for our generation-defining public works. How about stopping climate change before we destroy the planet, and getting millions of people involved manufacturing and installing solar panels? How about curing all diseases and asking volunteers to track their health data and share their genomes? Today we spend 50x more treating people who are sick than we spend finding cures so people don’t get sick in the first place. That makes no sense. We can fix this. How about modernizing democracy so everyone can vote online, and personalizing education so everyone can learn?These achievements are within our reach. Let’s do them all in a way that gives everyone in our society a role. Let’s do big things, not only to create progress, but to create purpose. So taking on big meaningful projects is the first thing we can do to create a world where everyone has a sense of purpose.The second is redefining equality to give everyone the freedom they need to pursue purpose. Many of our parents had stable jobs throughout their careers. Now we’re all entrepreneurial, whether we’re starting projects or finding or role. And that’s great. Our culture of entrepreneurship is how we create so much progress.Now, an entrepreneurial culture thrives when it’s easy to try lots of new ideas. Facebook wasn’t the first thing I built. I also built games, chat systems, study tools and music players. I’m not alone. JK Rowling got rejected 12 times before publishing Harry Potter. Even Beyonce had to make hundreds of songs to get “Halo.” The greatest successes come from having the freedom to fail.But today, we have a level of wealth inequality that hurts everyone. When you don’t have the freedom to take your idea and turn it into a historic enterprise, we all lose. Right now our society is way over-indexed on rewarding success and we don’t do nearly enough to make it easy for everyone to take lots of shots.Let’s face it. There is something wrong with our system when I can leave here and make billions of dollars in 10 years while millions of students can’t afford to pay off their loans, let alone start a business.Look, I know a lot of entrepreneurs, and I don’t know a single person who gave up on starting a business because they might not make enough money. But I know lots of people who haven’t pursued dreams because they didn’t have a cushion to fall back on if they failed.We all know we don’t succeed just by having a good idea or working hard. We succeed by being lucky too. If I had to support my family growing up instead of having time to code, if I didn’t know I’d be fine if Facebook didn’t work out, I wouldn’t be standing here today. If we’re honest, we all know how much luck we’ve had.Every generation expands its definition of equality. Previous generations fought for the vote and civil rights. They had the New Deal and Great Society. Now it’s our time to define a new social contract for our generation.We should have a society that measures progress not just by economic metrics like GDP, but by how many of us have a role we find meaningful. We should explore ideas like universal basic income to give everyone a cushion to try new things. We’re going to change jobs many times, so we need affordable child care to get to work and health care that aren’t tied to one company. We’re all going to make mistakes, so we need a society that focuses less on locking us up or stigmatizing us. And as technology keeps changing, we need to focus more on continuous education throughout our lives.And yes, giving everyone the freedom to pursue purpose isn’t free. People like me should pay for it. Many of you will do well and you should too.That’s why Priscilla and I started the Chan Zuckerberg Initiative and committed our wealth to promoting equal opportunity. These are the values of our generation. It was never a question of if we were going to do this. The only question was when.Millennials are already one of the most charitable generations in history. In one year, three of four US millennials made a donation and seven out of ten raised money for charity.But it’s not just about money. You can also give time. I promise you, if you take an hour or two a week—that’s all it takes to give someone a hand, to help them reach their potential.Maybe you think that’s too much time. I used to. When Priscilla graduated from Harvard she became a teacher, and before she’d do education work with me, she told me I needed to teach a class. I complained: “Well, I’m kind of busy. I’m running this company.” But she insisted, so I taught a middle-school program on entrepreneurship at the local Boys and Girls Club.I taught them lessons on product development and marketing, and they taught me what it’s like feeling targeted for your race and having a family member in prison. I shared stories from my time in school, and they shared their hope of one day going to college too. For five years now, I’ve been having dinner with those kids every month. One of them threw me and Priscilla our first baby shower. And next year they’re going to college. Every one of them. First in their families.We can all make time to give someone a hand. Let’s give everyone the freedom to pursue their purpose—not only because it’s the right thing to do, but because when more people can turn their dreams into something great, we’re all better for it.Purpose doesn’t only come from work. The third way we can create a sense of purpose for everyone is by building community. And when our generation says “everyone,” we mean everyone in the world.Quick show of hands: How many of you are from another country? Now, how many of you are friends with one of these folks? Now we’re talking. We have grown up connected.In a survey asking millennials around the world what defines our identity, the most popular answer wasn’t nationality, religion or ethnicity, it was “citizen of the world”. That’s a big deal. Every generation expands the circle of people we consider “one of us.” For us, it now encompasses the entire world.We understand the great arc of human history bends towards people coming together in ever greater numbers—from tribes to cities to nations—to achieve things we couldn’t on our own.We get that our greatest opportunities are now global—we can be the generation that ends poverty, that ends disease. We get that our greatest challenges need global responses too—no country can fight climate change alone or prevent pandemics. Progress now requires coming together not just as cities or nations, but also as a global community.But we live in an unstable time. There are people left behind by globalization across the world. It’s hard to care about people in other places if we don’t feel good about our lives here at home. There’s pressure to turn inwards.This is the struggle of our time. The forces of freedom, openness and global community against the forces of authoritarianism, isolationism, and nationalism. Forces for the flow of knowledge, trade and immigration against those who would slow them down. This is not a battle of nations, it’s a battle of ideas. There are people in every country for global connection and good people against it.This isn’t going to be decided at the UN either. It’s going to happen at the local level, when enough of us feel a sense of purpose and stability in our own lives that we can open up and start caring about everyone. The best way to do that is to start building local communities right now.We all get meaning from our communities. Whether our communities are houses or sports teams, churches or music groups, they give us that sense we are part of something bigger, that we are not alone; they give us the strength to expand our horizons.That’s why it’s so striking that for decades, membership in all kinds of groups has declined as much as one-quarter. That’s a lot of people who now need to find purpose somewhere else.But I know we can rebuild our communities and start new ones because many of you already are.I met Agnes Igoye, who’s graduating today. Where are you, Agnes? She spent her childhood navigating conflict zones in Uganda, and now she trains thousands of law-enforcement officers to keep communities safe.I met Kayla Oakley and Niha Jain, graduating today, too. Stand up. Kayla and Niha started a nonprofit that connects people suffering from illnesses with people in their communities willing to help.I met David Razu Aznar, graduating from the Kennedy School today. David, stand up. He’s a former city councilor who successfully led the battle to make Mexico City the first Latin American city to pass marriage equality—even before San Francisco.This is my story too. A student in a dorm room, connecting one community at a time, and keeping at it until one day we connect the whole world.Change starts local. Even global changes start small—with people like us. In our generation, the struggle of whether we connect more, whether we achieve our biggest opportunities, comes down to this—your ability to build communities and create a world where every single person has a sense of purpose.Class of 2017, you are graduating into a world that needs purpose. It’s up to you to create it. Now, you may be thinking: Can I really do this?Remember when I told you about that class I taught at the Boys and Girls Club? One day after class I was talking to them about college, and one of my top students raised his hand and said he wasn’t sure he could go because he’s undocumented. He didn’t know if they’d let him in.Last year I took him out to breakfast for his birthday. I wanted to get him a present, so I asked him and he started talking about students he saw struggling and said, “You know, I’d really just like a book on social justice.”I was blown away. Here’s a young guy who has every reason to be cynical. He didn’t know if the country he calls home—the only one he’s known—would deny him his dream of going to college. But he wasn’t feeling sorry for himself. He wasn’t even thinking of himself. He has a greater sense of purpose, and he’s going to bring people along with him.It says something about our current situation that I can’t even say his name because I don’t want to put him at risk. But if a high-school senior who doesn’t know what the future holds can do his part to move the world forward, then we owe it to the world to do our part too.Before you walk out those gates one last time, as we sit in front of Memorial Church, I am reminded of a prayer, Mi Shebeirach, that I say whenever I face a challenge, that I sing to my daughter thinking about her future when I tuck her into bed. It goes:”May the source of strength, who blessed the ones before us, help us find the courage to make our lives a blessing.”I hope you find the courage to make your life a blessing.Congratulations, Class of ’17! Good luck out there.'"
      ]
     },
     "execution_count": 39,
     "metadata": {},
     "output_type": "execute_result"
    }
   ],
   "source": [
    "body13 = soup13.find_all('p')[9:-8]\n",
    "\n",
    "speech13 = []\n",
    "for p in body13:\n",
    "    speech13.append(p.text)\n",
    "speech13 = ''.join(speech13)\n",
    "speech13 = speech13.replace('\\n',' ')\n",
    "speech13 = speech13.replace('\\xa0',' ')\n",
    "speech.append(speech13)\n"
   ]
  },
  {
   "cell_type": "markdown",
   "metadata": {},
   "source": [
    "### FRED ROGERS  "
   ]
  },
  {
   "cell_type": "code",
   "execution_count": 40,
   "metadata": {},
   "outputs": [],
   "source": [
    "year14 = 2018\n",
    "name14 = 'FRED ROGERS'\n",
    "url14 = 'https://www.marquette.edu/university-honors/honorary-degrees/rogers-speech.php'\n",
    "\n",
    "page14 = requests.get(url14).text\n",
    "soup14 = BeautifulSoup(page14, 'html.parser')\n",
    "name.append(name14)"
   ]
  },
  {
   "cell_type": "code",
   "execution_count": 41,
   "metadata": {},
   "outputs": [],
   "source": [
    "body14 = soup14.find_all('p')[25:-8]\n",
    "\n",
    "speech14 = []\n",
    "for p in body14:\n",
    "    speech14.append(p.text)\n",
    "speech14 = ''.join(speech14)\n",
    "speech14 = speech14.replace('\\n',' ')\n",
    "speech14 = speech14.replace('\\xa0',' ')\n",
    "speech.append(speech14)\n"
   ]
  },
  {
   "cell_type": "markdown",
   "metadata": {},
   "source": [
    "###  Joe Biden"
   ]
  },
  {
   "cell_type": "code",
   "execution_count": 42,
   "metadata": {},
   "outputs": [],
   "source": [
    "year15 = 2018\n",
    "name15 = 'Joe Biden'\n",
    "url15 = 'http://www2.dailyorange.com/2015/11/full-text-of-joe-bidens-2009-su-commencement-speech/'\n",
    "\n",
    "page15 = requests.get(url15).text\n",
    "soup15 = BeautifulSoup(page15, 'html.parser')\n",
    "name.append(name15)"
   ]
  },
  {
   "cell_type": "code",
   "execution_count": 43,
   "metadata": {},
   "outputs": [],
   "source": [
    "body15 = soup15.find_all('p')[45:-39]\n",
    "\n",
    "speech15 = []\n",
    "for p in body15:\n",
    "    speech15.append(p.text)\n",
    "speech15 = ''.join(speech15)\n",
    "speech15 = speech15.replace('\\n',' ')\n",
    "speech15 = speech15.replace('\\xa0',' ')\n",
    "speech.append(speech15)\n"
   ]
  },
  {
   "cell_type": "markdown",
   "metadata": {},
   "source": [
    "###  David Gergen"
   ]
  },
  {
   "cell_type": "code",
   "execution_count": 44,
   "metadata": {},
   "outputs": [],
   "source": [
    "year16 = 2018\n",
    "name16 = 'David Gergen'\n",
    "url16 = 'https://www.elonnewsnetwork.com/article/2016/05/gergen-elongrad-commencement-speech-full'\n",
    "\n",
    "page16 = requests.get(url16).text\n",
    "soup16 = BeautifulSoup(page16, 'html.parser')\n",
    "name.append(name16)"
   ]
  },
  {
   "cell_type": "code",
   "execution_count": 45,
   "metadata": {},
   "outputs": [],
   "source": [
    "body16 = soup16.find_all('p')[4:-2]\n",
    "\n",
    "speech16 = []\n",
    "for p in body16:\n",
    "    speech16.append(p.text)\n",
    "speech16 = ''.join(speech16)\n",
    "speech16 = speech16.replace('\\n',' ')\n",
    "speech16 = speech16.replace('\\xa0',' ')\n",
    "speech.append(speech16)\n"
   ]
  },
  {
   "cell_type": "markdown",
   "metadata": {},
   "source": [
    "### Toni Morrison "
   ]
  },
  {
   "cell_type": "code",
   "execution_count": 46,
   "metadata": {},
   "outputs": [],
   "source": [
    "year17 = 2018\n",
    "name17 = 'Toni Morrison'\n",
    "url17 = 'http://www.humanity.org/voices/commencements/toni-morrison-wellesley-college-speech-2004'\n",
    "\n",
    "page17 = requests.get(url17).text\n",
    "soup17 = BeautifulSoup(page17, 'html.parser')\n",
    "name.append(name17)"
   ]
  },
  {
   "cell_type": "code",
   "execution_count": 47,
   "metadata": {},
   "outputs": [],
   "source": [
    "body17 = soup17.find_all('p')[1:-1]\n",
    "\n",
    "speech17 = []\n",
    "for p in body17:\n",
    "    speech17.append(p.text)\n",
    "speech17 = ''.join(speech17)\n",
    "speech17 = speech17.replace('\\n',' ')\n",
    "speech17 = speech17.replace('\\xa0',' ')\n",
    "speech.append(speech17)\n"
   ]
  },
  {
   "cell_type": "markdown",
   "metadata": {},
   "source": [
    "### Michael Bloomberg "
   ]
  },
  {
   "cell_type": "code",
   "execution_count": 48,
   "metadata": {},
   "outputs": [],
   "source": [
    "year18 = 2018\n",
    "name18 = 'Michael Bloomberg'\n",
    "url18 = 'https://news.mit.edu/2019/michael-bloomberg-commencement-address-0607'\n",
    "\n",
    "page18 = requests.get(url18).text\n",
    "soup18 = BeautifulSoup(page18, 'html.parser')\n",
    "name.append(name18)"
   ]
  },
  {
   "cell_type": "code",
   "execution_count": 49,
   "metadata": {},
   "outputs": [],
   "source": [
    "body18 = soup18.find_all('p')[4:-9]\n",
    "\n",
    "speech18 = []\n",
    "for p in body18:\n",
    "    speech18.append(p.text)\n",
    "speech18 = ''.join(speech18)\n",
    "speech18 = speech18.replace('\\n',' ')\n",
    "speech18 = speech18.replace('\\xa0',' ')\n",
    "speech.append(speech18)\n"
   ]
  },
  {
   "cell_type": "markdown",
   "metadata": {},
   "source": [
    "### George Saunders"
   ]
  },
  {
   "cell_type": "code",
   "execution_count": 51,
   "metadata": {},
   "outputs": [],
   "source": [
    "year19 = 2018\n",
    "name19 = 'George Saunders'\n",
    "url19 = 'https://www.theladders.com/career-advice/george-saunders-to-syracuses-class-of-2013-accomplishment-is-unreliable'\n",
    "\n",
    "page19 = requests.get(url19).text\n",
    "soup19 = BeautifulSoup(page19, 'html.parser')\n",
    "name.append(name19)"
   ]
  },
  {
   "cell_type": "code",
   "execution_count": 52,
   "metadata": {},
   "outputs": [],
   "source": [
    "body19 = soup19.find_all('p')[2:-3]\n",
    "\n",
    "speech19 = []\n",
    "for p in body19:\n",
    "    speech19.append(p.text)\n",
    "speech19 = ''.join(speech19)\n",
    "speech19 = speech19.replace('\\n',' ')\n",
    "speech19 = speech19.replace('\\xa0',' ')\n",
    "speech.append(speech19)"
   ]
  },
  {
   "cell_type": "markdown",
   "metadata": {},
   "source": [
    "### Condoleezza Rice"
   ]
  },
  {
   "cell_type": "code",
   "execution_count": 53,
   "metadata": {},
   "outputs": [],
   "source": [
    "year20 = 2018\n",
    "name20 = 'Condoleezza Rice'\n",
    "url20 = 'https://www.smu.edu/News/2012/commencement-Condoleezza-Rice-speech'\n",
    "\n",
    "page20 = requests.get(url20).text\n",
    "soup20 = BeautifulSoup(page20, 'html.parser')\n",
    "name.append(name20)"
   ]
  },
  {
   "cell_type": "code",
   "execution_count": 54,
   "metadata": {},
   "outputs": [],
   "source": [
    "body20 = soup20.find_all('p')[5:-2]\n",
    "\n",
    "speech20 = []\n",
    "for p in body20:\n",
    "    speech20.append(p.text)\n",
    "speech20 = ''.join(speech20)\n",
    "speech20 = speech20.replace('\\n',' ')\n",
    "speech20 = speech20.replace('\\xa0',' ')\n",
    "speech.append(speech20)\n"
   ]
  },
  {
   "cell_type": "markdown",
   "metadata": {},
   "source": [
    "### Elizabeth Warren "
   ]
  },
  {
   "cell_type": "code",
   "execution_count": 55,
   "metadata": {},
   "outputs": [],
   "source": [
    "year21 = 2018\n",
    "name21 = 'Elizabeth Warren'\n",
    "url21 = 'https://www.warren.senate.gov/newsroom/press-releases/warren-delivers-commencement-address-at-morgan-state-university'\n",
    "\n",
    "page21 = requests.get(url21).text\n",
    "soup21 = BeautifulSoup(page21, 'html.parser')\n",
    "name.append(name21)"
   ]
  },
  {
   "cell_type": "code",
   "execution_count": 56,
   "metadata": {},
   "outputs": [],
   "source": [
    "body21 = soup21.find_all('p')[5:-2]\n",
    "\n",
    "speech21 = []\n",
    "for p in body21:\n",
    "    speech21.append(p.text)\n",
    "speech21 = ''.join(speech21)\n",
    "speech21 = speech21.replace('\\n',' ')\n",
    "speech21 = speech21.replace('\\xa0',' ')\n",
    "speech.append(speech21)\n"
   ]
  },
  {
   "cell_type": "markdown",
   "metadata": {},
   "source": [
    "### John Green"
   ]
  },
  {
   "cell_type": "code",
   "execution_count": 58,
   "metadata": {},
   "outputs": [],
   "source": [
    "year22 = 2018\n",
    "name22 = 'John Green'\n",
    "url22 = 'https://www.kenyon.edu/news/archive/learn-to-listen/'\n",
    "\n",
    "page22 = requests.get(url22).text\n",
    "soup22 = BeautifulSoup(page22, 'html.parser')\n",
    "name.append(name22)"
   ]
  },
  {
   "cell_type": "code",
   "execution_count": 59,
   "metadata": {},
   "outputs": [],
   "source": [
    "body22 = soup22.find_all('p')[2:-2]\n",
    "\n",
    "speech22 = []\n",
    "for p in body22:\n",
    "    speech22.append(p.text)\n",
    "speech22 = ''.join(speech22)\n",
    "speech22 = speech22.replace('\\n',' ')\n",
    "speech22 = speech22.replace('\\xa0',' ')\n",
    "speech.append(speech22)\n"
   ]
  },
  {
   "cell_type": "markdown",
   "metadata": {},
   "source": [
    "### Larry Page"
   ]
  },
  {
   "cell_type": "code",
   "execution_count": 60,
   "metadata": {},
   "outputs": [],
   "source": [
    "year23 = 2018\n",
    "name23 = 'Larry Page'\n",
    "url23 = 'https://googlepress.blogspot.com/2009/05/larry-pages-university-of-michigan.html'\n",
    "\n",
    "page23 = requests.get(url23).text\n",
    "soup23 = BeautifulSoup(page23, 'html.parser')\n",
    "name.append(name23)"
   ]
  },
  {
   "cell_type": "code",
   "execution_count": 61,
   "metadata": {},
   "outputs": [],
   "source": [
    "body23 = soup23.find_all('p')[2:-1]\n",
    "\n",
    "speech23 = []\n",
    "for p in body23:\n",
    "    speech23.append(p.text)\n",
    "speech23 = ''.join(speech23)\n",
    "speech23 = speech23.replace('\\n',' ')\n",
    "speech23 = speech23.replace('\\xa0',' ')\n",
    "speech.append(speech23)\n"
   ]
  },
  {
   "cell_type": "code",
   "execution_count": 62,
   "metadata": {},
   "outputs": [
    {
     "data": {
      "text/html": [
       "<div>\n",
       "<style scoped>\n",
       "    .dataframe tbody tr th:only-of-type {\n",
       "        vertical-align: middle;\n",
       "    }\n",
       "\n",
       "    .dataframe tbody tr th {\n",
       "        vertical-align: top;\n",
       "    }\n",
       "\n",
       "    .dataframe thead th {\n",
       "        text-align: right;\n",
       "    }\n",
       "</style>\n",
       "<table border=\"1\" class=\"dataframe\">\n",
       "  <thead>\n",
       "    <tr style=\"text-align: right;\">\n",
       "      <th></th>\n",
       "      <th>name</th>\n",
       "      <th>speech</th>\n",
       "    </tr>\n",
       "  </thead>\n",
       "  <tbody>\n",
       "    <tr>\n",
       "      <th>0</th>\n",
       "      <td>Donald Trump</td>\n",
       "      <td>Thank you very much, everybody. And congratula...</td>\n",
       "    </tr>\n",
       "    <tr>\n",
       "      <th>1</th>\n",
       "      <td>Mumia Abu-Jamal</td>\n",
       "      <td>Dear Fellow Goddard-ites, Students, Graduate...</td>\n",
       "    </tr>\n",
       "    <tr>\n",
       "      <th>2</th>\n",
       "      <td>Mike Pence</td>\n",
       "      <td>And I want to thank you, Jerry.  Thank you for...</td>\n",
       "    </tr>\n",
       "    <tr>\n",
       "      <th>3</th>\n",
       "      <td>Robert F Smith</td>\n",
       "      <td>President Kerwin, Provost Bass, Dean Goldgeier...</td>\n",
       "    </tr>\n",
       "    <tr>\n",
       "      <th>4</th>\n",
       "      <td>Conan O Brien</td>\n",
       "      <td>Before I begin, I must point out that behind m...</td>\n",
       "    </tr>\n",
       "    <tr>\n",
       "      <th>5</th>\n",
       "      <td>Kumail Nanjiani</td>\n",
       "      <td>President Kington, Board of Trustees, faculty,...</td>\n",
       "    </tr>\n",
       "    <tr>\n",
       "      <th>6</th>\n",
       "      <td>Stephen Colbert</td>\n",
       "      <td>Thank you. Thank you very much. First of all, ...</td>\n",
       "    </tr>\n",
       "    <tr>\n",
       "      <th>7</th>\n",
       "      <td>Tim Cook</td>\n",
       "      <td>Thanks President Drake. Good afternoon OSU.Bef...</td>\n",
       "    </tr>\n",
       "    <tr>\n",
       "      <th>8</th>\n",
       "      <td>Mindy Kaling</td>\n",
       "      <td>Good morning to the Class of 2018, the faculty...</td>\n",
       "    </tr>\n",
       "    <tr>\n",
       "      <th>9</th>\n",
       "      <td>ADMIRAL WILLIAM H. MCRAVEN</td>\n",
       "      <td>President Powers, Provost Fenves, Deans, membe...</td>\n",
       "    </tr>\n",
       "    <tr>\n",
       "      <th>10</th>\n",
       "      <td>Barack Obama</td>\n",
       "      <td>Hi, everybody. Congratulations to H.B.C.U. cla...</td>\n",
       "    </tr>\n",
       "    <tr>\n",
       "      <th>11</th>\n",
       "      <td>Denzen Washington</td>\n",
       "      <td>President Gutmann; Provost Price; Board Chair ...</td>\n",
       "    </tr>\n",
       "    <tr>\n",
       "      <th>12</th>\n",
       "      <td>Mark Zuckerburg</td>\n",
       "      <td>President Faust, Board of Overseers, faculty, ...</td>\n",
       "    </tr>\n",
       "    <tr>\n",
       "      <th>13</th>\n",
       "      <td>FRED ROGERS</td>\n",
       "      <td>For a long time I wondered why I felt like bow...</td>\n",
       "    </tr>\n",
       "    <tr>\n",
       "      <th>14</th>\n",
       "      <td>Joe Biden</td>\n",
       "      <td>Thank you. Good to be home. Chancellor Cantor,...</td>\n",
       "    </tr>\n",
       "    <tr>\n",
       "      <th>15</th>\n",
       "      <td>David Gergen</td>\n",
       "      <td>I would like to depart from the tradition of s...</td>\n",
       "    </tr>\n",
       "    <tr>\n",
       "      <th>16</th>\n",
       "      <td>Toni Morrison</td>\n",
       "      <td>I have to confess to all of you, Madame Presid...</td>\n",
       "    </tr>\n",
       "    <tr>\n",
       "      <th>17</th>\n",
       "      <td>Michael Bloomberg</td>\n",
       "      <td>As excited as all of you are today, there's a ...</td>\n",
       "    </tr>\n",
       "    <tr>\n",
       "      <th>18</th>\n",
       "      <td>George Saunders</td>\n",
       "      <td>Down through the ages, a traditional form has ...</td>\n",
       "    </tr>\n",
       "    <tr>\n",
       "      <th>19</th>\n",
       "      <td>Condoleezza Rice</td>\n",
       "      <td>Thank you very, very much. Thank you, Presiden...</td>\n",
       "    </tr>\n",
       "    <tr>\n",
       "      <th>20</th>\n",
       "      <td>Elizabeth Warren</td>\n",
       "      <td>Thank you President Wilson. Thank you Board of...</td>\n",
       "    </tr>\n",
       "    <tr>\n",
       "      <th>21</th>\n",
       "      <td>John Green</td>\n",
       "      <td>President Decatur, faculty, staff, parents, fr...</td>\n",
       "    </tr>\n",
       "    <tr>\n",
       "      <th>22</th>\n",
       "      <td>Larry Page</td>\n",
       "      <td>Class of 2009! First I’d like you to get up, w...</td>\n",
       "    </tr>\n",
       "  </tbody>\n",
       "</table>\n",
       "</div>"
      ],
      "text/plain": [
       "                          name  \\\n",
       "0                 Donald Trump   \n",
       "1              Mumia Abu-Jamal   \n",
       "2                   Mike Pence   \n",
       "3               Robert F Smith   \n",
       "4                Conan O Brien   \n",
       "5              Kumail Nanjiani   \n",
       "6              Stephen Colbert   \n",
       "7                     Tim Cook   \n",
       "8                 Mindy Kaling   \n",
       "9   ADMIRAL WILLIAM H. MCRAVEN   \n",
       "10                Barack Obama   \n",
       "11           Denzen Washington   \n",
       "12             Mark Zuckerburg   \n",
       "13                 FRED ROGERS   \n",
       "14                   Joe Biden   \n",
       "15                David Gergen   \n",
       "16               Toni Morrison   \n",
       "17           Michael Bloomberg   \n",
       "18             George Saunders   \n",
       "19            Condoleezza Rice   \n",
       "20            Elizabeth Warren   \n",
       "21                  John Green   \n",
       "22                  Larry Page   \n",
       "\n",
       "                                               speech  \n",
       "0   Thank you very much, everybody. And congratula...  \n",
       "1     Dear Fellow Goddard-ites, Students, Graduate...  \n",
       "2   And I want to thank you, Jerry.  Thank you for...  \n",
       "3   President Kerwin, Provost Bass, Dean Goldgeier...  \n",
       "4   Before I begin, I must point out that behind m...  \n",
       "5   President Kington, Board of Trustees, faculty,...  \n",
       "6   Thank you. Thank you very much. First of all, ...  \n",
       "7   Thanks President Drake. Good afternoon OSU.Bef...  \n",
       "8   Good morning to the Class of 2018, the faculty...  \n",
       "9   President Powers, Provost Fenves, Deans, membe...  \n",
       "10  Hi, everybody. Congratulations to H.B.C.U. cla...  \n",
       "11  President Gutmann; Provost Price; Board Chair ...  \n",
       "12  President Faust, Board of Overseers, faculty, ...  \n",
       "13  For a long time I wondered why I felt like bow...  \n",
       "14  Thank you. Good to be home. Chancellor Cantor,...  \n",
       "15  I would like to depart from the tradition of s...  \n",
       "16  I have to confess to all of you, Madame Presid...  \n",
       "17  As excited as all of you are today, there's a ...  \n",
       "18  Down through the ages, a traditional form has ...  \n",
       "19  Thank you very, very much. Thank you, Presiden...  \n",
       "20  Thank you President Wilson. Thank you Board of...  \n",
       "21  President Decatur, faculty, staff, parents, fr...  \n",
       "22  Class of 2009! First I’d like you to get up, w...  "
      ]
     },
     "execution_count": 62,
     "metadata": {},
     "output_type": "execute_result"
    }
   ],
   "source": [
    "df = pd.DataFrame(columns = ['name', 'speech'])\n",
    "df['name'] = name\n",
    "df['speech'] = speech\n",
    "df"
   ]
  },
  {
   "cell_type": "markdown",
   "metadata": {},
   "source": [
    "# Preprocessing"
   ]
  },
  {
   "cell_type": "markdown",
   "metadata": {},
   "source": [
    "Prior to studying the text data collected, the individual speeches have to be preprocessed. This is mainly done with the NLTK library, which is used to implement stop word removal, lower casing, punctuation removal and lemmatization for each speech."
   ]
  },
  {
   "cell_type": "code",
   "execution_count": null,
   "metadata": {},
   "outputs": [],
   "source": [
    "#preprocessing \n",
    "\n",
    "import nltk\n",
    "import re\n",
    "from nltk.stem import WordNetLemmatizer\n",
    "nltk.download('stopwords')\n",
    "stopwords = nltk.corpus.stopwords.words('english')\n",
    "new_stopwords = ['people', 'president', 'thank', 'thanks', 'really','graduation', 'great', 'good']\n",
    "stopwords.extend(new_stopwords)\n",
    "stem = WordNetLemmatizer()\n",
    "\n",
    "def clean_text(text):\n",
    "    \n",
    "    # Remove special characters\n",
    "    text = re.sub(r'\\W', ' ', str(text))\n",
    "    \n",
    "    # remove all single characters\n",
    "    text = re.sub(r'\\s+[a-zA-Z]\\s+', ' ', text)\n",
    "    \n",
    "    # replace multiple spaces with single space\n",
    "    text = re.sub(r'\\s+', ' ', text, flags=re.I)\n",
    "    \n",
    "    # convert to lower cast\n",
    "    text = text.lower()\n",
    "    \n",
    "    # Lemmatization and stop word removal\n",
    "    tokens = text.split()\n",
    "    tokens = [word for word in tokens if word not in stopwords]\n",
    "    tokens = [stem.lemmatize(word) for word in tokens]\n",
    "    tokens = [word for word in tokens if len(word) > 5]\n",
    "    \n",
    "    return tokens\n",
    "\n",
    "speech_clean = []\n",
    "for doc in speech:\n",
    "    clean_doc = clean_text(doc)\n",
    "    speech_clean.append(clean_doc)\n"
   ]
  },
  {
   "cell_type": "markdown",
   "metadata": {},
   "source": [
    "## Exploratory Data Analysis "
   ]
  },
  {
   "cell_type": "markdown",
   "metadata": {},
   "source": [
    "To come up with a profile of a \"typical\" speech, a word count can be performed to see which words occur most frequently in commencement speeches. This word count, which is visualized with a word cloud, will give insight into what orators tend to emphasize on and what topics they like to explore during their speeches. "
   ]
  },
  {
   "cell_type": "markdown",
   "metadata": {},
   "source": [
    "### Which words are most frequently used? "
   ]
  },
  {
   "cell_type": "code",
   "execution_count": 1,
   "metadata": {},
   "outputs": [
    {
     "ename": "NameError",
     "evalue": "name 'speech_clean' is not defined",
     "output_type": "error",
     "traceback": [
      "\u001b[1;31m---------------------------------------------------------------------------\u001b[0m",
      "\u001b[1;31mNameError\u001b[0m                                 Traceback (most recent call last)",
      "\u001b[1;32m<ipython-input-1-973a2249a6bc>\u001b[0m in \u001b[0;36m<module>\u001b[1;34m\u001b[0m\n\u001b[0;32m      2\u001b[0m \u001b[1;33m\u001b[0m\u001b[0m\n\u001b[0;32m      3\u001b[0m \u001b[0mcorpus\u001b[0m \u001b[1;33m=\u001b[0m \u001b[1;33m[\u001b[0m\u001b[1;33m]\u001b[0m\u001b[1;33m\u001b[0m\u001b[1;33m\u001b[0m\u001b[0m\n\u001b[1;32m----> 4\u001b[1;33m \u001b[1;32mfor\u001b[0m \u001b[0ms\u001b[0m \u001b[1;32min\u001b[0m \u001b[0mspeech_clean\u001b[0m\u001b[1;33m:\u001b[0m\u001b[1;33m\u001b[0m\u001b[1;33m\u001b[0m\u001b[0m\n\u001b[0m\u001b[0;32m      5\u001b[0m     \u001b[1;32mfor\u001b[0m \u001b[0mword\u001b[0m \u001b[1;32min\u001b[0m \u001b[0ms\u001b[0m\u001b[1;33m:\u001b[0m\u001b[1;33m\u001b[0m\u001b[1;33m\u001b[0m\u001b[0m\n\u001b[0;32m      6\u001b[0m         \u001b[0mcorpus\u001b[0m\u001b[1;33m.\u001b[0m\u001b[0mappend\u001b[0m\u001b[1;33m(\u001b[0m\u001b[0mword\u001b[0m\u001b[1;33m)\u001b[0m\u001b[1;33m\u001b[0m\u001b[1;33m\u001b[0m\u001b[0m\n",
      "\u001b[1;31mNameError\u001b[0m: name 'speech_clean' is not defined"
     ]
    }
   ],
   "source": [
    "import collections\n",
    "\n",
    "corpus = []\n",
    "for s in speech_clean:\n",
    "    for word in s:\n",
    "        corpus.append(word)\n",
    "corpus = \" \".join(corpus)\n",
    "corpus\n",
    "counter = collections.Counter(corpus.split())\n",
    "\n",
    "counter.most_common(10)"
   ]
  },
  {
   "cell_type": "code",
   "execution_count": 65,
   "metadata": {},
   "outputs": [
    {
     "data": {
      "text/plain": [
       "<wordcloud.wordcloud.WordCloud at 0x1f77d093708>"
      ]
     },
     "execution_count": 65,
     "metadata": {},
     "output_type": "execute_result"
    }
   ],
   "source": [
    "from wordcloud import WordCloud, STOPWORDS\n",
    "import matplotlib.pyplot as plt\n",
    "\n",
    "stopwords = STOPWORDS\n",
    "wc = WordCloud(\n",
    "    background_color='white',\n",
    "    stopwords=stopwords,\n",
    "    height = 600,\n",
    "    width = 400\n",
    ")\n",
    "\n",
    "\n",
    "wc.generate(corpus)\n",
    "wc.to_file('wordcloud_basic.png')"
   ]
  },
  {
   "cell_type": "markdown",
   "metadata": {},
   "source": [
    "## Sentiment Analysis"
   ]
  },
  {
   "cell_type": "markdown",
   "metadata": {},
   "source": [
    "Next, we explore the overall sentiment the speaker uses when delivering their message. When giving a speech to inspire a young audience, do orators tend to be optimistic and gleeful at the potential prospects of the audience members, or do they adopt a more solemn tone with the hopes of educating and inspiring the audience? The textblob library is used to perform a sentiment analysis on the text data. "
   ]
  },
  {
   "cell_type": "code",
   "execution_count": 67,
   "metadata": {},
   "outputs": [],
   "source": [
    "from textblob import TextBlob\n"
   ]
  },
  {
   "cell_type": "code",
   "execution_count": 68,
   "metadata": {},
   "outputs": [
    {
     "data": {
      "text/html": [
       "<div>\n",
       "<style scoped>\n",
       "    .dataframe tbody tr th:only-of-type {\n",
       "        vertical-align: middle;\n",
       "    }\n",
       "\n",
       "    .dataframe tbody tr th {\n",
       "        vertical-align: top;\n",
       "    }\n",
       "\n",
       "    .dataframe thead th {\n",
       "        text-align: right;\n",
       "    }\n",
       "</style>\n",
       "<table border=\"1\" class=\"dataframe\">\n",
       "  <thead>\n",
       "    <tr style=\"text-align: right;\">\n",
       "      <th></th>\n",
       "      <th>name</th>\n",
       "      <th>speech</th>\n",
       "      <th>polarity</th>\n",
       "      <th>subjectivity</th>\n",
       "    </tr>\n",
       "  </thead>\n",
       "  <tbody>\n",
       "    <tr>\n",
       "      <th>0</th>\n",
       "      <td>Donald Trump</td>\n",
       "      <td>Thank you very much, everybody. And congratula...</td>\n",
       "      <td>0.248768</td>\n",
       "      <td>0.626529</td>\n",
       "    </tr>\n",
       "    <tr>\n",
       "      <th>1</th>\n",
       "      <td>Mumia Abu-Jamal</td>\n",
       "      <td>Dear Fellow Goddard-ites, Students, Graduate...</td>\n",
       "      <td>0.192968</td>\n",
       "      <td>0.422757</td>\n",
       "    </tr>\n",
       "    <tr>\n",
       "      <th>2</th>\n",
       "      <td>Mike Pence</td>\n",
       "      <td>And I want to thank you, Jerry.  Thank you for...</td>\n",
       "      <td>0.104101</td>\n",
       "      <td>0.381914</td>\n",
       "    </tr>\n",
       "    <tr>\n",
       "      <th>3</th>\n",
       "      <td>Robert F Smith</td>\n",
       "      <td>President Kerwin, Provost Bass, Dean Goldgeier...</td>\n",
       "      <td>0.096141</td>\n",
       "      <td>0.520906</td>\n",
       "    </tr>\n",
       "    <tr>\n",
       "      <th>4</th>\n",
       "      <td>Conan O Brien</td>\n",
       "      <td>Before I begin, I must point out that behind m...</td>\n",
       "      <td>0.077375</td>\n",
       "      <td>0.537213</td>\n",
       "    </tr>\n",
       "    <tr>\n",
       "      <th>5</th>\n",
       "      <td>Kumail Nanjiani</td>\n",
       "      <td>President Kington, Board of Trustees, faculty,...</td>\n",
       "      <td>0.075218</td>\n",
       "      <td>0.547738</td>\n",
       "    </tr>\n",
       "    <tr>\n",
       "      <th>6</th>\n",
       "      <td>Stephen Colbert</td>\n",
       "      <td>Thank you. Thank you very much. First of all, ...</td>\n",
       "      <td>0.077863</td>\n",
       "      <td>0.405611</td>\n",
       "    </tr>\n",
       "    <tr>\n",
       "      <th>7</th>\n",
       "      <td>Tim Cook</td>\n",
       "      <td>Thanks President Drake. Good afternoon OSU.Bef...</td>\n",
       "      <td>-0.041071</td>\n",
       "      <td>0.540051</td>\n",
       "    </tr>\n",
       "    <tr>\n",
       "      <th>8</th>\n",
       "      <td>Mindy Kaling</td>\n",
       "      <td>Good morning to the Class of 2018, the faculty...</td>\n",
       "      <td>0.155869</td>\n",
       "      <td>0.593343</td>\n",
       "    </tr>\n",
       "    <tr>\n",
       "      <th>9</th>\n",
       "      <td>ADMIRAL WILLIAM H. MCRAVEN</td>\n",
       "      <td>President Powers, Provost Fenves, Deans, membe...</td>\n",
       "      <td>0.003852</td>\n",
       "      <td>0.459409</td>\n",
       "    </tr>\n",
       "    <tr>\n",
       "      <th>10</th>\n",
       "      <td>Barack Obama</td>\n",
       "      <td>Hi, everybody. Congratulations to H.B.C.U. cla...</td>\n",
       "      <td>0.067378</td>\n",
       "      <td>0.413821</td>\n",
       "    </tr>\n",
       "    <tr>\n",
       "      <th>11</th>\n",
       "      <td>Denzen Washington</td>\n",
       "      <td>President Gutmann; Provost Price; Board Chair ...</td>\n",
       "      <td>0.004569</td>\n",
       "      <td>0.502314</td>\n",
       "    </tr>\n",
       "    <tr>\n",
       "      <th>12</th>\n",
       "      <td>Mark Zuckerburg</td>\n",
       "      <td>President Faust, Board of Overseers, faculty, ...</td>\n",
       "      <td>0.125366</td>\n",
       "      <td>0.447644</td>\n",
       "    </tr>\n",
       "    <tr>\n",
       "      <th>13</th>\n",
       "      <td>FRED ROGERS</td>\n",
       "      <td>For a long time I wondered why I felt like bow...</td>\n",
       "      <td>0.181387</td>\n",
       "      <td>0.560683</td>\n",
       "    </tr>\n",
       "    <tr>\n",
       "      <th>14</th>\n",
       "      <td>Joe Biden</td>\n",
       "      <td>Thank you. Good to be home. Chancellor Cantor,...</td>\n",
       "      <td>0.050005</td>\n",
       "      <td>0.435241</td>\n",
       "    </tr>\n",
       "    <tr>\n",
       "      <th>15</th>\n",
       "      <td>David Gergen</td>\n",
       "      <td>I would like to depart from the tradition of s...</td>\n",
       "      <td>0.084944</td>\n",
       "      <td>0.506588</td>\n",
       "    </tr>\n",
       "    <tr>\n",
       "      <th>16</th>\n",
       "      <td>Toni Morrison</td>\n",
       "      <td>I have to confess to all of you, Madame Presid...</td>\n",
       "      <td>0.149744</td>\n",
       "      <td>0.453779</td>\n",
       "    </tr>\n",
       "    <tr>\n",
       "      <th>17</th>\n",
       "      <td>Michael Bloomberg</td>\n",
       "      <td>As excited as all of you are today, there's a ...</td>\n",
       "      <td>0.098718</td>\n",
       "      <td>0.454579</td>\n",
       "    </tr>\n",
       "    <tr>\n",
       "      <th>18</th>\n",
       "      <td>George Saunders</td>\n",
       "      <td>Down through the ages, a traditional form has ...</td>\n",
       "      <td>0.090024</td>\n",
       "      <td>0.583755</td>\n",
       "    </tr>\n",
       "    <tr>\n",
       "      <th>19</th>\n",
       "      <td>Condoleezza Rice</td>\n",
       "      <td>Thank you very, very much. Thank you, Presiden...</td>\n",
       "      <td>0.073173</td>\n",
       "      <td>0.518778</td>\n",
       "    </tr>\n",
       "    <tr>\n",
       "      <th>20</th>\n",
       "      <td>Elizabeth Warren</td>\n",
       "      <td>Thank you President Wilson. Thank you Board of...</td>\n",
       "      <td>0.100328</td>\n",
       "      <td>0.510365</td>\n",
       "    </tr>\n",
       "    <tr>\n",
       "      <th>21</th>\n",
       "      <td>John Green</td>\n",
       "      <td>President Decatur, faculty, staff, parents, fr...</td>\n",
       "      <td>0.097024</td>\n",
       "      <td>0.618723</td>\n",
       "    </tr>\n",
       "    <tr>\n",
       "      <th>22</th>\n",
       "      <td>Larry Page</td>\n",
       "      <td>Class of 2009! First I’d like you to get up, w...</td>\n",
       "      <td>0.162883</td>\n",
       "      <td>0.535568</td>\n",
       "    </tr>\n",
       "  </tbody>\n",
       "</table>\n",
       "</div>"
      ],
      "text/plain": [
       "                          name  \\\n",
       "0                 Donald Trump   \n",
       "1              Mumia Abu-Jamal   \n",
       "2                   Mike Pence   \n",
       "3               Robert F Smith   \n",
       "4                Conan O Brien   \n",
       "5              Kumail Nanjiani   \n",
       "6              Stephen Colbert   \n",
       "7                     Tim Cook   \n",
       "8                 Mindy Kaling   \n",
       "9   ADMIRAL WILLIAM H. MCRAVEN   \n",
       "10                Barack Obama   \n",
       "11           Denzen Washington   \n",
       "12             Mark Zuckerburg   \n",
       "13                 FRED ROGERS   \n",
       "14                   Joe Biden   \n",
       "15                David Gergen   \n",
       "16               Toni Morrison   \n",
       "17           Michael Bloomberg   \n",
       "18             George Saunders   \n",
       "19            Condoleezza Rice   \n",
       "20            Elizabeth Warren   \n",
       "21                  John Green   \n",
       "22                  Larry Page   \n",
       "\n",
       "                                               speech  polarity  subjectivity  \n",
       "0   Thank you very much, everybody. And congratula...  0.248768      0.626529  \n",
       "1     Dear Fellow Goddard-ites, Students, Graduate...  0.192968      0.422757  \n",
       "2   And I want to thank you, Jerry.  Thank you for...  0.104101      0.381914  \n",
       "3   President Kerwin, Provost Bass, Dean Goldgeier...  0.096141      0.520906  \n",
       "4   Before I begin, I must point out that behind m...  0.077375      0.537213  \n",
       "5   President Kington, Board of Trustees, faculty,...  0.075218      0.547738  \n",
       "6   Thank you. Thank you very much. First of all, ...  0.077863      0.405611  \n",
       "7   Thanks President Drake. Good afternoon OSU.Bef... -0.041071      0.540051  \n",
       "8   Good morning to the Class of 2018, the faculty...  0.155869      0.593343  \n",
       "9   President Powers, Provost Fenves, Deans, membe...  0.003852      0.459409  \n",
       "10  Hi, everybody. Congratulations to H.B.C.U. cla...  0.067378      0.413821  \n",
       "11  President Gutmann; Provost Price; Board Chair ...  0.004569      0.502314  \n",
       "12  President Faust, Board of Overseers, faculty, ...  0.125366      0.447644  \n",
       "13  For a long time I wondered why I felt like bow...  0.181387      0.560683  \n",
       "14  Thank you. Good to be home. Chancellor Cantor,...  0.050005      0.435241  \n",
       "15  I would like to depart from the tradition of s...  0.084944      0.506588  \n",
       "16  I have to confess to all of you, Madame Presid...  0.149744      0.453779  \n",
       "17  As excited as all of you are today, there's a ...  0.098718      0.454579  \n",
       "18  Down through the ages, a traditional form has ...  0.090024      0.583755  \n",
       "19  Thank you very, very much. Thank you, Presiden...  0.073173      0.518778  \n",
       "20  Thank you President Wilson. Thank you Board of...  0.100328      0.510365  \n",
       "21  President Decatur, faculty, staff, parents, fr...  0.097024      0.618723  \n",
       "22  Class of 2009! First I’d like you to get up, w...  0.162883      0.535568  "
      ]
     },
     "execution_count": 68,
     "metadata": {},
     "output_type": "execute_result"
    }
   ],
   "source": [
    "# polarity: -1 is negative, 1 is positive\n",
    "# subjectivity: 0 is fact, 1 is subjective (opinion) \n",
    "\n",
    "speech_clean_text = []\n",
    "for speech in speech_clean:\n",
    "    str_text = \" \".join(speech)\n",
    "    speech_clean_text.append(str_text)\n",
    "polarity = []\n",
    "subjectivity = []\n",
    "for text in speech_clean_text:\n",
    "    polarity.append(TextBlob(text).sentiment.polarity)\n",
    "    subjectivity.append(TextBlob(text).sentiment.subjectivity)\n",
    "\n",
    "df['polarity'] = polarity\n",
    "df['subjectivity'] = subjectivity\n",
    "\n",
    "df"
   ]
  },
  {
   "cell_type": "code",
   "execution_count": 69,
   "metadata": {},
   "outputs": [
    {
     "data": {
      "text/plain": [
       "Text(0, 0.5, 'Subjectivity')"
      ]
     },
     "execution_count": 69,
     "metadata": {},
     "output_type": "execute_result"
    },
    {
     "data": {
      "image/png": "[encoded data removed]",
      "text/plain": [
       "<Figure size 1440x720 with 1 Axes>"
      ]
     },
     "metadata": {
      "needs_background": "light"
     },
     "output_type": "display_data"
    }
   ],
   "source": [
    "import seaborn as sns\n",
    "\n",
    "plt.figure(figsize=(20,10))\n",
    "\n",
    "plt.scatter(polarity, subjectivity)\n",
    "\n",
    "for i, name in enumerate(df['name']):\n",
    "    plt.annotate(name, (polarity[i], subjectivity[i]), rotation=0)\n",
    "    \n",
    "plt.title('Sentiment Analysis', fontsize=20)\n",
    "plt.xlabel('Polarity')\n",
    "plt.ylabel('Subjectivity')"
   ]
  },
  {
   "cell_type": "markdown",
   "metadata": {},
   "source": [
    "## Sentiment Analysis Results"
   ]
  },
  {
   "cell_type": "markdown",
   "metadata": {},
   "source": [
    "In terms of sentiment, all of the speakers adopt a rather neutral stance, with polarity values ranging from -0.05 to 0.25. On face value, this implies that the speeches focused less on invoking emotion and more on relaying wisdom onto the audience. This is unsurprising for people like Elizabeth Warren and Tim Cook who give speeches that are direct and to the point. However, these results draw scepticism since some of the orators chosen are known for being entertaining when given the change to speak. People like John Green and Connor O'Brien often use humor in their deliveries, yet their sentiment scores are only around 0.1. "
   ]
  },
  {
   "cell_type": "markdown",
   "metadata": {},
   "source": [
    "## Topic Modeling (All Words)"
   ]
  },
  {
   "cell_type": "markdown",
   "metadata": {},
   "source": [
    "Finally, the study aims to see if these speeches can be categorized based on the messages that they deliver. Can we distinguish commencement speeches from each other simply based on their root message? To answer this, the Latent Derechlet Allocation (LDA) method is used to cluster the speeches into groups. The number of groups the speeches are split into will be decided by which LDA returns the most meaningful results. "
   ]
  },
  {
   "cell_type": "code",
   "execution_count": 70,
   "metadata": {},
   "outputs": [],
   "source": [
    "import gensim\n",
    "from gensim import corpora"
   ]
  },
  {
   "cell_type": "code",
   "execution_count": 71,
   "metadata": {},
   "outputs": [],
   "source": [
    "# document matrix\n",
    "input_dict = corpora.Dictionary(speech_clean)\n",
    "\n",
    "# convert to bag of words\n",
    "input_corpus = [input_dict.doc2bow(token, allow_update=True) for token in speech_clean]"
   ]
  },
  {
   "cell_type": "code",
   "execution_count": 72,
   "metadata": {},
   "outputs": [
    {
     "data": {
      "text/plain": [
       "'ability'"
      ]
     },
     "execution_count": 72,
     "metadata": {},
     "output_type": "execute_result"
    }
   ],
   "source": [
    "input_dict.get(0)"
   ]
  },
  {
   "cell_type": "code",
   "execution_count": 77,
   "metadata": {},
   "outputs": [],
   "source": [
    "# LDA Model\n",
    "\n",
    "lda_model = gensim.models.ldamodel.LdaModel(input_corpus, num_topics=4, id2word=input_dict)"
   ]
  },
  {
   "cell_type": "code",
   "execution_count": 78,
   "metadata": {},
   "outputs": [
    {
     "data": {
      "text/plain": [
       "[(0,\n",
       "  '0.006*\"change\" + 0.005*\"college\" + 0.005*\"school\" + 0.005*\"something\" + 0.004*\"remember\" + 0.004*\"generation\" + 0.003*\"country\" + 0.003*\"applause\" + 0.003*\"parent\" + 0.003*\"american\"'),\n",
       " (1,\n",
       "  '0.007*\"family\" + 0.006*\"change\" + 0.006*\"school\" + 0.005*\"remember\" + 0.005*\"college\" + 0.005*\"america\" + 0.005*\"country\" + 0.004*\"something\" + 0.004*\"generation\" + 0.004*\"little\"'),\n",
       " (2,\n",
       "  '0.007*\"change\" + 0.005*\"remember\" + 0.004*\"family\" + 0.004*\"applause\" + 0.004*\"school\" + 0.004*\"america\" + 0.004*\"student\" + 0.004*\"friend\" + 0.004*\"little\" + 0.004*\"country\"'),\n",
       " (3,\n",
       "  '0.005*\"generation\" + 0.005*\"american\" + 0.005*\"applause\" + 0.005*\"change\" + 0.005*\"family\" + 0.004*\"america\" + 0.004*\"something\" + 0.004*\"community\" + 0.004*\"everyone\" + 0.004*\"student\"')]"
      ]
     },
     "execution_count": 78,
     "metadata": {},
     "output_type": "execute_result"
    }
   ],
   "source": [
    "topics = lda_model.print_topics(num_words=10)\n",
    "topics"
   ]
  },
  {
   "cell_type": "markdown",
   "metadata": {},
   "source": [
    "# Topic Modeling Results"
   ]
  },
  {
   "cell_type": "markdown",
   "metadata": {},
   "source": [
    "Surprisingly, the LDA has not yielded any meaningful results regardless of the number of groups the speeches are split into. A lot of the groups share key words with each other, making it difficult to identify an actual topic for each group. Upon a thorough study of all the speeches used in the study, this is a reasonable outcome. Although the orators, the audience, and the nature of the delivery of the speeches differ, the actual content of the speeches are glaringly similar. Each speech starts with some generic introduction, followed by a personal adecdote, and ends with a key message that the audience should take from their story. The language used was very similar and the key takeaway message were very similar amoung the speakers (e.g. never give up, treat each other with kindness).  "
   ]
  },
  {
   "cell_type": "markdown",
   "metadata": {},
   "source": [
    "# Conclusion"
   ]
  },
  {
   "cell_type": "markdown",
   "metadata": {},
   "source": []
  }
 ],
 "metadata": {
  "kernelspec": {
   "display_name": "Python 3",
   "language": "python",
   "name": "python3"
  },
  "language_info": {
   "codemirror_mode": {
    "name": "ipython",
    "version": 3
   },
   "file_extension": ".py",
   "mimetype": "text/x-python",
   "name": "python",
   "nbconvert_exporter": "python",
   "pygments_lexer": "ipython3",
   "version": "3.7.9"
  }
 },
 "nbformat": 4,
 "nbformat_minor": 4
}
