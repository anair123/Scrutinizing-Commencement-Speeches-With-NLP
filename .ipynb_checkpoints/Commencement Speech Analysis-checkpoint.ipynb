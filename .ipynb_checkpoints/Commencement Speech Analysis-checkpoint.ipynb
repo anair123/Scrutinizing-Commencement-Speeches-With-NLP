{
 "cells": [
  {
   "cell_type": "code",
   "execution_count": 1,
   "metadata": {},
   "outputs": [],
   "source": [
    "import pandas as pd\n",
    "import numpy as np\n",
    "import requests\n",
    "from bs4 import BeautifulSoup"
   ]
  },
  {
   "cell_type": "markdown",
   "metadata": {},
   "source": [
    "# Introduction"
   ]
  },
  {
   "cell_type": "markdown",
   "metadata": {},
   "source": [
    "What goes behind a commencement speech given to a graduating class? Can we classify the speeches by the common takeaway messages given to the audience by the speakers? Do orators opt for a positive delivery or chose to deliver their speeches in a more solemn and serious tone? In this project, we unearth the nature of commencement speeches with NLP techniques."
   ]
  },
  {
   "cell_type": "markdown",
   "metadata": {},
   "source": [
    "### Data Scraping"
   ]
  },
  {
   "cell_type": "markdown",
   "metadata": {},
   "source": [
    "For this study, the transcripts of commencement speeches are collected with the BeautifulSoup library. To be thorough, speeches will be collected from people of all walks of life. These people in theory will give their speeches with different deliveries and use of language. They will also relay their own unique message. This project examines speeches delivered by politicians, actors, athletes, authors, and other famous personalities. "
   ]
  },
  {
   "cell_type": "code",
   "execution_count": 60,
   "metadata": {},
   "outputs": [],
   "source": [
    "df = pd.DataFrame(columns = ['Year', 'Name', 'Speech'])"
   ]
  },
  {
   "cell_type": "code",
   "execution_count": 61,
   "metadata": {},
   "outputs": [],
   "source": [
    "name = []\n",
    "speech = []"
   ]
  },
  {
   "cell_type": "markdown",
   "metadata": {},
   "source": [
    "### Donald Trump"
   ]
  },
  {
   "cell_type": "code",
   "execution_count": 62,
   "metadata": {},
   "outputs": [],
   "source": [
    "year1 = 2018\n",
    "name1 = 'Donald Trump'\n",
    "url1 = 'https://time.com/4778240/donald-trump-liberty-university-speech-transcript/'\n",
    "name.append(name1)"
   ]
  },
  {
   "cell_type": "code",
   "execution_count": 63,
   "metadata": {},
   "outputs": [],
   "source": [
    "page1 = requests.get(url1).text\n",
    "soup1 = BeautifulSoup(page1, 'html.parser')\n",
    "body1= soup1.find_all('p')[1:-1]\n"
   ]
  },
  {
   "cell_type": "code",
   "execution_count": 64,
   "metadata": {},
   "outputs": [],
   "source": [
    "speech1 = []\n",
    "for p in body1:\n",
    "    speech1.append(p.text)\n",
    "speech1 = \" \".join(speech1)\n",
    "speech1\n",
    "speech.append(speech1)\n"
   ]
  },
  {
   "cell_type": "markdown",
   "metadata": {},
   "source": [
    "#### Mumia Abu-Jamal's Goddard"
   ]
  },
  {
   "cell_type": "code",
   "execution_count": 65,
   "metadata": {},
   "outputs": [],
   "source": [
    "year2 = 2018\n",
    "name2 = 'Mumia Abu-Jamal'\n",
    "url2 = 'https://www.prisonradio.org/media/audio/mumia/transcript-mumia-abu-jamals-goddard-college-commencement-speech'\n",
    "name.append(name2)"
   ]
  },
  {
   "cell_type": "code",
   "execution_count": 66,
   "metadata": {
    "scrolled": false
   },
   "outputs": [],
   "source": [
    "page2 = requests.get(url2).text\n",
    "soup2 = BeautifulSoup(page2, 'html.parser')\n"
   ]
  },
  {
   "cell_type": "code",
   "execution_count": 67,
   "metadata": {},
   "outputs": [],
   "source": [
    "body2 = soup2.find_all('p')[3:-3]"
   ]
  },
  {
   "cell_type": "code",
   "execution_count": 68,
   "metadata": {},
   "outputs": [],
   "source": [
    "speech2 = []\n",
    "for p in body2:\n",
    "    speech2.append(p.text)\n",
    "speech2 = ' '.join(speech2)\n",
    "speech2 = speech2.replace('\\n', ' ')\n",
    "speech2 = speech2.replace('\\xa0',' ')\n",
    "speech.append(speech2)     "
   ]
  },
  {
   "cell_type": "markdown",
   "metadata": {},
   "source": [
    "#### Mike Pence"
   ]
  },
  {
   "cell_type": "code",
   "execution_count": 69,
   "metadata": {},
   "outputs": [],
   "source": [
    "year3 = 2018\n",
    "name3 = 'Mike Pence'\n",
    "url3 = 'https://www.whitehouse.gov/briefings-statements/remarks-vice-president-pence-liberty-universitys-commencement/'\n",
    "name.append(name3)"
   ]
  },
  {
   "cell_type": "code",
   "execution_count": 70,
   "metadata": {},
   "outputs": [],
   "source": [
    "page3 = requests.get(url3).text\n",
    "soup3 = BeautifulSoup(page3, 'html.parser')\n",
    "\n"
   ]
  },
  {
   "cell_type": "code",
   "execution_count": 71,
   "metadata": {},
   "outputs": [],
   "source": [
    "body3 = soup3.find_all('p')[5:-1]\n"
   ]
  },
  {
   "cell_type": "code",
   "execution_count": 72,
   "metadata": {},
   "outputs": [],
   "source": [
    "speech3 = []\n",
    "for p in body3:\n",
    "    speech3.append(p.text)\n",
    "speech3 = ''.join(speech3)\n",
    "speech3 = speech3.replace('\\n',' ')\n",
    "speech3 = speech3.replace('\\xa0',' ')\n",
    "speech.append(speech3)\n"
   ]
  },
  {
   "cell_type": "markdown",
   "metadata": {},
   "source": [
    "#### Robert F Smith"
   ]
  },
  {
   "cell_type": "code",
   "execution_count": 73,
   "metadata": {},
   "outputs": [],
   "source": [
    "year4 = 2018\n",
    "name4 = 'Robert F Smith'\n",
    "url4 = 'https://robertfsmith.org/post/118630304016/transcript-of-robert-f-smith-commencement-address'\n",
    "name.append(name4)"
   ]
  },
  {
   "cell_type": "code",
   "execution_count": 74,
   "metadata": {},
   "outputs": [],
   "source": [
    "page4 = requests.get(url4).text\n",
    "soup4 = BeautifulSoup(page4, 'html.parser')"
   ]
  },
  {
   "cell_type": "code",
   "execution_count": 75,
   "metadata": {},
   "outputs": [],
   "source": [
    "body4 = soup4.find_all('p')[1:-9]\n",
    "speech4 = []\n",
    "for p in body4:\n",
    "    speech4.append(p.text)\n",
    "speech4 = ''.join(speech4)\n",
    "speech4 = speech4.replace('\\n',' ')\n",
    "speech4 = speech4.replace('\\xa0',' ')\n",
    "\n",
    "speech.append(speech4)\n"
   ]
  },
  {
   "cell_type": "markdown",
   "metadata": {},
   "source": [
    "#### Conan O Brien"
   ]
  },
  {
   "cell_type": "code",
   "execution_count": 76,
   "metadata": {},
   "outputs": [],
   "source": [
    "year5 = 2018\n",
    "name5 = 'Conan O Brien'\n",
    "url5 = 'https://teamcoco.com/content/watch-conan-give-dartmouth-college-commencement-address'\n",
    "name.append(name5)"
   ]
  },
  {
   "cell_type": "code",
   "execution_count": 77,
   "metadata": {},
   "outputs": [],
   "source": [
    "page5 = requests.get(url5).text\n",
    "soup5 = BeautifulSoup(page5, 'html.parser')\n"
   ]
  },
  {
   "cell_type": "code",
   "execution_count": 78,
   "metadata": {},
   "outputs": [],
   "source": [
    "body5 = soup5.find_all('p')[3:]\n",
    "\n",
    "speech5 = []\n",
    "for p in body5:\n",
    "    speech5.append(p.text)\n",
    "speech5 = ''.join(speech5)\n",
    "speech5 = speech5.replace('\\n',' ')\n",
    "speech5 = speech5.replace('\\xa0',' ')\n",
    "speech.append(speech5)\n"
   ]
  },
  {
   "cell_type": "markdown",
   "metadata": {},
   "source": [
    "####  Kumail Nanjiani"
   ]
  },
  {
   "cell_type": "code",
   "execution_count": 79,
   "metadata": {},
   "outputs": [],
   "source": [
    "year6 = 2018\n",
    "name6 = ' Kumail Nanjiani'\n",
    "url6 = 'https://www.grinnell.edu/news/transcript-kumail-nanjianis-commencement-address-grinnell-college'\n",
    "name.append(name6)\n",
    "page6 = requests.get(url6).text\n",
    "soup6 = BeautifulSoup(page6, 'html.parser')\n"
   ]
  },
  {
   "cell_type": "code",
   "execution_count": 80,
   "metadata": {},
   "outputs": [],
   "source": [
    "body6 = soup6.find_all('p')[2:-2]\n",
    "\n",
    "\n",
    "speech6 = []\n",
    "for p in body6:\n",
    "    speech6.append(p.text)\n",
    "speech6 = ''.join(speech6)\n",
    "speech6 = speech6.replace('\\n',' ')\n",
    "speech6 = speech6.replace('\\xa0',' ')\n",
    "speech.append(speech6)\n"
   ]
  },
  {
   "cell_type": "markdown",
   "metadata": {},
   "source": [
    "#### Stephen Colbert"
   ]
  },
  {
   "cell_type": "code",
   "execution_count": 81,
   "metadata": {},
   "outputs": [],
   "source": [
    "year7 = 2018\n",
    "name7 = 'Stephen Colbert'\n",
    "url7 = 'https://departments.knox.edu/newsarchive/news_events/2006/x12547.html'\n",
    "\n",
    "page7 = requests.get(url7).text\n",
    "soup7 = BeautifulSoup(page7, 'html.parser')\n",
    "name.append(name7)"
   ]
  },
  {
   "cell_type": "code",
   "execution_count": 82,
   "metadata": {},
   "outputs": [],
   "source": [
    "body7 = soup7.find_all('p')[4:]\n",
    "\n",
    "speech7 = []\n",
    "for p in body7:\n",
    "    speech7.append(p.text)\n",
    "speech7 = ''.join(speech7)\n",
    "speech7 = speech7.replace('\\n',' ')\n",
    "speech7 = speech7.replace('\\xa0',' ')\n",
    "speech.append(speech7)\n",
    "\n"
   ]
  },
  {
   "cell_type": "markdown",
   "metadata": {},
   "source": [
    "#### Tim Cook"
   ]
  },
  {
   "cell_type": "code",
   "execution_count": 83,
   "metadata": {},
   "outputs": [],
   "source": [
    "year8 = 2018\n",
    "name8 = 'Tim Cook'\n",
    "url8 = 'https://news.osu.edu/apple-ceo-tim-cook-delivers-ohio-state-commencement-address//'\n",
    "\n",
    "page8 = requests.get(url8).text\n",
    "soup8 = BeautifulSoup(page8, 'html.parser')\n",
    "name.append(name8)"
   ]
  },
  {
   "cell_type": "code",
   "execution_count": 84,
   "metadata": {},
   "outputs": [],
   "source": [
    "body8 = soup8.find_all('p')[4:-3]\n",
    "\n",
    "speech8 = []\n",
    "for p in body8:\n",
    "    speech8.append(p.text)\n",
    "speech8 = ''.join(speech8)\n",
    "speech8 = speech8.replace('\\n',' ')\n",
    "speech8 = speech8.replace('\\xa0',' ')\n",
    "speech.append(speech8)\n"
   ]
  },
  {
   "cell_type": "markdown",
   "metadata": {},
   "source": [
    "#### Mindy Kaling"
   ]
  },
  {
   "cell_type": "code",
   "execution_count": 85,
   "metadata": {
    "scrolled": false
   },
   "outputs": [],
   "source": [
    "year9 = 2018\n",
    "name9 = 'Mindy Kaling'\n",
    "url9 = 'https://time.com/5308142/mindy-kaling-dartmouth-2018-commencement-speech-transcript/'\n",
    "\n",
    "page9 = requests.get(url9).text\n",
    "soup9 = BeautifulSoup(page9, 'html.parser')\n",
    "name.append(name9)"
   ]
  },
  {
   "cell_type": "code",
   "execution_count": 86,
   "metadata": {},
   "outputs": [],
   "source": [
    "body9 = soup9.find_all('p')[6:-1]\n",
    "\n",
    "speech9 = []\n",
    "for p in body9:\n",
    "    speech9.append(p.text)\n",
    "speech9 = ''.join(speech9)\n",
    "speech9 = speech9.replace('\\n',' ')\n",
    "speech9 = speech9.replace('\\xa0',' ')\n",
    "speech.append(speech9)\n"
   ]
  },
  {
   "cell_type": "markdown",
   "metadata": {},
   "source": [
    "#### ADMIRAL WILLIAM H. MCRAVEN"
   ]
  },
  {
   "cell_type": "code",
   "execution_count": 87,
   "metadata": {},
   "outputs": [],
   "source": [
    "year10 = 2018\n",
    "name10 = 'ADMIRAL WILLIAM H. MCRAVEN'\n",
    "url10 = 'https://jamesclear.com/great-speeches/make-your-bed-by-admiral-william-h-mcraven'\n",
    "\n",
    "page10 = requests.get(url10).text\n",
    "soup10 = BeautifulSoup(page10, 'html.parser')\n",
    "name.append(name10)"
   ]
  },
  {
   "cell_type": "code",
   "execution_count": 88,
   "metadata": {},
   "outputs": [],
   "source": [
    "body10 = soup10.find_all('p')[1:-4]\n",
    "\n",
    "speech10 = []\n",
    "for p in body10:\n",
    "    speech10.append(p.text)\n",
    "speech10 = ''.join(speech10)\n",
    "speech10 = speech10.replace('\\n',' ')\n",
    "speech10 = speech10.replace('\\xa0',' ')\n",
    "speech.append(speech10)\n"
   ]
  },
  {
   "cell_type": "markdown",
   "metadata": {},
   "source": [
    "#### Barack Obama"
   ]
  },
  {
   "cell_type": "code",
   "execution_count": 89,
   "metadata": {},
   "outputs": [],
   "source": [
    "year11 = 2018\n",
    "name11 = 'Barack Obama'\n",
    "url11 = 'https://www.nytimes.com/2020/05/16/us/obama-hbcu-speech-transcript.html'\n",
    "\n",
    "page11 = requests.get(url11).text\n",
    "soup11 = BeautifulSoup(page11, 'html.parser')\n",
    "name.append(name11)\n"
   ]
  },
  {
   "cell_type": "code",
   "execution_count": 90,
   "metadata": {},
   "outputs": [],
   "source": [
    "body11 = soup11.find_all('p')[8:-1]\n",
    "\n",
    "speech11 = []\n",
    "for p in body11:\n",
    "    speech11.append(p.text)\n",
    "speech11 = ''.join(speech11)\n",
    "\n",
    "speech.append(speech11)\n"
   ]
  },
  {
   "cell_type": "markdown",
   "metadata": {},
   "source": [
    "#### Denzel Washington"
   ]
  },
  {
   "cell_type": "code",
   "execution_count": 91,
   "metadata": {},
   "outputs": [],
   "source": [
    "year12 = 2018\n",
    "name12 = 'Denzen Washington'\n",
    "url12 = 'https://almanac.upenn.edu/archive/volumes/v57/n34/comm-washington.html'\n",
    "\n",
    "page12 = requests.get(url12).text\n",
    "soup12 = BeautifulSoup(page12, 'html.parser')\n",
    "name.append(name12)"
   ]
  },
  {
   "cell_type": "code",
   "execution_count": 92,
   "metadata": {},
   "outputs": [],
   "source": [
    "body12 = soup12.find_all('p')[4:-20]\n",
    "\n",
    "speech12 = []\n",
    "for p in body12:\n",
    "    speech12.append(p.text)\n",
    "speech12 = ''.join(speech12)\n",
    "speech12 = speech12.replace('\\n',' ')\n",
    "speech12 = speech12.replace('\\xa0',' ')\n",
    "speech.append(speech12)\n"
   ]
  },
  {
   "cell_type": "markdown",
   "metadata": {},
   "source": [
    "#### Mark Zuckerburg"
   ]
  },
  {
   "cell_type": "code",
   "execution_count": 93,
   "metadata": {},
   "outputs": [],
   "source": [
    "year13 = 2018\n",
    "name13 = 'Mark Zuckerburg'\n",
    "url13 = 'https://qz.com/992048/mark-zuckerbergs-harvard-speech-a-full-transcript-of-the-facebook-ceos-commencement-address/'\n",
    "\n",
    "page13 = requests.get(url13).text\n",
    "soup13 = BeautifulSoup(page13, 'html.parser')\n",
    "name.append(name13)"
   ]
  },
  {
   "cell_type": "code",
   "execution_count": 94,
   "metadata": {},
   "outputs": [],
   "source": [
    "body13 = soup13.find_all('p')[9:-8]\n",
    "\n",
    "speech13 = []\n",
    "for p in body13:\n",
    "    speech13.append(p.text)\n",
    "speech13 = ''.join(speech13)\n",
    "speech13 = speech13.replace('\\n',' ')\n",
    "speech13 = speech13.replace('\\xa0',' ')\n",
    "speech.append(speech13)\n"
   ]
  },
  {
   "cell_type": "markdown",
   "metadata": {},
   "source": [
    "### FRED ROGERS  "
   ]
  },
  {
   "cell_type": "code",
   "execution_count": 95,
   "metadata": {},
   "outputs": [],
   "source": [
    "year14 = 2018\n",
    "name14 = 'FRED ROGERS'\n",
    "url14 = 'https://www.marquette.edu/university-honors/honorary-degrees/rogers-speech.php'\n",
    "\n",
    "page14 = requests.get(url14).text\n",
    "soup14 = BeautifulSoup(page14, 'html.parser')\n",
    "name.append(name14)"
   ]
  },
  {
   "cell_type": "code",
   "execution_count": 96,
   "metadata": {},
   "outputs": [],
   "source": [
    "body14 = soup14.find_all('p')[25:-8]\n",
    "\n",
    "speech14 = []\n",
    "for p in body14:\n",
    "    speech14.append(p.text)\n",
    "speech14 = ''.join(speech14)\n",
    "speech14 = speech14.replace('\\n',' ')\n",
    "speech14 = speech14.replace('\\xa0',' ')\n",
    "speech.append(speech14)\n"
   ]
  },
  {
   "cell_type": "markdown",
   "metadata": {},
   "source": [
    "###  Joe Biden"
   ]
  },
  {
   "cell_type": "code",
   "execution_count": 97,
   "metadata": {},
   "outputs": [],
   "source": [
    "year15 = 2018\n",
    "name15 = 'Joe Biden'\n",
    "url15 = 'http://www2.dailyorange.com/2015/11/full-text-of-joe-bidens-2009-su-commencement-speech/'\n",
    "\n",
    "page15 = requests.get(url15).text\n",
    "soup15 = BeautifulSoup(page15, 'html.parser')\n",
    "name.append(name15)"
   ]
  },
  {
   "cell_type": "code",
   "execution_count": 42,
   "metadata": {},
   "outputs": [],
   "source": [
    "body15 = soup15.find_all('p')[45:-39]\n",
    "\n",
    "speech15 = []\n",
    "for p in body15:\n",
    "    speech15.append(p.text)\n",
    "speech15 = ''.join(speech15)\n",
    "speech15 = speech15.replace('\\n',' ')\n",
    "speech15 = speech15.replace('\\xa0',' ')\n",
    "speech.append(speech15)\n"
   ]
  },
  {
   "cell_type": "markdown",
   "metadata": {},
   "source": [
    "###  David Gergen"
   ]
  },
  {
   "cell_type": "code",
   "execution_count": 43,
   "metadata": {},
   "outputs": [],
   "source": [
    "year16 = 2018\n",
    "name16 = 'David Gergen'\n",
    "url16 = 'https://www.elonnewsnetwork.com/article/2016/05/gergen-elongrad-commencement-speech-full'\n",
    "\n",
    "page16 = requests.get(url16).text\n",
    "soup16 = BeautifulSoup(page16, 'html.parser')\n",
    "name.append(name16)"
   ]
  },
  {
   "cell_type": "code",
   "execution_count": 44,
   "metadata": {},
   "outputs": [],
   "source": [
    "body16 = soup16.find_all('p')[4:-2]\n",
    "\n",
    "speech16 = []\n",
    "for p in body16:\n",
    "    speech16.append(p.text)\n",
    "speech16 = ''.join(speech16)\n",
    "speech16 = speech16.replace('\\n',' ')\n",
    "speech16 = speech16.replace('\\xa0',' ')\n",
    "speech.append(speech16)\n"
   ]
  },
  {
   "cell_type": "markdown",
   "metadata": {},
   "source": [
    "### Toni Morrison "
   ]
  },
  {
   "cell_type": "code",
   "execution_count": 45,
   "metadata": {},
   "outputs": [],
   "source": [
    "year17 = 2018\n",
    "name17 = 'Toni Morrison'\n",
    "url17 = 'http://www.humanity.org/voices/commencements/toni-morrison-wellesley-college-speech-2004'\n",
    "\n",
    "page17 = requests.get(url17).text\n",
    "soup17 = BeautifulSoup(page17, 'html.parser')\n",
    "name.append(name17)"
   ]
  },
  {
   "cell_type": "code",
   "execution_count": 46,
   "metadata": {},
   "outputs": [],
   "source": [
    "body17 = soup17.find_all('p')[1:-1]\n",
    "\n",
    "speech17 = []\n",
    "for p in body17:\n",
    "    speech17.append(p.text)\n",
    "speech17 = ''.join(speech17)\n",
    "speech17 = speech17.replace('\\n',' ')\n",
    "speech17 = speech17.replace('\\xa0',' ')\n",
    "speech.append(speech17)\n"
   ]
  },
  {
   "cell_type": "markdown",
   "metadata": {},
   "source": [
    "### Michael Bloomberg "
   ]
  },
  {
   "cell_type": "code",
   "execution_count": 47,
   "metadata": {},
   "outputs": [],
   "source": [
    "year18 = 2018\n",
    "name18 = 'Michael Bloomberg'\n",
    "url18 = 'https://news.mit.edu/2019/michael-bloomberg-commencement-address-0607'\n",
    "\n",
    "page18 = requests.get(url18).text\n",
    "soup18 = BeautifulSoup(page18, 'html.parser')\n",
    "name.append(name18)"
   ]
  },
  {
   "cell_type": "code",
   "execution_count": 48,
   "metadata": {},
   "outputs": [],
   "source": [
    "body18 = soup18.find_all('p')[4:-9]\n",
    "\n",
    "speech18 = []\n",
    "for p in body18:\n",
    "    speech18.append(p.text)\n",
    "speech18 = ''.join(speech18)\n",
    "speech18 = speech18.replace('\\n',' ')\n",
    "speech18 = speech18.replace('\\xa0',' ')\n",
    "speech.append(speech18)\n"
   ]
  },
  {
   "cell_type": "markdown",
   "metadata": {},
   "source": [
    "### George Saunders"
   ]
  },
  {
   "cell_type": "code",
   "execution_count": 49,
   "metadata": {},
   "outputs": [],
   "source": [
    "year19 = 2018\n",
    "name19 = 'George Saunders'\n",
    "url19 = 'https://www.theladders.com/career-advice/george-saunders-to-syracuses-class-of-2013-accomplishment-is-unreliable'\n",
    "\n",
    "page19 = requests.get(url19).text\n",
    "soup19 = BeautifulSoup(page19, 'html.parser')\n",
    "name.append(name19)"
   ]
  },
  {
   "cell_type": "code",
   "execution_count": 50,
   "metadata": {},
   "outputs": [],
   "source": [
    "body19 = soup19.find_all('p')[2:-3]\n",
    "\n",
    "speech19 = []\n",
    "for p in body19:\n",
    "    speech19.append(p.text)\n",
    "speech19 = ''.join(speech19)\n",
    "speech19 = speech19.replace('\\n',' ')\n",
    "speech19 = speech19.replace('\\xa0',' ')\n",
    "speech.append(speech19)"
   ]
  },
  {
   "cell_type": "markdown",
   "metadata": {},
   "source": [
    "### Condoleezza Rice"
   ]
  },
  {
   "cell_type": "code",
   "execution_count": 51,
   "metadata": {},
   "outputs": [],
   "source": [
    "year20 = 2018\n",
    "name20 = 'Condoleezza Rice'\n",
    "url20 = 'https://www.smu.edu/News/2012/commencement-Condoleezza-Rice-speech'\n",
    "\n",
    "page20 = requests.get(url20).text\n",
    "soup20 = BeautifulSoup(page20, 'html.parser')\n",
    "name.append(name20)"
   ]
  },
  {
   "cell_type": "code",
   "execution_count": 52,
   "metadata": {},
   "outputs": [],
   "source": [
    "body20 = soup20.find_all('p')[5:-2]\n",
    "\n",
    "speech20 = []\n",
    "for p in body20:\n",
    "    speech20.append(p.text)\n",
    "speech20 = ''.join(speech20)\n",
    "speech20 = speech20.replace('\\n',' ')\n",
    "speech20 = speech20.replace('\\xa0',' ')\n",
    "speech.append(speech20)\n"
   ]
  },
  {
   "cell_type": "markdown",
   "metadata": {},
   "source": [
    "### Elizabeth Warren "
   ]
  },
  {
   "cell_type": "code",
   "execution_count": 53,
   "metadata": {},
   "outputs": [],
   "source": [
    "year21 = 2018\n",
    "name21 = 'Elizabeth Warren'\n",
    "url21 = 'https://www.warren.senate.gov/newsroom/press-releases/warren-delivers-commencement-address-at-morgan-state-university'\n",
    "\n",
    "page21 = requests.get(url21).text\n",
    "soup21 = BeautifulSoup(page21, 'html.parser')\n",
    "name.append(name21)"
   ]
  },
  {
   "cell_type": "code",
   "execution_count": 54,
   "metadata": {},
   "outputs": [],
   "source": [
    "body21 = soup21.find_all('p')[5:-2]\n",
    "\n",
    "speech21 = []\n",
    "for p in body21:\n",
    "    speech21.append(p.text)\n",
    "speech21 = ''.join(speech21)\n",
    "speech21 = speech21.replace('\\n',' ')\n",
    "speech21 = speech21.replace('\\xa0',' ')\n",
    "speech.append(speech21)\n"
   ]
  },
  {
   "cell_type": "markdown",
   "metadata": {},
   "source": [
    "### John Green"
   ]
  },
  {
   "cell_type": "code",
   "execution_count": 55,
   "metadata": {},
   "outputs": [],
   "source": [
    "year22 = 2018\n",
    "name22 = 'John Green'\n",
    "url22 = 'https://www.kenyon.edu/news/archive/learn-to-listen/'\n",
    "\n",
    "page22 = requests.get(url22).text\n",
    "soup22 = BeautifulSoup(page22, 'html.parser')\n",
    "name.append(name22)"
   ]
  },
  {
   "cell_type": "code",
   "execution_count": 56,
   "metadata": {},
   "outputs": [],
   "source": [
    "body22 = soup22.find_all('p')[2:-2]\n",
    "\n",
    "speech22 = []\n",
    "for p in body22:\n",
    "    speech22.append(p.text)\n",
    "speech22 = ''.join(speech22)\n",
    "speech22 = speech22.replace('\\n',' ')\n",
    "speech22 = speech22.replace('\\xa0',' ')\n",
    "speech.append(speech22)\n"
   ]
  },
  {
   "cell_type": "markdown",
   "metadata": {},
   "source": [
    "### Larry Page"
   ]
  },
  {
   "cell_type": "code",
   "execution_count": 57,
   "metadata": {},
   "outputs": [],
   "source": [
    "year23 = 2018\n",
    "name23 = 'Larry Page'\n",
    "url23 = 'https://googlepress.blogspot.com/2009/05/larry-pages-university-of-michigan.html'\n",
    "\n",
    "page23 = requests.get(url23).text\n",
    "soup23 = BeautifulSoup(page23, 'html.parser')\n",
    "name.append(name23)"
   ]
  },
  {
   "cell_type": "code",
   "execution_count": 58,
   "metadata": {},
   "outputs": [],
   "source": [
    "body23 = soup23.find_all('p')[2:-1]\n",
    "\n",
    "speech23 = []\n",
    "for p in body23:\n",
    "    speech23.append(p.text)\n",
    "speech23 = ''.join(speech23)\n",
    "speech23 = speech23.replace('\\n',' ')\n",
    "speech23 = speech23.replace('\\xa0',' ')\n",
    "speech.append(speech23)\n"
   ]
  },
  {
   "cell_type": "code",
   "execution_count": 59,
   "metadata": {},
   "outputs": [
    {
     "ename": "ValueError",
     "evalue": "Length of values (24) does not match length of index (23)",
     "output_type": "error",
     "traceback": [
      "\u001b[1;31m---------------------------------------------------------------------------\u001b[0m",
      "\u001b[1;31mValueError\u001b[0m                                Traceback (most recent call last)",
      "\u001b[1;32m<ipython-input-59-d01a21bc5b44>\u001b[0m in \u001b[0;36m<module>\u001b[1;34m\u001b[0m\n\u001b[0;32m      1\u001b[0m \u001b[0mdf\u001b[0m \u001b[1;33m=\u001b[0m \u001b[0mpd\u001b[0m\u001b[1;33m.\u001b[0m\u001b[0mDataFrame\u001b[0m\u001b[1;33m(\u001b[0m\u001b[0mcolumns\u001b[0m \u001b[1;33m=\u001b[0m \u001b[1;33m[\u001b[0m\u001b[1;34m'name'\u001b[0m\u001b[1;33m,\u001b[0m \u001b[1;34m'speech'\u001b[0m\u001b[1;33m]\u001b[0m\u001b[1;33m)\u001b[0m\u001b[1;33m\u001b[0m\u001b[1;33m\u001b[0m\u001b[0m\n\u001b[0;32m      2\u001b[0m \u001b[0mdf\u001b[0m\u001b[1;33m[\u001b[0m\u001b[1;34m'name'\u001b[0m\u001b[1;33m]\u001b[0m \u001b[1;33m=\u001b[0m \u001b[0mname\u001b[0m\u001b[1;33m\u001b[0m\u001b[1;33m\u001b[0m\u001b[0m\n\u001b[1;32m----> 3\u001b[1;33m \u001b[0mdf\u001b[0m\u001b[1;33m[\u001b[0m\u001b[1;34m'speech'\u001b[0m\u001b[1;33m]\u001b[0m \u001b[1;33m=\u001b[0m \u001b[0mspeech\u001b[0m\u001b[1;33m\u001b[0m\u001b[1;33m\u001b[0m\u001b[0m\n\u001b[0m\u001b[0;32m      4\u001b[0m \u001b[0mdf\u001b[0m\u001b[1;33m\u001b[0m\u001b[1;33m\u001b[0m\u001b[0m\n",
      "\u001b[1;32m~\\Anaconda3\\lib\\site-packages\\pandas\\core\\frame.py\u001b[0m in \u001b[0;36m__setitem__\u001b[1;34m(self, key, value)\u001b[0m\n\u001b[0;32m   3038\u001b[0m         \u001b[1;32melse\u001b[0m\u001b[1;33m:\u001b[0m\u001b[1;33m\u001b[0m\u001b[1;33m\u001b[0m\u001b[0m\n\u001b[0;32m   3039\u001b[0m             \u001b[1;31m# set column\u001b[0m\u001b[1;33m\u001b[0m\u001b[1;33m\u001b[0m\u001b[1;33m\u001b[0m\u001b[0m\n\u001b[1;32m-> 3040\u001b[1;33m             \u001b[0mself\u001b[0m\u001b[1;33m.\u001b[0m\u001b[0m_set_item\u001b[0m\u001b[1;33m(\u001b[0m\u001b[0mkey\u001b[0m\u001b[1;33m,\u001b[0m \u001b[0mvalue\u001b[0m\u001b[1;33m)\u001b[0m\u001b[1;33m\u001b[0m\u001b[1;33m\u001b[0m\u001b[0m\n\u001b[0m\u001b[0;32m   3041\u001b[0m \u001b[1;33m\u001b[0m\u001b[0m\n\u001b[0;32m   3042\u001b[0m     \u001b[1;32mdef\u001b[0m \u001b[0m_setitem_slice\u001b[0m\u001b[1;33m(\u001b[0m\u001b[0mself\u001b[0m\u001b[1;33m,\u001b[0m \u001b[0mkey\u001b[0m\u001b[1;33m:\u001b[0m \u001b[0mslice\u001b[0m\u001b[1;33m,\u001b[0m \u001b[0mvalue\u001b[0m\u001b[1;33m)\u001b[0m\u001b[1;33m:\u001b[0m\u001b[1;33m\u001b[0m\u001b[1;33m\u001b[0m\u001b[0m\n",
      "\u001b[1;32m~\\Anaconda3\\lib\\site-packages\\pandas\\core\\frame.py\u001b[0m in \u001b[0;36m_set_item\u001b[1;34m(self, key, value)\u001b[0m\n\u001b[0;32m   3114\u001b[0m         \"\"\"\n\u001b[0;32m   3115\u001b[0m         \u001b[0mself\u001b[0m\u001b[1;33m.\u001b[0m\u001b[0m_ensure_valid_index\u001b[0m\u001b[1;33m(\u001b[0m\u001b[0mvalue\u001b[0m\u001b[1;33m)\u001b[0m\u001b[1;33m\u001b[0m\u001b[1;33m\u001b[0m\u001b[0m\n\u001b[1;32m-> 3116\u001b[1;33m         \u001b[0mvalue\u001b[0m \u001b[1;33m=\u001b[0m \u001b[0mself\u001b[0m\u001b[1;33m.\u001b[0m\u001b[0m_sanitize_column\u001b[0m\u001b[1;33m(\u001b[0m\u001b[0mkey\u001b[0m\u001b[1;33m,\u001b[0m \u001b[0mvalue\u001b[0m\u001b[1;33m)\u001b[0m\u001b[1;33m\u001b[0m\u001b[1;33m\u001b[0m\u001b[0m\n\u001b[0m\u001b[0;32m   3117\u001b[0m         \u001b[0mNDFrame\u001b[0m\u001b[1;33m.\u001b[0m\u001b[0m_set_item\u001b[0m\u001b[1;33m(\u001b[0m\u001b[0mself\u001b[0m\u001b[1;33m,\u001b[0m \u001b[0mkey\u001b[0m\u001b[1;33m,\u001b[0m \u001b[0mvalue\u001b[0m\u001b[1;33m)\u001b[0m\u001b[1;33m\u001b[0m\u001b[1;33m\u001b[0m\u001b[0m\n\u001b[0;32m   3118\u001b[0m \u001b[1;33m\u001b[0m\u001b[0m\n",
      "\u001b[1;32m~\\Anaconda3\\lib\\site-packages\\pandas\\core\\frame.py\u001b[0m in \u001b[0;36m_sanitize_column\u001b[1;34m(self, key, value, broadcast)\u001b[0m\n\u001b[0;32m   3762\u001b[0m \u001b[1;33m\u001b[0m\u001b[0m\n\u001b[0;32m   3763\u001b[0m             \u001b[1;31m# turn me into an ndarray\u001b[0m\u001b[1;33m\u001b[0m\u001b[1;33m\u001b[0m\u001b[1;33m\u001b[0m\u001b[0m\n\u001b[1;32m-> 3764\u001b[1;33m             \u001b[0mvalue\u001b[0m \u001b[1;33m=\u001b[0m \u001b[0msanitize_index\u001b[0m\u001b[1;33m(\u001b[0m\u001b[0mvalue\u001b[0m\u001b[1;33m,\u001b[0m \u001b[0mself\u001b[0m\u001b[1;33m.\u001b[0m\u001b[0mindex\u001b[0m\u001b[1;33m)\u001b[0m\u001b[1;33m\u001b[0m\u001b[1;33m\u001b[0m\u001b[0m\n\u001b[0m\u001b[0;32m   3765\u001b[0m             \u001b[1;32mif\u001b[0m \u001b[1;32mnot\u001b[0m \u001b[0misinstance\u001b[0m\u001b[1;33m(\u001b[0m\u001b[0mvalue\u001b[0m\u001b[1;33m,\u001b[0m \u001b[1;33m(\u001b[0m\u001b[0mnp\u001b[0m\u001b[1;33m.\u001b[0m\u001b[0mndarray\u001b[0m\u001b[1;33m,\u001b[0m \u001b[0mIndex\u001b[0m\u001b[1;33m)\u001b[0m\u001b[1;33m)\u001b[0m\u001b[1;33m:\u001b[0m\u001b[1;33m\u001b[0m\u001b[1;33m\u001b[0m\u001b[0m\n\u001b[0;32m   3766\u001b[0m                 \u001b[1;32mif\u001b[0m \u001b[0misinstance\u001b[0m\u001b[1;33m(\u001b[0m\u001b[0mvalue\u001b[0m\u001b[1;33m,\u001b[0m \u001b[0mlist\u001b[0m\u001b[1;33m)\u001b[0m \u001b[1;32mand\u001b[0m \u001b[0mlen\u001b[0m\u001b[1;33m(\u001b[0m\u001b[0mvalue\u001b[0m\u001b[1;33m)\u001b[0m \u001b[1;33m>\u001b[0m \u001b[1;36m0\u001b[0m\u001b[1;33m:\u001b[0m\u001b[1;33m\u001b[0m\u001b[1;33m\u001b[0m\u001b[0m\n",
      "\u001b[1;32m~\\Anaconda3\\lib\\site-packages\\pandas\\core\\internals\\construction.py\u001b[0m in \u001b[0;36msanitize_index\u001b[1;34m(data, index)\u001b[0m\n\u001b[0;32m    746\u001b[0m     \u001b[1;32mif\u001b[0m \u001b[0mlen\u001b[0m\u001b[1;33m(\u001b[0m\u001b[0mdata\u001b[0m\u001b[1;33m)\u001b[0m \u001b[1;33m!=\u001b[0m \u001b[0mlen\u001b[0m\u001b[1;33m(\u001b[0m\u001b[0mindex\u001b[0m\u001b[1;33m)\u001b[0m\u001b[1;33m:\u001b[0m\u001b[1;33m\u001b[0m\u001b[1;33m\u001b[0m\u001b[0m\n\u001b[0;32m    747\u001b[0m         raise ValueError(\n\u001b[1;32m--> 748\u001b[1;33m             \u001b[1;34m\"Length of values \"\u001b[0m\u001b[1;33m\u001b[0m\u001b[1;33m\u001b[0m\u001b[0m\n\u001b[0m\u001b[0;32m    749\u001b[0m             \u001b[1;34mf\"({len(data)}) \"\u001b[0m\u001b[1;33m\u001b[0m\u001b[1;33m\u001b[0m\u001b[0m\n\u001b[0;32m    750\u001b[0m             \u001b[1;34m\"does not match length of index \"\u001b[0m\u001b[1;33m\u001b[0m\u001b[1;33m\u001b[0m\u001b[0m\n",
      "\u001b[1;31mValueError\u001b[0m: Length of values (24) does not match length of index (23)"
     ]
    }
   ],
   "source": [
    "df = pd.DataFrame(columns = ['name', 'speech'])\n",
    "df['name'] = name\n",
    "df['speech'] = speech\n",
    "df"
   ]
  },
  {
   "cell_type": "markdown",
   "metadata": {},
   "source": [
    "# Preprocessing"
   ]
  },
  {
   "cell_type": "markdown",
   "metadata": {},
   "source": [
    "Prior to studying the text data collected, the individual speeches have to be preprocessed. This is mainly done with the NLTK library, which is used to implement stop word removal, lower casing, punctuation removal and lemmatization for each speech."
   ]
  },
  {
   "cell_type": "code",
   "execution_count": null,
   "metadata": {},
   "outputs": [],
   "source": [
    "#preprocessing \n",
    "\n",
    "import nltk\n",
    "import re\n",
    "from nltk.stem import WordNetLemmatizer\n",
    "nltk.download('stopwords')\n",
    "stopwords = nltk.corpus.stopwords.words('english')\n",
    "new_stopwords = ['people', 'president', 'thank', 'thanks', 'really','graduation', 'great', 'good']\n",
    "stopwords.extend(new_stopwords)\n",
    "stem = WordNetLemmatizer()\n",
    "\n",
    "def clean_text(text):\n",
    "    \n",
    "    # Remove special characters\n",
    "    text = re.sub(r'\\W', ' ', str(text))\n",
    "    \n",
    "    # remove all single characters\n",
    "    text = re.sub(r'\\s+[a-zA-Z]\\s+', ' ', text)\n",
    "    \n",
    "    # replace multiple spaces with single space\n",
    "    text = re.sub(r'\\s+', ' ', text, flags=re.I)\n",
    "    \n",
    "    # convert to lower cast\n",
    "    text = text.lower()\n",
    "    \n",
    "    # Lemmatization and stop word removal\n",
    "    tokens = text.split()\n",
    "    tokens = [word for word in tokens if word not in stopwords]\n",
    "    tokens = [stem.lemmatize(word) for word in tokens]\n",
    "    tokens = [word for word in tokens if len(word) > 5]\n",
    "    \n",
    "    return tokens\n",
    "\n",
    "speech_clean = []\n",
    "for doc in speech:\n",
    "    clean_doc = clean_text(doc)\n",
    "    speech_clean.append(clean_doc)\n"
   ]
  },
  {
   "cell_type": "markdown",
   "metadata": {},
   "source": [
    "## Exploratory Data Analysis "
   ]
  },
  {
   "cell_type": "markdown",
   "metadata": {},
   "source": [
    "To come up with a profile of a \"typical\" speech, a word count can be performed to see which words occur most frequently in commencement speeches. This word count, which is visualized with a word cloud, will give insight into what orators tend to emphasize on and what topics they like to explore during their speeches. "
   ]
  },
  {
   "cell_type": "markdown",
   "metadata": {},
   "source": [
    "### Which words are most frequently used? "
   ]
  },
  {
   "cell_type": "code",
   "execution_count": 1,
   "metadata": {},
   "outputs": [
    {
     "ename": "NameError",
     "evalue": "name 'speech_clean' is not defined",
     "output_type": "error",
     "traceback": [
      "\u001b[1;31m---------------------------------------------------------------------------\u001b[0m",
      "\u001b[1;31mNameError\u001b[0m                                 Traceback (most recent call last)",
      "\u001b[1;32m<ipython-input-1-973a2249a6bc>\u001b[0m in \u001b[0;36m<module>\u001b[1;34m\u001b[0m\n\u001b[0;32m      2\u001b[0m \u001b[1;33m\u001b[0m\u001b[0m\n\u001b[0;32m      3\u001b[0m \u001b[0mcorpus\u001b[0m \u001b[1;33m=\u001b[0m \u001b[1;33m[\u001b[0m\u001b[1;33m]\u001b[0m\u001b[1;33m\u001b[0m\u001b[1;33m\u001b[0m\u001b[0m\n\u001b[1;32m----> 4\u001b[1;33m \u001b[1;32mfor\u001b[0m \u001b[0ms\u001b[0m \u001b[1;32min\u001b[0m \u001b[0mspeech_clean\u001b[0m\u001b[1;33m:\u001b[0m\u001b[1;33m\u001b[0m\u001b[1;33m\u001b[0m\u001b[0m\n\u001b[0m\u001b[0;32m      5\u001b[0m     \u001b[1;32mfor\u001b[0m \u001b[0mword\u001b[0m \u001b[1;32min\u001b[0m \u001b[0ms\u001b[0m\u001b[1;33m:\u001b[0m\u001b[1;33m\u001b[0m\u001b[1;33m\u001b[0m\u001b[0m\n\u001b[0;32m      6\u001b[0m         \u001b[0mcorpus\u001b[0m\u001b[1;33m.\u001b[0m\u001b[0mappend\u001b[0m\u001b[1;33m(\u001b[0m\u001b[0mword\u001b[0m\u001b[1;33m)\u001b[0m\u001b[1;33m\u001b[0m\u001b[1;33m\u001b[0m\u001b[0m\n",
      "\u001b[1;31mNameError\u001b[0m: name 'speech_clean' is not defined"
     ]
    }
   ],
   "source": [
    "import collections\n",
    "\n",
    "corpus = []\n",
    "for s in speech_clean:\n",
    "    for word in s:\n",
    "        corpus.append(word)\n",
    "corpus = \" \".join(corpus)\n",
    "corpus\n",
    "counter = collections.Counter(corpus.split())\n",
    "\n",
    "counter.most_common(10)"
   ]
  },
  {
   "cell_type": "code",
   "execution_count": 65,
   "metadata": {},
   "outputs": [
    {
     "data": {
      "text/plain": [
       "<wordcloud.wordcloud.WordCloud at 0x1f77d093708>"
      ]
     },
     "execution_count": 65,
     "metadata": {},
     "output_type": "execute_result"
    }
   ],
   "source": [
    "from wordcloud import WordCloud, STOPWORDS\n",
    "import matplotlib.pyplot as plt\n",
    "\n",
    "stopwords = STOPWORDS\n",
    "wc = WordCloud(\n",
    "    background_color='white',\n",
    "    stopwords=stopwords,\n",
    "    height = 600,\n",
    "    width = 400\n",
    ")\n",
    "\n",
    "\n",
    "wc.generate(corpus)\n",
    "wc.to_file('wordcloud_basic.png')"
   ]
  },
  {
   "cell_type": "markdown",
   "metadata": {},
   "source": [
    "## Sentiment Analysis"
   ]
  },
  {
   "cell_type": "markdown",
   "metadata": {},
   "source": [
    "Next, we explore the overall sentiment the speaker uses when delivering their message. When giving a speech to inspire a young audience, do orators tend to be optimistic and gleeful at the potential prospects of the audience members, or do they adopt a more solemn tone with the hopes of educating and inspiring the audience? The textblob library is used to perform a sentiment analysis on the text data. "
   ]
  },
  {
   "cell_type": "code",
   "execution_count": 67,
   "metadata": {},
   "outputs": [],
   "source": [
    "from textblob import TextBlob\n"
   ]
  },
  {
   "cell_type": "code",
   "execution_count": 68,
   "metadata": {},
   "outputs": [
    {
     "data": {
      "text/html": [
       "<div>\n",
       "<style scoped>\n",
       "    .dataframe tbody tr th:only-of-type {\n",
       "        vertical-align: middle;\n",
       "    }\n",
       "\n",
       "    .dataframe tbody tr th {\n",
       "        vertical-align: top;\n",
       "    }\n",
       "\n",
       "    .dataframe thead th {\n",
       "        text-align: right;\n",
       "    }\n",
       "</style>\n",
       "<table border=\"1\" class=\"dataframe\">\n",
       "  <thead>\n",
       "    <tr style=\"text-align: right;\">\n",
       "      <th></th>\n",
       "      <th>name</th>\n",
       "      <th>speech</th>\n",
       "      <th>polarity</th>\n",
       "      <th>subjectivity</th>\n",
       "    </tr>\n",
       "  </thead>\n",
       "  <tbody>\n",
       "    <tr>\n",
       "      <th>0</th>\n",
       "      <td>Donald Trump</td>\n",
       "      <td>Thank you very much, everybody. And congratula...</td>\n",
       "      <td>0.248768</td>\n",
       "      <td>0.626529</td>\n",
       "    </tr>\n",
       "    <tr>\n",
       "      <th>1</th>\n",
       "      <td>Mumia Abu-Jamal</td>\n",
       "      <td>Dear Fellow Goddard-ites, Students, Graduate...</td>\n",
       "      <td>0.192968</td>\n",
       "      <td>0.422757</td>\n",
       "    </tr>\n",
       "    <tr>\n",
       "      <th>2</th>\n",
       "      <td>Mike Pence</td>\n",
       "      <td>And I want to thank you, Jerry.  Thank you for...</td>\n",
       "      <td>0.104101</td>\n",
       "      <td>0.381914</td>\n",
       "    </tr>\n",
       "    <tr>\n",
       "      <th>3</th>\n",
       "      <td>Robert F Smith</td>\n",
       "      <td>President Kerwin, Provost Bass, Dean Goldgeier...</td>\n",
       "      <td>0.096141</td>\n",
       "      <td>0.520906</td>\n",
       "    </tr>\n",
       "    <tr>\n",
       "      <th>4</th>\n",
       "      <td>Conan O Brien</td>\n",
       "      <td>Before I begin, I must point out that behind m...</td>\n",
       "      <td>0.077375</td>\n",
       "      <td>0.537213</td>\n",
       "    </tr>\n",
       "    <tr>\n",
       "      <th>5</th>\n",
       "      <td>Kumail Nanjiani</td>\n",
       "      <td>President Kington, Board of Trustees, faculty,...</td>\n",
       "      <td>0.075218</td>\n",
       "      <td>0.547738</td>\n",
       "    </tr>\n",
       "    <tr>\n",
       "      <th>6</th>\n",
       "      <td>Stephen Colbert</td>\n",
       "      <td>Thank you. Thank you very much. First of all, ...</td>\n",
       "      <td>0.077863</td>\n",
       "      <td>0.405611</td>\n",
       "    </tr>\n",
       "    <tr>\n",
       "      <th>7</th>\n",
       "      <td>Tim Cook</td>\n",
       "      <td>Thanks President Drake. Good afternoon OSU.Bef...</td>\n",
       "      <td>-0.041071</td>\n",
       "      <td>0.540051</td>\n",
       "    </tr>\n",
       "    <tr>\n",
       "      <th>8</th>\n",
       "      <td>Mindy Kaling</td>\n",
       "      <td>Good morning to the Class of 2018, the faculty...</td>\n",
       "      <td>0.155869</td>\n",
       "      <td>0.593343</td>\n",
       "    </tr>\n",
       "    <tr>\n",
       "      <th>9</th>\n",
       "      <td>ADMIRAL WILLIAM H. MCRAVEN</td>\n",
       "      <td>President Powers, Provost Fenves, Deans, membe...</td>\n",
       "      <td>0.003852</td>\n",
       "      <td>0.459409</td>\n",
       "    </tr>\n",
       "    <tr>\n",
       "      <th>10</th>\n",
       "      <td>Barack Obama</td>\n",
       "      <td>Hi, everybody. Congratulations to H.B.C.U. cla...</td>\n",
       "      <td>0.067378</td>\n",
       "      <td>0.413821</td>\n",
       "    </tr>\n",
       "    <tr>\n",
       "      <th>11</th>\n",
       "      <td>Denzen Washington</td>\n",
       "      <td>President Gutmann; Provost Price; Board Chair ...</td>\n",
       "      <td>0.004569</td>\n",
       "      <td>0.502314</td>\n",
       "    </tr>\n",
       "    <tr>\n",
       "      <th>12</th>\n",
       "      <td>Mark Zuckerburg</td>\n",
       "      <td>President Faust, Board of Overseers, faculty, ...</td>\n",
       "      <td>0.125366</td>\n",
       "      <td>0.447644</td>\n",
       "    </tr>\n",
       "    <tr>\n",
       "      <th>13</th>\n",
       "      <td>FRED ROGERS</td>\n",
       "      <td>For a long time I wondered why I felt like bow...</td>\n",
       "      <td>0.181387</td>\n",
       "      <td>0.560683</td>\n",
       "    </tr>\n",
       "    <tr>\n",
       "      <th>14</th>\n",
       "      <td>Joe Biden</td>\n",
       "      <td>Thank you. Good to be home. Chancellor Cantor,...</td>\n",
       "      <td>0.050005</td>\n",
       "      <td>0.435241</td>\n",
       "    </tr>\n",
       "    <tr>\n",
       "      <th>15</th>\n",
       "      <td>David Gergen</td>\n",
       "      <td>I would like to depart from the tradition of s...</td>\n",
       "      <td>0.084944</td>\n",
       "      <td>0.506588</td>\n",
       "    </tr>\n",
       "    <tr>\n",
       "      <th>16</th>\n",
       "      <td>Toni Morrison</td>\n",
       "      <td>I have to confess to all of you, Madame Presid...</td>\n",
       "      <td>0.149744</td>\n",
       "      <td>0.453779</td>\n",
       "    </tr>\n",
       "    <tr>\n",
       "      <th>17</th>\n",
       "      <td>Michael Bloomberg</td>\n",
       "      <td>As excited as all of you are today, there's a ...</td>\n",
       "      <td>0.098718</td>\n",
       "      <td>0.454579</td>\n",
       "    </tr>\n",
       "    <tr>\n",
       "      <th>18</th>\n",
       "      <td>George Saunders</td>\n",
       "      <td>Down through the ages, a traditional form has ...</td>\n",
       "      <td>0.090024</td>\n",
       "      <td>0.583755</td>\n",
       "    </tr>\n",
       "    <tr>\n",
       "      <th>19</th>\n",
       "      <td>Condoleezza Rice</td>\n",
       "      <td>Thank you very, very much. Thank you, Presiden...</td>\n",
       "      <td>0.073173</td>\n",
       "      <td>0.518778</td>\n",
       "    </tr>\n",
       "    <tr>\n",
       "      <th>20</th>\n",
       "      <td>Elizabeth Warren</td>\n",
       "      <td>Thank you President Wilson. Thank you Board of...</td>\n",
       "      <td>0.100328</td>\n",
       "      <td>0.510365</td>\n",
       "    </tr>\n",
       "    <tr>\n",
       "      <th>21</th>\n",
       "      <td>John Green</td>\n",
       "      <td>President Decatur, faculty, staff, parents, fr...</td>\n",
       "      <td>0.097024</td>\n",
       "      <td>0.618723</td>\n",
       "    </tr>\n",
       "    <tr>\n",
       "      <th>22</th>\n",
       "      <td>Larry Page</td>\n",
       "      <td>Class of 2009! First I’d like you to get up, w...</td>\n",
       "      <td>0.162883</td>\n",
       "      <td>0.535568</td>\n",
       "    </tr>\n",
       "  </tbody>\n",
       "</table>\n",
       "</div>"
      ],
      "text/plain": [
       "                          name  \\\n",
       "0                 Donald Trump   \n",
       "1              Mumia Abu-Jamal   \n",
       "2                   Mike Pence   \n",
       "3               Robert F Smith   \n",
       "4                Conan O Brien   \n",
       "5              Kumail Nanjiani   \n",
       "6              Stephen Colbert   \n",
       "7                     Tim Cook   \n",
       "8                 Mindy Kaling   \n",
       "9   ADMIRAL WILLIAM H. MCRAVEN   \n",
       "10                Barack Obama   \n",
       "11           Denzen Washington   \n",
       "12             Mark Zuckerburg   \n",
       "13                 FRED ROGERS   \n",
       "14                   Joe Biden   \n",
       "15                David Gergen   \n",
       "16               Toni Morrison   \n",
       "17           Michael Bloomberg   \n",
       "18             George Saunders   \n",
       "19            Condoleezza Rice   \n",
       "20            Elizabeth Warren   \n",
       "21                  John Green   \n",
       "22                  Larry Page   \n",
       "\n",
       "                                               speech  polarity  subjectivity  \n",
       "0   Thank you very much, everybody. And congratula...  0.248768      0.626529  \n",
       "1     Dear Fellow Goddard-ites, Students, Graduate...  0.192968      0.422757  \n",
       "2   And I want to thank you, Jerry.  Thank you for...  0.104101      0.381914  \n",
       "3   President Kerwin, Provost Bass, Dean Goldgeier...  0.096141      0.520906  \n",
       "4   Before I begin, I must point out that behind m...  0.077375      0.537213  \n",
       "5   President Kington, Board of Trustees, faculty,...  0.075218      0.547738  \n",
       "6   Thank you. Thank you very much. First of all, ...  0.077863      0.405611  \n",
       "7   Thanks President Drake. Good afternoon OSU.Bef... -0.041071      0.540051  \n",
       "8   Good morning to the Class of 2018, the faculty...  0.155869      0.593343  \n",
       "9   President Powers, Provost Fenves, Deans, membe...  0.003852      0.459409  \n",
       "10  Hi, everybody. Congratulations to H.B.C.U. cla...  0.067378      0.413821  \n",
       "11  President Gutmann; Provost Price; Board Chair ...  0.004569      0.502314  \n",
       "12  President Faust, Board of Overseers, faculty, ...  0.125366      0.447644  \n",
       "13  For a long time I wondered why I felt like bow...  0.181387      0.560683  \n",
       "14  Thank you. Good to be home. Chancellor Cantor,...  0.050005      0.435241  \n",
       "15  I would like to depart from the tradition of s...  0.084944      0.506588  \n",
       "16  I have to confess to all of you, Madame Presid...  0.149744      0.453779  \n",
       "17  As excited as all of you are today, there's a ...  0.098718      0.454579  \n",
       "18  Down through the ages, a traditional form has ...  0.090024      0.583755  \n",
       "19  Thank you very, very much. Thank you, Presiden...  0.073173      0.518778  \n",
       "20  Thank you President Wilson. Thank you Board of...  0.100328      0.510365  \n",
       "21  President Decatur, faculty, staff, parents, fr...  0.097024      0.618723  \n",
       "22  Class of 2009! First I’d like you to get up, w...  0.162883      0.535568  "
      ]
     },
     "execution_count": 68,
     "metadata": {},
     "output_type": "execute_result"
    }
   ],
   "source": [
    "# polarity: -1 is negative, 1 is positive\n",
    "# subjectivity: 0 is fact, 1 is subjective (opinion) \n",
    "\n",
    "speech_clean_text = []\n",
    "for speech in speech_clean:\n",
    "    str_text = \" \".join(speech)\n",
    "    speech_clean_text.append(str_text)\n",
    "polarity = []\n",
    "subjectivity = []\n",
    "for text in speech_clean_text:\n",
    "    polarity.append(TextBlob(text).sentiment.polarity)\n",
    "    subjectivity.append(TextBlob(text).sentiment.subjectivity)\n",
    "\n",
    "df['polarity'] = polarity\n",
    "df['subjectivity'] = subjectivity\n",
    "\n",
    "df"
   ]
  },
  {
   "cell_type": "code",
   "execution_count": 69,
   "metadata": {},
   "outputs": [
    {
     "data": {
      "text/plain": [
       "Text(0, 0.5, 'Subjectivity')"
      ]
     },
     "execution_count": 69,
     "metadata": {},
     "output_type": "execute_result"
    },
    {
     "data": {
      "image/png": "[encoded data removed]",
      "text/plain": [
       "<Figure size 1440x720 with 1 Axes>"
      ]
     },
     "metadata": {
      "needs_background": "light"
     },
     "output_type": "display_data"
    }
   ],
   "source": [
    "import seaborn as sns\n",
    "\n",
    "plt.figure(figsize=(20,10))\n",
    "\n",
    "plt.scatter(polarity, subjectivity)\n",
    "\n",
    "for i, name in enumerate(df['name']):\n",
    "    plt.annotate(name, (polarity[i], subjectivity[i]), rotation=0)\n",
    "    \n",
    "plt.title('Sentiment Analysis', fontsize=20)\n",
    "plt.xlabel('Polarity')\n",
    "plt.ylabel('Subjectivity')"
   ]
  },
  {
   "cell_type": "markdown",
   "metadata": {},
   "source": [
    "## Sentiment Analysis Results"
   ]
  },
  {
   "cell_type": "markdown",
   "metadata": {},
   "source": [
    "In terms of sentiment, all of the speakers adopt a rather neutral stance, with polarity values ranging from -0.05 to 0.25. On face value, this implies that the speeches focused less on invoking emotion and more on relaying wisdom onto the audience. This is unsurprising for people like Elizabeth Warren and Tim Cook who give speeches that are direct and to the point. However, these results draw scepticism since some of the orators chosen are known for being entertaining when given the change to speak. People like John Green and Connor O'Brien often use humor in their deliveries, yet their sentiment scores are only around 0.1. "
   ]
  },
  {
   "cell_type": "markdown",
   "metadata": {},
   "source": [
    "## Topic Modeling (All Words)"
   ]
  },
  {
   "cell_type": "markdown",
   "metadata": {},
   "source": [
    "Finally, the study aims to see if these speeches can be categorized based on the messages that they deliver. Can we distinguish commencement speeches from each other simply based on their root message? To answer this, the Latent Derechlet Allocation (LDA) method is used to cluster the speeches into groups. The number of groups the speeches are split into will be decided by which LDA returns the most meaningful results. "
   ]
  },
  {
   "cell_type": "code",
   "execution_count": 70,
   "metadata": {},
   "outputs": [],
   "source": [
    "import gensim\n",
    "from gensim import corpora"
   ]
  },
  {
   "cell_type": "code",
   "execution_count": 71,
   "metadata": {},
   "outputs": [],
   "source": [
    "# document matrix\n",
    "input_dict = corpora.Dictionary(speech_clean)\n",
    "\n",
    "# convert to bag of words\n",
    "input_corpus = [input_dict.doc2bow(token, allow_update=True) for token in speech_clean]"
   ]
  },
  {
   "cell_type": "code",
   "execution_count": 72,
   "metadata": {},
   "outputs": [
    {
     "data": {
      "text/plain": [
       "'ability'"
      ]
     },
     "execution_count": 72,
     "metadata": {},
     "output_type": "execute_result"
    }
   ],
   "source": [
    "input_dict.get(0)"
   ]
  },
  {
   "cell_type": "code",
   "execution_count": 77,
   "metadata": {},
   "outputs": [],
   "source": [
    "# LDA Model\n",
    "\n",
    "lda_model = gensim.models.ldamodel.LdaModel(input_corpus, num_topics=4, id2word=input_dict)"
   ]
  },
  {
   "cell_type": "code",
   "execution_count": 78,
   "metadata": {},
   "outputs": [
    {
     "data": {
      "text/plain": [
       "[(0,\n",
       "  '0.006*\"change\" + 0.005*\"college\" + 0.005*\"school\" + 0.005*\"something\" + 0.004*\"remember\" + 0.004*\"generation\" + 0.003*\"country\" + 0.003*\"applause\" + 0.003*\"parent\" + 0.003*\"american\"'),\n",
       " (1,\n",
       "  '0.007*\"family\" + 0.006*\"change\" + 0.006*\"school\" + 0.005*\"remember\" + 0.005*\"college\" + 0.005*\"america\" + 0.005*\"country\" + 0.004*\"something\" + 0.004*\"generation\" + 0.004*\"little\"'),\n",
       " (2,\n",
       "  '0.007*\"change\" + 0.005*\"remember\" + 0.004*\"family\" + 0.004*\"applause\" + 0.004*\"school\" + 0.004*\"america\" + 0.004*\"student\" + 0.004*\"friend\" + 0.004*\"little\" + 0.004*\"country\"'),\n",
       " (3,\n",
       "  '0.005*\"generation\" + 0.005*\"american\" + 0.005*\"applause\" + 0.005*\"change\" + 0.005*\"family\" + 0.004*\"america\" + 0.004*\"something\" + 0.004*\"community\" + 0.004*\"everyone\" + 0.004*\"student\"')]"
      ]
     },
     "execution_count": 78,
     "metadata": {},
     "output_type": "execute_result"
    }
   ],
   "source": [
    "topics = lda_model.print_topics(num_words=10)\n",
    "topics"
   ]
  },
  {
   "cell_type": "markdown",
   "metadata": {},
   "source": [
    "# Topic Modeling Results"
   ]
  },
  {
   "cell_type": "markdown",
   "metadata": {},
   "source": [
    "Surprisingly, the LDA has not yielded any meaningful results regardless of the number of groups the speeches are split into. A lot of the groups share key words with each other, making it difficult to identify an actual topic for each group. Upon a thorough study of all the speeches used in the study, this is a reasonable outcome. Although the orators, the audience, and the nature of the delivery of the speeches differ, the actual content of the speeches are glaringly similar. Each speech starts with some generic introduction, followed by a personal adecdote, and ends with a key message that the audience should take from their story. The language used was very similar and the key takeaway message were very similar amoung the speakers (e.g. never give up, treat each other with kindness).  "
   ]
  },
  {
   "cell_type": "markdown",
   "metadata": {},
   "source": [
    "# Conclusion"
   ]
  },
  {
   "cell_type": "markdown",
   "metadata": {},
   "source": []
  }
 ],
 "metadata": {
  "kernelspec": {
   "display_name": "Python 3",
   "language": "python",
   "name": "python3"
  },
  "language_info": {
   "codemirror_mode": {
    "name": "ipython",
    "version": 3
   },
   "file_extension": ".py",
   "mimetype": "text/x-python",
   "name": "python",
   "nbconvert_exporter": "python",
   "pygments_lexer": "ipython3",
   "version": "3.7.9"
  }
 },
 "nbformat": 4,
 "nbformat_minor": 4
}
